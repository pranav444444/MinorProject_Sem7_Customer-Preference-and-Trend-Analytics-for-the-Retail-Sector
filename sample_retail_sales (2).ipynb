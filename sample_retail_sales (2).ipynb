{
  "cells": [
    {
      "cell_type": "markdown",
      "metadata": {
        "id": "NGvAnaTc_un7"
      },
      "source": [
        "**Phase 1: Data Preparation **"
      ]
    },
    {
      "cell_type": "code",
      "execution_count": 1,
      "metadata": {
        "colab": {
          "base_uri": "https://localhost:8080/",
          "height": 515
        },
        "id": "x8RTQ2pkuJKx",
        "outputId": "5f1084db-b127-4ae2-f82c-c29019ce140f"
      },
      "outputs": [
        {
          "name": "stdout",
          "output_type": "stream",
          "text": [
            "Shape: (302010, 30)\n"
          ]
        },
        {
          "data": {
            "text/html": [
              "<div>\n",
              "<style scoped>\n",
              "    .dataframe tbody tr th:only-of-type {\n",
              "        vertical-align: middle;\n",
              "    }\n",
              "\n",
              "    .dataframe tbody tr th {\n",
              "        vertical-align: top;\n",
              "    }\n",
              "\n",
              "    .dataframe thead th {\n",
              "        text-align: right;\n",
              "    }\n",
              "</style>\n",
              "<table border=\"1\" class=\"dataframe\">\n",
              "  <thead>\n",
              "    <tr style=\"text-align: right;\">\n",
              "      <th></th>\n",
              "      <th>Transaction_ID</th>\n",
              "      <th>Customer_ID</th>\n",
              "      <th>Name</th>\n",
              "      <th>Email</th>\n",
              "      <th>Phone</th>\n",
              "      <th>Address</th>\n",
              "      <th>City</th>\n",
              "      <th>State</th>\n",
              "      <th>Zipcode</th>\n",
              "      <th>Country</th>\n",
              "      <th>...</th>\n",
              "      <th>Total_Amount</th>\n",
              "      <th>Product_Category</th>\n",
              "      <th>Product_Brand</th>\n",
              "      <th>Product_Type</th>\n",
              "      <th>Feedback</th>\n",
              "      <th>Shipping_Method</th>\n",
              "      <th>Payment_Method</th>\n",
              "      <th>Order_Status</th>\n",
              "      <th>Ratings</th>\n",
              "      <th>products</th>\n",
              "    </tr>\n",
              "  </thead>\n",
              "  <tbody>\n",
              "    <tr>\n",
              "      <th>0</th>\n",
              "      <td>8691788.0</td>\n",
              "      <td>37249.0</td>\n",
              "      <td>Michelle Harrington</td>\n",
              "      <td>Ebony39@gmail.com</td>\n",
              "      <td>1.414787e+09</td>\n",
              "      <td>3959 Amanda Burgs</td>\n",
              "      <td>Dortmund</td>\n",
              "      <td>Berlin</td>\n",
              "      <td>77985.0</td>\n",
              "      <td>Germany</td>\n",
              "      <td>...</td>\n",
              "      <td>324.086270</td>\n",
              "      <td>Clothing</td>\n",
              "      <td>Nike</td>\n",
              "      <td>Shorts</td>\n",
              "      <td>Excellent</td>\n",
              "      <td>Same-Day</td>\n",
              "      <td>Debit Card</td>\n",
              "      <td>Shipped</td>\n",
              "      <td>5.0</td>\n",
              "      <td>Cycling shorts</td>\n",
              "    </tr>\n",
              "    <tr>\n",
              "      <th>1</th>\n",
              "      <td>2174773.0</td>\n",
              "      <td>69749.0</td>\n",
              "      <td>Kelsey Hill</td>\n",
              "      <td>Mark36@gmail.com</td>\n",
              "      <td>6.852900e+09</td>\n",
              "      <td>82072 Dawn Centers</td>\n",
              "      <td>Nottingham</td>\n",
              "      <td>England</td>\n",
              "      <td>99071.0</td>\n",
              "      <td>UK</td>\n",
              "      <td>...</td>\n",
              "      <td>806.707815</td>\n",
              "      <td>Electronics</td>\n",
              "      <td>Samsung</td>\n",
              "      <td>Tablet</td>\n",
              "      <td>Excellent</td>\n",
              "      <td>Standard</td>\n",
              "      <td>Credit Card</td>\n",
              "      <td>Processing</td>\n",
              "      <td>4.0</td>\n",
              "      <td>Lenovo Tab</td>\n",
              "    </tr>\n",
              "    <tr>\n",
              "      <th>2</th>\n",
              "      <td>6679610.0</td>\n",
              "      <td>30192.0</td>\n",
              "      <td>Scott Jensen</td>\n",
              "      <td>Shane85@gmail.com</td>\n",
              "      <td>8.362160e+09</td>\n",
              "      <td>4133 Young Canyon</td>\n",
              "      <td>Geelong</td>\n",
              "      <td>New South Wales</td>\n",
              "      <td>75929.0</td>\n",
              "      <td>Australia</td>\n",
              "      <td>...</td>\n",
              "      <td>1063.432799</td>\n",
              "      <td>Books</td>\n",
              "      <td>Penguin Books</td>\n",
              "      <td>Children's</td>\n",
              "      <td>Average</td>\n",
              "      <td>Same-Day</td>\n",
              "      <td>Credit Card</td>\n",
              "      <td>Processing</td>\n",
              "      <td>2.0</td>\n",
              "      <td>Sports equipment</td>\n",
              "    </tr>\n",
              "    <tr>\n",
              "      <th>3</th>\n",
              "      <td>7232460.0</td>\n",
              "      <td>62101.0</td>\n",
              "      <td>Joseph Miller</td>\n",
              "      <td>Mary34@gmail.com</td>\n",
              "      <td>2.776752e+09</td>\n",
              "      <td>8148 Thomas Creek Suite 100</td>\n",
              "      <td>Edmonton</td>\n",
              "      <td>Ontario</td>\n",
              "      <td>88420.0</td>\n",
              "      <td>Canada</td>\n",
              "      <td>...</td>\n",
              "      <td>2466.854021</td>\n",
              "      <td>Home Decor</td>\n",
              "      <td>Home Depot</td>\n",
              "      <td>Tools</td>\n",
              "      <td>Excellent</td>\n",
              "      <td>Standard</td>\n",
              "      <td>PayPal</td>\n",
              "      <td>Processing</td>\n",
              "      <td>4.0</td>\n",
              "      <td>Utility knife</td>\n",
              "    </tr>\n",
              "    <tr>\n",
              "      <th>4</th>\n",
              "      <td>4983775.0</td>\n",
              "      <td>27901.0</td>\n",
              "      <td>Debra Coleman</td>\n",
              "      <td>Charles30@gmail.com</td>\n",
              "      <td>9.098268e+09</td>\n",
              "      <td>5813 Lori Ports Suite 269</td>\n",
              "      <td>Bristol</td>\n",
              "      <td>England</td>\n",
              "      <td>48704.0</td>\n",
              "      <td>UK</td>\n",
              "      <td>...</td>\n",
              "      <td>248.553049</td>\n",
              "      <td>Grocery</td>\n",
              "      <td>Nestle</td>\n",
              "      <td>Chocolate</td>\n",
              "      <td>Bad</td>\n",
              "      <td>Standard</td>\n",
              "      <td>Cash</td>\n",
              "      <td>Shipped</td>\n",
              "      <td>1.0</td>\n",
              "      <td>Chocolate cookies</td>\n",
              "    </tr>\n",
              "  </tbody>\n",
              "</table>\n",
              "<p>5 rows × 30 columns</p>\n",
              "</div>"
            ],
            "text/plain": [
              "   Transaction_ID  Customer_ID                 Name                Email  \\\n",
              "0       8691788.0      37249.0  Michelle Harrington    Ebony39@gmail.com   \n",
              "1       2174773.0      69749.0          Kelsey Hill     Mark36@gmail.com   \n",
              "2       6679610.0      30192.0         Scott Jensen    Shane85@gmail.com   \n",
              "3       7232460.0      62101.0        Joseph Miller     Mary34@gmail.com   \n",
              "4       4983775.0      27901.0        Debra Coleman  Charles30@gmail.com   \n",
              "\n",
              "          Phone                      Address        City            State  \\\n",
              "0  1.414787e+09            3959 Amanda Burgs    Dortmund           Berlin   \n",
              "1  6.852900e+09           82072 Dawn Centers  Nottingham          England   \n",
              "2  8.362160e+09            4133 Young Canyon     Geelong  New South Wales   \n",
              "3  2.776752e+09  8148 Thomas Creek Suite 100    Edmonton          Ontario   \n",
              "4  9.098268e+09    5813 Lori Ports Suite 269     Bristol          England   \n",
              "\n",
              "   Zipcode    Country  ...  Total_Amount Product_Category  Product_Brand  \\\n",
              "0  77985.0    Germany  ...    324.086270         Clothing           Nike   \n",
              "1  99071.0         UK  ...    806.707815      Electronics        Samsung   \n",
              "2  75929.0  Australia  ...   1063.432799            Books  Penguin Books   \n",
              "3  88420.0     Canada  ...   2466.854021       Home Decor     Home Depot   \n",
              "4  48704.0         UK  ...    248.553049          Grocery         Nestle   \n",
              "\n",
              "  Product_Type   Feedback  Shipping_Method Payment_Method Order_Status  \\\n",
              "0       Shorts  Excellent         Same-Day     Debit Card      Shipped   \n",
              "1       Tablet  Excellent         Standard    Credit Card   Processing   \n",
              "2   Children's    Average         Same-Day    Credit Card   Processing   \n",
              "3        Tools  Excellent         Standard         PayPal   Processing   \n",
              "4    Chocolate        Bad         Standard           Cash      Shipped   \n",
              "\n",
              "   Ratings           products  \n",
              "0      5.0     Cycling shorts  \n",
              "1      4.0         Lenovo Tab  \n",
              "2      2.0   Sports equipment  \n",
              "3      4.0      Utility knife  \n",
              "4      1.0  Chocolate cookies  \n",
              "\n",
              "[5 rows x 30 columns]"
            ]
          },
          "execution_count": 1,
          "metadata": {},
          "output_type": "execute_result"
        }
      ],
      "source": [
        "import pandas as pd\n",
        "\n",
        "# Replace with your file path in Google Colab or upload manually\n",
        "file_path =r\"C:\\\\Users\\\\Mukesh\\\\Desktop\\\\SEM 7 PROJECT PROPOSALS\\\\new_retail_data.csv\"\n",
        "\n",
        "df = pd.read_csv(file_path)\n",
        "print(\"Shape:\", df.shape)\n",
        "df.head()\n"
      ]
    },
    {
      "cell_type": "code",
      "execution_count": 2,
      "metadata": {
        "colab": {
          "base_uri": "https://localhost:8080/"
        },
        "id": "52lwy0ShwijS",
        "outputId": "e5b22425-9695-4d55-a1cf-bdc81231eee8"
      },
      "outputs": [
        {
          "name": "stdout",
          "output_type": "stream",
          "text": [
            "Duplicates: 4\n"
          ]
        }
      ],
      "source": [
        "# Remove duplicates\n",
        "print(\"Duplicates:\", df.duplicated().sum())\n",
        "df.drop_duplicates(inplace=True)\n",
        "\n"
      ]
    },
    {
      "cell_type": "code",
      "execution_count": 3,
      "metadata": {
        "colab": {
          "base_uri": "https://localhost:8080/"
        },
        "id": "pVb71tOIx0XP",
        "outputId": "ded38b2b-83d5-4825-d4cc-a37631730356"
      },
      "outputs": [
        {
          "name": "stdout",
          "output_type": "stream",
          "text": [
            "Duplicate Transaction_IDs: 7544\n",
            "Duplicate Emails: 249108\n",
            "Duplicate Phone Numbers: 2710\n"
          ]
        }
      ],
      "source": [
        "# Check if any Transaction_IDs are duplicated\n",
        "print(\"Duplicate Transaction_IDs:\", df['Transaction_ID'].duplicated().sum())\n",
        "\n",
        "# Check if any Emails are duplicated\n",
        "print(\"Duplicate Emails:\", df['Email'].duplicated().sum())\n",
        "\n",
        "# Optional: Check if any Phone numbers are duplicated\n",
        "print(\"Duplicate Phone Numbers:\", df['Phone'].duplicated().sum())\n"
      ]
    },
    {
      "cell_type": "code",
      "execution_count": 4,
      "metadata": {
        "colab": {
          "base_uri": "https://localhost:8080/"
        },
        "id": "AJvd5YMgykcx",
        "outputId": "54468bb9-5c40-4225-9341-77a00a0eb61f"
      },
      "outputs": [
        {
          "name": "stdout",
          "output_type": "stream",
          "text": [
            " Cleaned: Duplicate Transaction_IDs removed.\n",
            "New shape: (294462, 30)\n"
          ]
        }
      ],
      "source": [
        "# Remove duplicate transactions\n",
        "df = df.drop_duplicates(subset='Transaction_ID', keep='first')\n",
        "\n",
        "print(\" Cleaned: Duplicate Transaction_IDs removed.\")\n",
        "print(\"New shape:\", df.shape)\n"
      ]
    },
    {
      "cell_type": "markdown",
      "metadata": {
        "id": "0Vp6eqrttZqe"
      },
      "source": [
        "You removed any repeated transactions, based on Transaction_ID (which should be unique).\n",
        "\n",
        "If the same Transaction_ID appears more than once, only the first occurrence is kept, rest are deleted.\n",
        "\n"
      ]
    },
    {
      "cell_type": "code",
      "execution_count": 5,
      "metadata": {
        "colab": {
          "base_uri": "https://localhost:8080/"
        },
        "id": "7rTc2vMQwx3f",
        "outputId": "6959b3c9-6e79-43e4-e337-89eafe70c856"
      },
      "outputs": [
        {
          "name": "stdout",
          "output_type": "stream",
          "text": [
            "Null values:\n",
            " Transaction_ID        1\n",
            "Customer_ID         296\n",
            "Name                373\n",
            "Email               336\n",
            "Phone               350\n",
            "Address             310\n",
            "City                244\n",
            "State               271\n",
            "Zipcode             331\n",
            "Country             266\n",
            "Age                 169\n",
            "Gender              310\n",
            "Income              282\n",
            "Customer_Segment    208\n",
            "Date                351\n",
            "Year                345\n",
            "Month               265\n",
            "Time                336\n",
            "Total_Purchases     354\n",
            "Amount              347\n",
            "Total_Amount        343\n",
            "Product_Category    275\n",
            "Product_Brand       270\n",
            "Product_Type          0\n",
            "Feedback            180\n",
            "Shipping_Method     330\n",
            "Payment_Method      290\n",
            "Order_Status        232\n",
            "Ratings             180\n",
            "products              0\n",
            "dtype: int64\n"
          ]
        }
      ],
      "source": [
        "# Check for nulls\n",
        "nulls = df.isnull().sum()\n",
        "print(\"Null values:\\n\", nulls)\n"
      ]
    },
    {
      "cell_type": "code",
      "execution_count": 6,
      "metadata": {
        "id": "EkZTS11hzPcT"
      },
      "outputs": [],
      "source": [
        "# Drop rows missing critical info (Transaction ID, Customer ID)\n",
        "df.dropna(subset=['Transaction_ID', 'Customer_ID', 'Amount', 'Total_Amount'], inplace=True)\n"
      ]
    },
    {
      "cell_type": "markdown",
      "metadata": {
        "id": "a4dBe1HeuNhV"
      },
      "source": [
        "Removed rows where any of these 4 critical columns were missing:\n",
        "\n",
        "Transaction_ID\n",
        "\n",
        "Customer_ID\n",
        "\n",
        "Amount\n",
        "\n",
        "Total_Amount\n",
        "\n",
        " These columns are essential to track transactions and calculate revenue. If they're missing, that row is not usable — so you dropped it.\n",
        "\n"
      ]
    },
    {
      "cell_type": "code",
      "execution_count": 7,
      "metadata": {
        "colab": {
          "base_uri": "https://localhost:8080/"
        },
        "id": "j76okpzBzkZm",
        "outputId": "f0c7d358-444d-4eda-d94d-070b276392f7"
      },
      "outputs": [
        {
          "name": "stdout",
          "output_type": "stream",
          "text": [
            "Null values:\n",
            " Transaction_ID        0\n",
            "Customer_ID           0\n",
            "Name                370\n",
            "Email               336\n",
            "Phone               350\n",
            "Address             308\n",
            "City                244\n",
            "State               269\n",
            "Zipcode             330\n",
            "Country             264\n",
            "Age                 169\n",
            "Gender              309\n",
            "Income              282\n",
            "Customer_Segment    208\n",
            "Date                350\n",
            "Year                345\n",
            "Month               264\n",
            "Time                335\n",
            "Total_Purchases     354\n",
            "Amount                0\n",
            "Total_Amount          0\n",
            "Product_Category    275\n",
            "Product_Brand       269\n",
            "Product_Type          0\n",
            "Feedback            180\n",
            "Shipping_Method     327\n",
            "Payment_Method      290\n",
            "Order_Status        232\n",
            "Ratings             180\n",
            "products              0\n",
            "dtype: int64\n"
          ]
        }
      ],
      "source": [
        "# Check for nulls\n",
        "nulls = df.isnull().sum()\n",
        "print(\"Null values:\\n\", nulls)"
      ]
    },
    {
      "cell_type": "code",
      "execution_count": 8,
      "metadata": {
        "id": "Dnif9bkCzoy3"
      },
      "outputs": [],
      "source": [
        "# Ratings → Convert to numeric + fill with median\n",
        "df['Ratings'] = pd.to_numeric(df['Ratings'], errors='coerce')\n",
        "df['Ratings'] = df['Ratings'].fillna(df['Ratings'].median())\n",
        "\n",
        "# Feedback, Shipping, Payment, Order\n",
        "df['Feedback'] = df['Feedback'].fillna('Unknown')\n",
        "df['Shipping_Method'] = df['Shipping_Method'].fillna('Standard')  # or df.mode()\n",
        "df['Payment_Method'] = df['Payment_Method'].fillna('Unknown')\n",
        "df['Order_Status'] = df['Order_Status'].fillna('Unknown')\n"
      ]
    },
    {
      "cell_type": "markdown",
      "metadata": {
        "id": "U3jeCfyzwnP-"
      },
      "source": [
        " Converted Ratings column to numeric (in case it had strings or wrong format).\n",
        "\n",
        " Filled missing values with the median rating, which avoids extreme values (outliers).\n",
        "\n",
        " You replaced missing text fields with default labels like \"Unknown\" or \"Standard\".\n",
        "\n",
        "This keeps the data usable without deleting rows.\n",
        "\n"
      ]
    },
    {
      "cell_type": "code",
      "execution_count": 9,
      "metadata": {
        "id": "ZawDFcg60QnX"
      },
      "outputs": [],
      "source": [
        "# Age → median; Gender & Income → mode; Customer_Segment → 'Regular'\n",
        "df['Age'] = df['Age'].fillna(df['Age'].median())\n",
        "df['Gender'] = df['Gender'].fillna(df['Gender'].mode()[0])\n",
        "df['Income'] = df['Income'].fillna(df['Income'].mode()[0])\n",
        "df['Customer_Segment'] = df['Customer_Segment'].fillna('Regular')\n"
      ]
    },
    {
      "cell_type": "markdown",
      "metadata": {
        "id": "yxDB-j4C05hb"
      },
      "source": [
        "Handle Address & Location (Optional)\n",
        "If you're using maps, geo charts or state-wise sales → fill\n",
        "Else, you can leave or drop rows if only address is being analyzed."
      ]
    },
    {
      "cell_type": "code",
      "execution_count": 10,
      "metadata": {
        "id": "unVU1yL20U_D"
      },
      "outputs": [],
      "source": [
        "df[['City', 'State', 'Zipcode', 'Country']] = df[['City', 'State', 'Zipcode', 'Country']].fillna('Unknown')\n",
        "df[['Name', 'Email', 'Phone', 'Address']] = df[['Name', 'Email', 'Phone', 'Address']].fillna('N/A')\n"
      ]
    },
    {
      "cell_type": "code",
      "execution_count": 11,
      "metadata": {
        "id": "xXhXc-hU02jL"
      },
      "outputs": [],
      "source": [
        "df['Product_Category'] = df['Product_Category'].fillna('Misc')\n",
        "df['Product_Brand'] = df['Product_Brand'].fillna('Unknown')\n"
      ]
    },
    {
      "cell_type": "code",
      "execution_count": 12,
      "metadata": {
        "id": "YT4rsSiJ1Etg"
      },
      "outputs": [],
      "source": [
        "df.dropna(subset=['Total_Purchases'], inplace=True)\n"
      ]
    },
    {
      "cell_type": "code",
      "execution_count": 13,
      "metadata": {
        "colab": {
          "base_uri": "https://localhost:8080/"
        },
        "id": "-Oi4NrKB2zAD",
        "outputId": "67f2a071-1a7a-4b95-8bbe-ee6a730ca4ef"
      },
      "outputs": [
        {
          "name": "stdout",
          "output_type": "stream",
          "text": [
            " df_full shape (all cleaned data): (293123, 30)\n",
            " df_time shape (only date/time valid): (177335, 32)\n"
          ]
        }
      ],
      "source": [
        "#  Step 1: DO NOT remove null Dates yet — just clean everything\n",
        "# (Assuming all earlier cleaning is already done above this cell)\n",
        "\n",
        "#  First: Save full cleaned version BEFORE touching 'Date'\n",
        "df_full = df.copy()  # Includes rows with or without valid Date/Time\n",
        "\n",
        "#  Step 2: Now handle Date & Time parsing (safely, inplace)\n",
        "df['Date'] = pd.to_datetime(df['Date'], errors='coerce', dayfirst=False)\n",
        "\n",
        "#  Parse Time separately — and extract Hour from it\n",
        "df['Time'] = pd.to_datetime(df['Time'], format='%H:%M:%S', errors='coerce').dt.time\n",
        "df['Hour'] = pd.to_datetime(df['Time'], format='%H:%M:%S', errors='coerce').dt.hour\n",
        "#Converted string Date into real date format (datetime)\n",
        "\n",
        "#Converted Time column and extracted hour (like 15 from 15:30:00)\n",
        "\n",
        "#These help in time-based analysis like trends and peak shopping hours\n",
        "\n",
        "#  Step 3: Time Slot assignment (based on Hour)\n",
        "def get_time_slot(hour):\n",
        "    if pd.isna(hour):\n",
        "        return 'Unknown'\n",
        "    if 5 <= hour < 12:\n",
        "        return 'Morning (5AM-12PM)'\n",
        "    elif 12 <= hour < 17:\n",
        "        return 'Afternoon (12PM-5PM)'\n",
        "    elif 17 <= hour < 21:\n",
        "        return 'Evening (5PM-9PM)'\n",
        "    else:\n",
        "        return 'Night (9PM-5AM)'\n",
        "\n",
        "df['Time_Slot'] = df['Hour'].apply(get_time_slot)\n",
        "\n",
        "#  Step 4: Extract Year and Month — only if Date is valid\n",
        "df['Year'] = df['Date'].dt.year\n",
        "df['Month'] = df['Date'].dt.month_name()\n",
        "\n",
        "#This will helps to do year-wise and month-wise trend analysis.\n",
        "\n",
        "#Very useful for line charts and time series dashboards.\n",
        "\n",
        "#  Step 5: Create df_time with only valid rows (for EDA 12, trends etc.)\n",
        "df_time = df.dropna(subset=['Date', 'Year', 'Month', 'Time'])\n",
        "\n",
        "#  Final check\n",
        "print(\" df_full shape (all cleaned data):\", df_full.shape)\n",
        "print(\" df_time shape (only date/time valid):\", df_time.shape)\n"
      ]
    },
    {
      "cell_type": "code",
      "execution_count": 14,
      "metadata": {
        "colab": {
          "base_uri": "https://localhost:8080/"
        },
        "id": "hIVPuEUE3_6q",
        "outputId": "8d547c97-ca47-4534-dbb5-8788d8412a49"
      },
      "outputs": [
        {
          "name": "stdout",
          "output_type": "stream",
          "text": [
            "0   2023-09-18\n",
            "1   2023-12-31\n",
            "2   2023-04-26\n",
            "5   2023-09-21\n",
            "6   2023-06-26\n",
            "Name: Date, dtype: datetime64[ns]\n",
            "<class 'pandas._libs.tslibs.timestamps.Timestamp'>\n"
          ]
        }
      ],
      "source": [
        "print(df_time['Date'].head())\n",
        "print(type(df_time['Date'].iloc[0]))\n"
      ]
    },
    {
      "cell_type": "code",
      "execution_count": 15,
      "metadata": {
        "colab": {
          "base_uri": "https://localhost:8080/"
        },
        "id": "dgplX-tQttAH",
        "outputId": "9ec5fc09-c8c9-4b22-b48f-e77cb09798ab"
      },
      "outputs": [
        {
          "name": "stdout",
          "output_type": "stream",
          "text": [
            " Remaining nulls:\n",
            " Transaction_ID        0\n",
            "Customer_ID           0\n",
            "Name                  0\n",
            "Email                 0\n",
            "Phone                 0\n",
            "Address               0\n",
            "City                  0\n",
            "State                 0\n",
            "Zipcode               0\n",
            "Country               0\n",
            "Age                   0\n",
            "Gender                0\n",
            "Income                0\n",
            "Customer_Segment      0\n",
            "Date                350\n",
            "Year                345\n",
            "Month               260\n",
            "Time                335\n",
            "Total_Purchases       0\n",
            "Amount                0\n",
            "Total_Amount          0\n",
            "Product_Category      0\n",
            "Product_Brand         0\n",
            "Product_Type          0\n",
            "Feedback              0\n",
            "Shipping_Method       0\n",
            "Payment_Method        0\n",
            "Order_Status          0\n",
            "Ratings               0\n",
            "products              0\n",
            "dtype: int64\n",
            "Final dataset shape: (293123, 30)\n"
          ]
        }
      ],
      "source": [
        "print(\" Remaining nulls:\\n\", df_full.isnull().sum())\n",
        "print(\"Final dataset shape:\", df_full.shape)"
      ]
    },
    {
      "cell_type": "code",
      "execution_count": 16,
      "metadata": {
        "colab": {
          "base_uri": "https://localhost:8080/"
        },
        "id": "0yAi-Um1x6si",
        "outputId": "7fc4db8f-6a7b-4190-ed0d-91f4998414b8"
      },
      "outputs": [
        {
          "name": "stdout",
          "output_type": "stream",
          "text": [
            "✅ Remaining nulls:\n",
            " Transaction_ID        0\n",
            "Customer_ID           0\n",
            "Name                  0\n",
            "Email                 0\n",
            "Phone                 0\n",
            "Address               0\n",
            "City                  0\n",
            "State                 0\n",
            "Zipcode               0\n",
            "Country               0\n",
            "Age                   0\n",
            "Gender                0\n",
            "Income                0\n",
            "Customer_Segment      0\n",
            "Date                350\n",
            "Year                345\n",
            "Month               260\n",
            "Time                335\n",
            "Total_Purchases       0\n",
            "Amount                0\n",
            "Total_Amount          0\n",
            "Product_Category      0\n",
            "Product_Brand         0\n",
            "Product_Type          0\n",
            "Feedback              0\n",
            "Shipping_Method       0\n",
            "Payment_Method        0\n",
            "Order_Status          0\n",
            "Ratings               0\n",
            "products              0\n",
            "dtype: int64\n",
            "Final cleaned dataset shape: (293123, 30)\n"
          ]
        }
      ],
      "source": [
        "df_full = df_full.dropna(subset=['Name', 'Email', 'Phone', 'Address'])\n",
        "print(\"✅ Remaining nulls:\\n\", df_full.isnull().sum())\n",
        "print(\"Final cleaned dataset shape:\", df_full.shape)"
      ]
    },
    {
      "cell_type": "code",
      "execution_count": 17,
      "metadata": {
        "colab": {
          "base_uri": "https://localhost:8080/"
        },
        "id": "uDHwgFLExz1B",
        "outputId": "983f8667-cdb9-4f66-f76a-cb3881fb84b7"
      },
      "outputs": [
        {
          "name": "stdout",
          "output_type": "stream",
          "text": [
            " Remaining nulls:\n",
            " Transaction_ID      0\n",
            "Customer_ID         0\n",
            "Name                0\n",
            "Email               0\n",
            "Phone               0\n",
            "Address             0\n",
            "City                0\n",
            "State               0\n",
            "Zipcode             0\n",
            "Country             0\n",
            "Age                 0\n",
            "Gender              0\n",
            "Income              0\n",
            "Customer_Segment    0\n",
            "Date                0\n",
            "Year                0\n",
            "Month               0\n",
            "Time                0\n",
            "Total_Purchases     0\n",
            "Amount              0\n",
            "Total_Amount        0\n",
            "Product_Category    0\n",
            "Product_Brand       0\n",
            "Product_Type        0\n",
            "Feedback            0\n",
            "Shipping_Method     0\n",
            "Payment_Method      0\n",
            "Order_Status        0\n",
            "Ratings             0\n",
            "products            0\n",
            "Hour                0\n",
            "Time_Slot           0\n",
            "dtype: int64\n",
            "Final cleaned dataset shape: (177335, 32)\n"
          ]
        }
      ],
      "source": [
        "df_time = df_time.dropna(subset=['Name', 'Email', 'Phone', 'Address'])\n",
        "print(\" Remaining nulls:\\n\", df_time.isnull().sum())\n",
        "print(\"Final cleaned dataset shape:\", df_time.shape)\n"
      ]
    },
    {
      "cell_type": "markdown",
      "metadata": {
        "id": "BDfyvzSAG-MY"
      },
      "source": [
        "df_full ➤ for demographics, segments, products\n",
        "\n",
        "df_time ➤ for anything involving date, month, time"
      ]
    },
    {
      "cell_type": "code",
      "execution_count": 18,
      "metadata": {
        "id": "gZXkd9nXKgZL"
      },
      "outputs": [],
      "source": [
        "df_full = df.copy()  # Save this cleaned, full dataset\n",
        "\n",
        "\n"
      ]
    },
    {
      "cell_type": "code",
      "execution_count": 19,
      "metadata": {
        "colab": {
          "base_uri": "https://localhost:8080/"
        },
        "id": "fJH-SEopNKdi",
        "outputId": "ae929b21-ea17-4665-c10c-57fdba55fd34"
      },
      "outputs": [
        {
          "name": "stdout",
          "output_type": "stream",
          "text": [
            "(293123, 32)\n",
            "(177335, 32)\n"
          ]
        }
      ],
      "source": [
        "print(df_full.shape)\n",
        "print(df_time.shape)"
      ]
    },
    {
      "cell_type": "code",
      "execution_count": 20,
      "metadata": {
        "colab": {
          "base_uri": "https://localhost:8080/"
        },
        "id": "lVFTnb4NS7Uz",
        "outputId": "e4fcd3d6-3f1e-47ea-94e0-73ae8a2eee72"
      },
      "outputs": [
        {
          "name": "stdout",
          "output_type": "stream",
          "text": [
            " Both CSVs exported successfully!\n",
            " df_full_cleaned.csv shape: (293123, 32)\n",
            " df_time_cleaned.csv shape: (177335, 32)\n"
          ]
        }
      ],
      "source": [
        "#  Export cleaned full dataset (with all rows)\n",
        "df_full.to_csv(\"df_full_cleaned.csv\", index=False)\n",
        "\n",
        "#  Export filtered time-based dataset (only rows with valid Date & Time)\n",
        "df_time.to_csv(\"df_time_cleaned.csv\", index=False)\n",
        "\n",
        "print(\" Both CSVs exported successfully!\")\n",
        "print(\" df_full_cleaned.csv shape:\", df_full.shape)\n",
        "print(\" df_time_cleaned.csv shape:\", df_time.shape)\n"
      ]
    },
    {
      "cell_type": "markdown",
      "metadata": {
        "id": "3FMwqyBWKfje"
      },
      "source": [
        "**PHASE 2 - EDA**"
      ]
    },
    {
      "cell_type": "code",
      "execution_count": 21,
      "metadata": {
        "colab": {
          "base_uri": "https://localhost:8080/"
        },
        "id": "BsMZXo_S1Lix",
        "outputId": "da3d981c-85bd-421f-d5ce-89bf5a2d00fa"
      },
      "outputs": [
        {
          "name": "stdout",
          "output_type": "stream",
          "text": [
            "Transaction_ID             float64\n",
            "Customer_ID                float64\n",
            "Name                        object\n",
            "Email                       object\n",
            "Phone                       object\n",
            "Address                     object\n",
            "City                        object\n",
            "State                       object\n",
            "Zipcode                     object\n",
            "Country                     object\n",
            "Age                        float64\n",
            "Gender                      object\n",
            "Income                      object\n",
            "Customer_Segment            object\n",
            "Date                datetime64[ns]\n",
            "Year                       float64\n",
            "Month                       object\n",
            "Time                        object\n",
            "Total_Purchases            float64\n",
            "Amount                     float64\n",
            "Total_Amount               float64\n",
            "Product_Category            object\n",
            "Product_Brand               object\n",
            "Product_Type                object\n",
            "Feedback                    object\n",
            "Shipping_Method             object\n",
            "Payment_Method              object\n",
            "Order_Status                object\n",
            "Ratings                    float64\n",
            "products                    object\n",
            "Hour                       float64\n",
            "Time_Slot                   object\n",
            "dtype: object\n",
            "\n",
            "Customer Segments:\n",
            " Customer_Segment\n",
            "Regular    142785\n",
            "New         88389\n",
            "Premium     61949\n",
            "Name: count, dtype: int64\n",
            "\n",
            "Income Levels:\n",
            " Income\n",
            "Medium    126933\n",
            "Low        93094\n",
            "High       73096\n",
            "Name: count, dtype: int64\n",
            "\n",
            "Shipping Methods:\n",
            " Shipping_Method\n",
            "Same-Day    101094\n",
            "Express      99300\n",
            "Standard     92729\n",
            "Name: count, dtype: int64\n"
          ]
        }
      ],
      "source": [
        "# 🔍 Preview data types (helps during schema design for SQL & Power BI)\n",
        "print(df_time.dtypes)\n",
        "\n",
        "# 📊 Check value distributions in key categorical columns\n",
        "print(\"\\nCustomer Segments:\\n\", df_full['Customer_Segment'].value_counts())\n",
        "print(\"\\nIncome Levels:\\n\", df_full['Income'].value_counts())\n",
        "print(\"\\nShipping Methods:\\n\", df_full['Shipping_Method'].value_counts())\n"
      ]
    },
    {
      "cell_type": "markdown",
      "metadata": {
        "id": "mOr971tI_3WD"
      },
      "source": [
        "** Phase 2: Exploratory Data Analysis (EDA) in Python** **bold text**"
      ]
    },
    {
      "cell_type": "code",
      "execution_count": 22,
      "metadata": {
        "colab": {
          "base_uri": "https://localhost:8080/"
        },
        "id": "ZobEZVCb8ayC",
        "outputId": "c3fa7a4a-59c6-4268-c299-c3122dffcae7"
      },
      "outputs": [
        {
          "name": "stdout",
          "output_type": "stream",
          "text": [
            "<class 'pandas.core.frame.DataFrame'>\n",
            "Index: 177335 entries, 0 to 299655\n",
            "Data columns (total 32 columns):\n",
            " #   Column            Non-Null Count   Dtype         \n",
            "---  ------            --------------   -----         \n",
            " 0   Transaction_ID    177335 non-null  float64       \n",
            " 1   Customer_ID       177335 non-null  float64       \n",
            " 2   Name              177335 non-null  object        \n",
            " 3   Email             177335 non-null  object        \n",
            " 4   Phone             177335 non-null  object        \n",
            " 5   Address           177335 non-null  object        \n",
            " 6   City              177335 non-null  object        \n",
            " 7   State             177335 non-null  object        \n",
            " 8   Zipcode           177335 non-null  object        \n",
            " 9   Country           177335 non-null  object        \n",
            " 10  Age               177335 non-null  float64       \n",
            " 11  Gender            177335 non-null  object        \n",
            " 12  Income            177335 non-null  object        \n",
            " 13  Customer_Segment  177335 non-null  object        \n",
            " 14  Date              177335 non-null  datetime64[ns]\n",
            " 15  Year              177335 non-null  float64       \n",
            " 16  Month             177335 non-null  object        \n",
            " 17  Time              177335 non-null  object        \n",
            " 18  Total_Purchases   177335 non-null  float64       \n",
            " 19  Amount            177335 non-null  float64       \n",
            " 20  Total_Amount      177335 non-null  float64       \n",
            " 21  Product_Category  177335 non-null  object        \n",
            " 22  Product_Brand     177335 non-null  object        \n",
            " 23  Product_Type      177335 non-null  object        \n",
            " 24  Feedback          177335 non-null  object        \n",
            " 25  Shipping_Method   177335 non-null  object        \n",
            " 26  Payment_Method    177335 non-null  object        \n",
            " 27  Order_Status      177335 non-null  object        \n",
            " 28  Ratings           177335 non-null  float64       \n",
            " 29  products          177335 non-null  object        \n",
            " 30  Hour              177335 non-null  float64       \n",
            " 31  Time_Slot         177335 non-null  object        \n",
            "dtypes: datetime64[ns](1), float64(9), object(22)\n",
            "memory usage: 44.6+ MB\n"
          ]
        }
      ],
      "source": [
        "# Get basic info of data types and non-null counts\n",
        "df_time.info()"
      ]
    },
    {
      "cell_type": "code",
      "execution_count": 23,
      "metadata": {
        "colab": {
          "base_uri": "https://localhost:8080/",
          "height": 320
        },
        "id": "e-4aRJJoAW4x",
        "outputId": "2a7a1738-2c5a-4d6e-def3-ebe7038593bf"
      },
      "outputs": [
        {
          "data": {
            "text/html": [
              "<div>\n",
              "<style scoped>\n",
              "    .dataframe tbody tr th:only-of-type {\n",
              "        vertical-align: middle;\n",
              "    }\n",
              "\n",
              "    .dataframe tbody tr th {\n",
              "        vertical-align: top;\n",
              "    }\n",
              "\n",
              "    .dataframe thead th {\n",
              "        text-align: right;\n",
              "    }\n",
              "</style>\n",
              "<table border=\"1\" class=\"dataframe\">\n",
              "  <thead>\n",
              "    <tr style=\"text-align: right;\">\n",
              "      <th></th>\n",
              "      <th>Transaction_ID</th>\n",
              "      <th>Customer_ID</th>\n",
              "      <th>Age</th>\n",
              "      <th>Date</th>\n",
              "      <th>Year</th>\n",
              "      <th>Total_Purchases</th>\n",
              "      <th>Amount</th>\n",
              "      <th>Total_Amount</th>\n",
              "      <th>Ratings</th>\n",
              "      <th>Hour</th>\n",
              "    </tr>\n",
              "  </thead>\n",
              "  <tbody>\n",
              "    <tr>\n",
              "      <th>count</th>\n",
              "      <td>1.773350e+05</td>\n",
              "      <td>177335.00000</td>\n",
              "      <td>177335.000000</td>\n",
              "      <td>177335</td>\n",
              "      <td>177335.000000</td>\n",
              "      <td>177335.000000</td>\n",
              "      <td>177335.000000</td>\n",
              "      <td>177335.000000</td>\n",
              "      <td>177335.000000</td>\n",
              "      <td>177335.000000</td>\n",
              "    </tr>\n",
              "    <tr>\n",
              "      <th>mean</th>\n",
              "      <td>5.494292e+06</td>\n",
              "      <td>55003.49424</td>\n",
              "      <td>35.334751</td>\n",
              "      <td>2023-09-05 06:24:05.684156672</td>\n",
              "      <td>2023.163284</td>\n",
              "      <td>5.363735</td>\n",
              "      <td>255.276167</td>\n",
              "      <td>1368.096508</td>\n",
              "      <td>3.168844</td>\n",
              "      <td>11.516181</td>\n",
              "    </tr>\n",
              "    <tr>\n",
              "      <th>min</th>\n",
              "      <td>1.000007e+06</td>\n",
              "      <td>10000.00000</td>\n",
              "      <td>18.000000</td>\n",
              "      <td>2023-03-13 00:00:00</td>\n",
              "      <td>2023.000000</td>\n",
              "      <td>1.000000</td>\n",
              "      <td>10.000753</td>\n",
              "      <td>10.003750</td>\n",
              "      <td>1.000000</td>\n",
              "      <td>0.000000</td>\n",
              "    </tr>\n",
              "    <tr>\n",
              "      <th>25%</th>\n",
              "      <td>3.236760e+06</td>\n",
              "      <td>32460.00000</td>\n",
              "      <td>22.000000</td>\n",
              "      <td>2023-05-31 00:00:00</td>\n",
              "      <td>2023.000000</td>\n",
              "      <td>3.000000</td>\n",
              "      <td>132.821992</td>\n",
              "      <td>440.304789</td>\n",
              "      <td>2.000000</td>\n",
              "      <td>6.000000</td>\n",
              "    </tr>\n",
              "    <tr>\n",
              "      <th>50%</th>\n",
              "      <td>5.504622e+06</td>\n",
              "      <td>55028.00000</td>\n",
              "      <td>32.000000</td>\n",
              "      <td>2023-08-31 00:00:00</td>\n",
              "      <td>2023.000000</td>\n",
              "      <td>5.000000</td>\n",
              "      <td>255.181561</td>\n",
              "      <td>1041.941674</td>\n",
              "      <td>3.000000</td>\n",
              "      <td>11.000000</td>\n",
              "    </tr>\n",
              "    <tr>\n",
              "      <th>75%</th>\n",
              "      <td>7.740366e+06</td>\n",
              "      <td>77499.00000</td>\n",
              "      <td>46.000000</td>\n",
              "      <td>2023-11-30 00:00:00</td>\n",
              "      <td>2023.000000</td>\n",
              "      <td>8.000000</td>\n",
              "      <td>378.035744</td>\n",
              "      <td>2026.648987</td>\n",
              "      <td>4.000000</td>\n",
              "      <td>18.000000</td>\n",
              "    </tr>\n",
              "    <tr>\n",
              "      <th>max</th>\n",
              "      <td>9.999995e+06</td>\n",
              "      <td>99999.00000</td>\n",
              "      <td>70.000000</td>\n",
              "      <td>2024-02-29 00:00:00</td>\n",
              "      <td>2024.000000</td>\n",
              "      <td>10.000000</td>\n",
              "      <td>499.997024</td>\n",
              "      <td>4999.171428</td>\n",
              "      <td>5.000000</td>\n",
              "      <td>23.000000</td>\n",
              "    </tr>\n",
              "    <tr>\n",
              "      <th>std</th>\n",
              "      <td>2.599047e+06</td>\n",
              "      <td>26004.63780</td>\n",
              "      <td>14.987273</td>\n",
              "      <td>NaN</td>\n",
              "      <td>0.369626</td>\n",
              "      <td>2.870160</td>\n",
              "      <td>141.459258</td>\n",
              "      <td>1128.090588</td>\n",
              "      <td>1.317973</td>\n",
              "      <td>6.917591</td>\n",
              "    </tr>\n",
              "  </tbody>\n",
              "</table>\n",
              "</div>"
            ],
            "text/plain": [
              "       Transaction_ID   Customer_ID            Age  \\\n",
              "count    1.773350e+05  177335.00000  177335.000000   \n",
              "mean     5.494292e+06   55003.49424      35.334751   \n",
              "min      1.000007e+06   10000.00000      18.000000   \n",
              "25%      3.236760e+06   32460.00000      22.000000   \n",
              "50%      5.504622e+06   55028.00000      32.000000   \n",
              "75%      7.740366e+06   77499.00000      46.000000   \n",
              "max      9.999995e+06   99999.00000      70.000000   \n",
              "std      2.599047e+06   26004.63780      14.987273   \n",
              "\n",
              "                                Date           Year  Total_Purchases  \\\n",
              "count                         177335  177335.000000    177335.000000   \n",
              "mean   2023-09-05 06:24:05.684156672    2023.163284         5.363735   \n",
              "min              2023-03-13 00:00:00    2023.000000         1.000000   \n",
              "25%              2023-05-31 00:00:00    2023.000000         3.000000   \n",
              "50%              2023-08-31 00:00:00    2023.000000         5.000000   \n",
              "75%              2023-11-30 00:00:00    2023.000000         8.000000   \n",
              "max              2024-02-29 00:00:00    2024.000000        10.000000   \n",
              "std                              NaN       0.369626         2.870160   \n",
              "\n",
              "              Amount   Total_Amount        Ratings           Hour  \n",
              "count  177335.000000  177335.000000  177335.000000  177335.000000  \n",
              "mean      255.276167    1368.096508       3.168844      11.516181  \n",
              "min        10.000753      10.003750       1.000000       0.000000  \n",
              "25%       132.821992     440.304789       2.000000       6.000000  \n",
              "50%       255.181561    1041.941674       3.000000      11.000000  \n",
              "75%       378.035744    2026.648987       4.000000      18.000000  \n",
              "max       499.997024    4999.171428       5.000000      23.000000  \n",
              "std       141.459258    1128.090588       1.317973       6.917591  "
            ]
          },
          "execution_count": 23,
          "metadata": {},
          "output_type": "execute_result"
        }
      ],
      "source": [
        "# Get descriptive statistics for numeric columns\n",
        "df_time.describe()"
      ]
    },
    {
      "cell_type": "markdown",
      "metadata": {
        "id": "52-omhkeBWvV"
      },
      "source": [
        "Age Range of Customers:\n",
        "Customers span from 18 to 70 years, with an average age of 35.33 years.\n",
        "\n",
        "Purchasing Behavior:\n",
        "On average, a customer makes ~5.36 purchases, with most making 3 to 8 purchases (IQR).\n",
        "\n",
        "Spending Behavior:\n",
        "\n",
        "Average order amount: ₹255.21\n",
        "\n",
        "Average total amount spent per customer: ₹1,368.37\n",
        "\n",
        "Maximum single order amount goes up to ₹499.99, and max total amount is around ₹4,999.63\n",
        "\n",
        "Customer Ratings:\n",
        "\n",
        "Rating range: 1 to 5\n",
        "\n",
        "Most customers gave an average rating of ~3.16, indicating room for service or product improvement."
      ]
    },
    {
      "cell_type": "markdown",
      "metadata": {
        "id": "ca4Yr2ZIBe2j"
      },
      "source": [
        "✅ Next Step: Top 10 Most Popular Cities\n",
        "We’ll now check which cities have the most customers, which helps in geographic analysis."
      ]
    },
    {
      "cell_type": "markdown",
      "metadata": {
        "id": "DwrnXjpklNPl"
      },
      "source": [
        "Now move to Time-based Summary (only valid time rows):"
      ]
    },
    {
      "cell_type": "code",
      "execution_count": 24,
      "metadata": {
        "colab": {
          "base_uri": "https://localhost:8080/"
        },
        "id": "iYvMtBfhlWEZ",
        "outputId": "33cd0046-6720-4294-d929-59b07ea58eef"
      },
      "outputs": [
        {
          "name": "stdout",
          "output_type": "stream",
          "text": [
            "📊 Summary of Time-based Data (df_time):\n",
            "Total Rows After Time Cleaning: 177335\n",
            "Date Range: From 2023-03-13 to 2024-02-29\n",
            "Minimum Year: 2023, Maximum Year: 2024\n",
            "Available Months: ['September' 'December' 'April' 'June' 'March' 'July' 'November' 'October'\n",
            " 'May' 'February' 'August' 'January']\n"
          ]
        }
      ],
      "source": [
        "# Summary for Time-based Cleaned Data\n",
        "print(\"📊 Summary of Time-based Data (df_time):\")\n",
        "print(f\"Total Rows After Time Cleaning: {df_time.shape[0]}\")\n",
        "print(f\"Date Range: From {df_time['Date'].min().date()} to {df_time['Date'].max().date()}\")\n",
        "print(f\"Minimum Year: {int(df_time['Year'].min())}, Maximum Year: {int(df_time['Year'].max())}\")\n",
        "print(f\"Available Months: {df_time['Month'].dropna().unique()}\")"
      ]
    },
    {
      "cell_type": "code",
      "execution_count": 25,
      "metadata": {
        "colab": {
          "base_uri": "https://localhost:8080/"
        },
        "id": "Yu4Uwso6mypU",
        "outputId": "6102b14c-63ca-443e-e3d1-edb14296d12e"
      },
      "outputs": [
        {
          "name": "stdout",
          "output_type": "stream",
          "text": [
            "df_full shape: (293123, 32)\n",
            "Null dates in df_full: 115595\n"
          ]
        }
      ],
      "source": [
        "print(\"df_full shape:\", df_full.shape)\n",
        "print(\"Null dates in df_full:\", df_full['Date'].isnull().sum())\n"
      ]
    },
    {
      "cell_type": "code",
      "execution_count": 26,
      "metadata": {
        "id": "qV1Y_f2KAaY-"
      },
      "outputs": [],
      "source": [
        "import matplotlib.pyplot as plt\n",
        "import seaborn as sns"
      ]
    },
    {
      "cell_type": "markdown",
      "metadata": {
        "id": "lhbwqb13oPVz"
      },
      "source": [
        "1) top 10 cities per transactions"
      ]
    },
    {
      "cell_type": "code",
      "execution_count": 27,
      "metadata": {
        "colab": {
          "base_uri": "https://localhost:8080/"
        },
        "id": "TOY7li2NBmXp",
        "outputId": "3adc92d8-e099-4bfd-de35-9b5a58121fff"
      },
      "outputs": [
        {
          "name": "stdout",
          "output_type": "stream",
          "text": [
            "City\n",
            "Chicago          12857\n",
            "Portsmouth       12018\n",
            "San Francisco     7156\n",
            "Frankfurt         6106\n",
            "Boston            5551\n",
            "New York          3209\n",
            "Fort Worth        3131\n",
            "London            2599\n",
            "Victoria          1421\n",
            "Leeds             1401\n",
            "Name: count, dtype: int64\n"
          ]
        }
      ],
      "source": [
        "top_cities = df_time['City'].value_counts().head(10)\n",
        "print(top_cities)"
      ]
    },
    {
      "cell_type": "code",
      "execution_count": 28,
      "metadata": {
        "colab": {
          "base_uri": "https://localhost:8080/",
          "height": 614
        },
        "id": "xpRDSnX9BouO",
        "outputId": "26227e35-ced7-4930-ebaf-a26214f45d23"
      },
      "outputs": [
        {
          "name": "stderr",
          "output_type": "stream",
          "text": [
            "C:\\Users\\Mukesh\\AppData\\Local\\Temp\\ipykernel_21104\\686939913.py:2: FutureWarning: \n",
            "\n",
            "Passing `palette` without assigning `hue` is deprecated and will be removed in v0.14.0. Assign the `y` variable to `hue` and set `legend=False` for the same effect.\n",
            "\n",
            "  sns.barplot(x=top_cities.values, y=top_cities.index, palette='viridis')\n"
          ]
        },
        {
          "data": {
            "image/png": "[encoded data removed]",
            "text/plain": [
              "<Figure size 1000x500 with 1 Axes>"
            ]
          },
          "metadata": {},
          "output_type": "display_data"
        }
      ],
      "source": [
        "plt.figure(figsize=(10,5))\n",
        "sns.barplot(x=top_cities.values, y=top_cities.index, palette='viridis')\n",
        "plt.title(\"Top 10 Cities by Number of Transactions\")\n",
        "plt.xlabel(\"Number of Transactions\")\n",
        "plt.ylabel(\"City\")\n",
        "plt.tight_layout()\n",
        "plt.show()"
      ]
    },
    {
      "cell_type": "markdown",
      "metadata": {
        "id": "zqC_qbliDTmJ"
      },
      "source": [
        "📊 Key Insight:\n",
        "Chicago and Portsmouth are clearly your major customer hubs.\n",
        "\n",
        "This will be useful later in Dashboard 1: Global Overview and also for targeted marketing strategies.\n",
        "\n"
      ]
    },
    {
      "cell_type": "markdown",
      "metadata": {
        "id": "zjtUqTjJoYo5"
      },
      "source": [
        "2)top product categories per transactions"
      ]
    },
    {
      "cell_type": "code",
      "execution_count": 29,
      "metadata": {
        "colab": {
          "base_uri": "https://localhost:8080/"
        },
        "id": "lQvoF8inB0Ui",
        "outputId": "b8def265-2441-490a-8367-2031e9188066"
      },
      "outputs": [
        {
          "name": "stdout",
          "output_type": "stream",
          "text": [
            "Product_Category\n",
            "Electronics    41716\n",
            "Grocery        39372\n",
            "Clothing       32266\n",
            "Books          31988\n",
            "Home Decor     31833\n",
            "Misc             160\n",
            "Name: count, dtype: int64\n"
          ]
        }
      ],
      "source": [
        "# Count transactions per product category\n",
        "top_categories = df_time['Product_Category'].value_counts().head(10)\n",
        "print(top_categories)\n"
      ]
    },
    {
      "cell_type": "code",
      "execution_count": 30,
      "metadata": {
        "colab": {
          "base_uri": "https://localhost:8080/",
          "height": 714
        },
        "id": "H3hmGdSQDi7S",
        "outputId": "66959216-522d-4586-d256-c62e770aaeb4"
      },
      "outputs": [
        {
          "name": "stderr",
          "output_type": "stream",
          "text": [
            "C:\\Users\\Mukesh\\AppData\\Local\\Temp\\ipykernel_21104\\196342102.py:3: FutureWarning: \n",
            "\n",
            "Passing `palette` without assigning `hue` is deprecated and will be removed in v0.14.0. Assign the `y` variable to `hue` and set `legend=False` for the same effect.\n",
            "\n",
            "  sns.barplot(x=top_categories.values, y=top_categories.index, palette='mako')\n"
          ]
        },
        {
          "data": {
            "image/png": "[encoded data removed]",
            "text/plain": [
              "<Figure size 1000x600 with 1 Axes>"
            ]
          },
          "metadata": {},
          "output_type": "display_data"
        }
      ],
      "source": [
        "# Plot\n",
        "plt.figure(figsize=(10,6))\n",
        "sns.barplot(x=top_categories.values, y=top_categories.index, palette='mako')\n",
        "plt.title('Top 10 Product Categories by Number of Transactions')\n",
        "plt.xlabel('Number of Transactions')\n",
        "plt.ylabel('Product Category')\n",
        "plt.tight_layout()\n",
        "plt.show()"
      ]
    },
    {
      "cell_type": "markdown",
      "metadata": {
        "id": "ZJW0W3zxEdkv"
      },
      "source": [
        "Top Product Categories Analysis\n",
        "In this step, we analyzed the distribution of products across different categories to identify the most frequently purchased ones.\n",
        "\n",
        "We used the Product_Category column to count the number of transactions for each category. The results revealed the top categories in terms of purchase volume:\n",
        "\n",
        "Electronics was the most purchased category, followed by Grocery, Clothing, Books, and Home Decor.\n",
        "\n",
        "A small portion of records (275 entries) were categorized under “Misc”, which represents transactions where the product category was missing or unspecified. During data cleaning (Phase 1), we assigned the label \"Misc\" to preserve those transactions instead of removing them.\n",
        "\n",
        "This analysis helps us understand customer buying behavior and product demand, which will be valuable for business strategy, inventory planning, and personalized recommendations."
      ]
    },
    {
      "cell_type": "markdown",
      "metadata": {
        "id": "L7SZfgcoE3yj"
      },
      "source": [
        " 3: Top Product Brands by Purchase Count\n",
        "This helps identify which brands are most popular among customers.\n",
        "\n",
        "\n"
      ]
    },
    {
      "cell_type": "code",
      "execution_count": 31,
      "metadata": {
        "colab": {
          "base_uri": "https://localhost:8080/"
        },
        "id": "CCZNwvraDsll",
        "outputId": "0ade93f7-c369-45f0-cc19-68ff577a94b8"
      },
      "outputs": [
        {
          "name": "stdout",
          "output_type": "stream",
          "text": [
            "Product_Brand\n",
            "Pepsi            17977\n",
            "Zara             10862\n",
            "Adidas           10788\n",
            "Coca-Cola        10732\n",
            "HarperCollins    10710\n",
            "Sony             10706\n",
            "Penguin Books    10698\n",
            "Nestle           10671\n",
            "Samsung          10668\n",
            "Nike             10629\n",
            "Name: count, dtype: int64\n"
          ]
        }
      ],
      "source": [
        "# EDA Step 3: Top 10 Product Brands by Purchase Count\n",
        "top_brands = df_time['Product_Brand'].value_counts().head(10)\n",
        "print(top_brands)"
      ]
    },
    {
      "cell_type": "code",
      "execution_count": 32,
      "metadata": {
        "colab": {
          "base_uri": "https://localhost:8080/",
          "height": 714
        },
        "id": "NkDMMFrME_I-",
        "outputId": "34d8ea3a-09b3-4384-b91e-3d083e3ba3bf"
      },
      "outputs": [
        {
          "name": "stderr",
          "output_type": "stream",
          "text": [
            "C:\\Users\\Mukesh\\AppData\\Local\\Temp\\ipykernel_21104\\2115977048.py:2: FutureWarning: \n",
            "\n",
            "Passing `palette` without assigning `hue` is deprecated and will be removed in v0.14.0. Assign the `y` variable to `hue` and set `legend=False` for the same effect.\n",
            "\n",
            "  sns.barplot(x=top_brands.values, y=top_brands.index, palette='coolwarm')\n"
          ]
        },
        {
          "data": {
            "image/png": "[encoded data removed]",
            "text/plain": [
              "<Figure size 1000x600 with 1 Axes>"
            ]
          },
          "metadata": {},
          "output_type": "display_data"
        }
      ],
      "source": [
        "plt.figure(figsize=(10, 6))\n",
        "sns.barplot(x=top_brands.values, y=top_brands.index, palette='coolwarm')\n",
        "plt.title(\"Top 10 Product Brands by Number of Purchases\")\n",
        "plt.xlabel(\"Number of Purchases\")\n",
        "plt.ylabel(\"Brand\")\n",
        "plt.tight_layout()\n",
        "plt.show()"
      ]
    },
    {
      "cell_type": "code",
      "execution_count": 33,
      "metadata": {
        "colab": {
          "base_uri": "https://localhost:8080/"
        },
        "id": "kBRfpvmLWf-r",
        "outputId": "a0f8d354-60ca-433f-d7cc-381a5d7711cf"
      },
      "outputs": [
        {
          "name": "stdout",
          "output_type": "stream",
          "text": [
            "Total unique brands: 19\n",
            "Some brands in dataset: ['Nike' 'Samsung' 'Penguin Books' 'Apple' 'Zara' 'Home Depot'\n",
            " 'Random House' 'Adidas' 'IKEA' 'Nestle' 'Bed Bath & Beyond' 'Coca-Cola'\n",
            " 'HarperCollins' 'Sony' 'Pepsi' 'Unknown' 'Whirepool' 'Mitsubhisi'\n",
            " 'BlueStar']\n"
          ]
        }
      ],
      "source": [
        "# Count total unique brands\n",
        "num_brands = df_time['Product_Brand'].nunique()\n",
        "print(\"Total unique brands:\", num_brands)\n",
        "\n",
        "# See the list of unique brands (optional)\n",
        "unique_brands = df_time['Product_Brand'].unique()\n",
        "print(\"Some brands in dataset:\", unique_brands[:20])  # show first 20 brands"
      ]
    },
    {
      "cell_type": "code",
      "execution_count": 34,
      "metadata": {
        "colab": {
          "base_uri": "https://localhost:8080/",
          "height": 698
        },
        "id": "lk8Va3b5FGJs",
        "outputId": "e0dd96bd-bfd8-405b-e365-94bf1df3ed2a"
      },
      "outputs": [
        {
          "name": "stderr",
          "output_type": "stream",
          "text": [
            "C:\\Users\\Mukesh\\AppData\\Local\\Temp\\ipykernel_21104\\1800221322.py:3: FutureWarning: \n",
            "\n",
            "Passing `palette` without assigning `hue` is deprecated and will be removed in v0.14.0. Assign the `x` variable to `hue` and set `legend=False` for the same effect.\n",
            "\n",
            "  ax = sns.barplot(x=top_brands.index, y=top_brands.values, palette='coolwarm')\n"
          ]
        },
        {
          "data": {
            "image/png": "[encoded data removed]",
            "text/plain": [
              "<Figure size 1200x600 with 1 Axes>"
            ]
          },
          "metadata": {},
          "output_type": "display_data"
        }
      ],
      "source": [
        "# ADDED DATA LABELS AND CHANGES TO VERTICAL BARS\n",
        "plt.figure(figsize=(12, 6))\n",
        "ax = sns.barplot(x=top_brands.index, y=top_brands.values, palette='coolwarm')\n",
        "for i, v in enumerate(top_brands.values):\n",
        "    ax.text(i, v + 200, f\"{v}\", ha='center', fontsize=10)\n",
        "\n",
        "plt.title(\"Top 10 Product Brands by Number of Purchases\")\n",
        "plt.ylabel(\"Number of Purchases\")\n",
        "plt.xlabel(\"Brand\")\n",
        "plt.xticks(rotation=45)\n",
        "plt.tight_layout()\n",
        "plt.show()\n"
      ]
    },
    {
      "cell_type": "markdown",
      "metadata": {
        "id": "nCzJLM_gG99r"
      },
      "source": [
        "Observation: Top 10 Product Brands by Number of Purchases\n",
        "This vertical bar chart visualizes the top 10 most frequently purchased product brands in the dataset. It is evident that Pepsi is the most popular brand by a significant margin, with nearly 30,000 transactions. Other leading brands, including Coca-Cola, HarperCollins, Zara, and Samsung, have similar purchase volumes, each with around 17,000 to 18,000 transactions.\n",
        "\n",
        "The values for brands ranked 2 through 10 are relatively close, indicating a competitive market presence among these brands. The chart uses vertical orientation and annotated labels to improve readability and highlight small differences that were not as easily distinguishable in a horizontal layout.\n",
        "\n",
        "This insight helps in identifying customer brand preferences, which can be useful for marketing, inventory, and supply chain decisions."
      ]
    },
    {
      "cell_type": "markdown",
      "metadata": {
        "id": "kEwV_MxvH6yA"
      },
      "source": [
        "4: Monthly Sales Trend Analysis   "
      ]
    },
    {
      "cell_type": "code",
      "execution_count": 35,
      "metadata": {
        "id": "zC8mwAbhGC9r"
      },
      "outputs": [],
      "source": [
        "# Step 4: Monthly Sales Trend Analysis (using time-cleaned data)\n",
        "monthly_sales = df_time.groupby('Month')['Total_Amount'].sum()"
      ]
    },
    {
      "cell_type": "code",
      "execution_count": 36,
      "metadata": {
        "colab": {
          "base_uri": "https://localhost:8080/"
        },
        "id": "47bJK0saHhF6",
        "outputId": "444a590b-d038-4808-ee18-9fc6976273a7"
      },
      "outputs": [
        {
          "name": "stdout",
          "output_type": "stream",
          "text": [
            "Month\n",
            "January      2.051673e+07\n",
            "February     1.902588e+07\n",
            "March        2.096349e+07\n",
            "April        2.008672e+07\n",
            "May          2.046902e+07\n",
            "June         1.957131e+07\n",
            "July         2.073597e+07\n",
            "August       2.073060e+07\n",
            "September    1.956125e+07\n",
            "October      2.069159e+07\n",
            "November     1.977317e+07\n",
            "December     2.048567e+07\n",
            "Name: Total_Amount, dtype: float64\n"
          ]
        }
      ],
      "source": [
        "# Ensure months appear in calendar order\n",
        "month_order = ['January', 'February', 'March', 'April', 'May', 'June',\n",
        "               'July', 'August', 'September', 'October', 'November', 'December']\n",
        "monthly_sales = monthly_sales.reindex(month_order)\n",
        "\n",
        "# Print for verification\n",
        "print(monthly_sales)"
      ]
    },
    {
      "cell_type": "code",
      "execution_count": 37,
      "metadata": {
        "colab": {
          "base_uri": "https://localhost:8080/",
          "height": 591
        },
        "id": "2f7NqjAeHmFy",
        "outputId": "da2568a9-a59e-419d-c97c-f2902c1210b9"
      },
      "outputs": [
        {
          "data": {
            "image/png": "[encoded data removed]",
            "text/plain": [
              "<Figure size 1200x600 with 1 Axes>"
            ]
          },
          "metadata": {},
          "output_type": "display_data"
        }
      ],
      "source": [
        "# Plotting the results\n",
        "import matplotlib.pyplot as plt\n",
        "plt.figure(figsize=(12,6))\n",
        "monthly_sales.plot(kind='bar', color='skyblue', edgecolor='black')\n",
        "plt.title('Total Sales by Month')\n",
        "plt.xlabel('Month')\n",
        "plt.ylabel('Total Sales Amount')\n",
        "plt.xticks(rotation=45)\n",
        "plt.grid(axis='y', linestyle='--', alpha=0.7)\n",
        "plt.tight_layout()\n",
        "plt.show()"
      ]
    },
    {
      "cell_type": "markdown",
      "metadata": {
        "id": "gNDnWXJiIfyP"
      },
      "source": [
        "📌 Insight: Monthly Sales Trend (Based on Your Data)\n",
        "The monthly sales trend indicates stable and consistent revenue generation across the year, with minor fluctuations.\n",
        "\n",
        "🔹 Top Performing Months:\n",
        "\n",
        "March (21.00M USD) remains the peak sales month, potentially due to pre-summer promotions.\n",
        "\n",
        "Followed closely by July (20.76M), August (20.75M), and October (20.71M), likely influenced by mid-year campaigns or regional sale events.\n",
        "\n",
        "🔹 Low Performing Months:\n",
        "\n",
        "February (19.04M USD) recorded the lowest total sales, likely impacted by its shorter duration and post-holiday lull.\n",
        "\n",
        "September (19.59M) and June (19.59M) also saw slightly lower volumes, indicating a dip between active sales seasons.\n",
        "\n",
        "🔹 Holiday Season (December):\n",
        "\n",
        "December posted a healthy 20.50M USD, showing that while it's not the highest, customer activity remains strong around holidays.\n",
        "\n",
        "🧠 Business Implication:\n",
        "This cyclic but stable pattern is valuable for planning inventory, marketing campaigns, and discounting strategies. Special attention should be paid to March, July, and October for maximizing revenue, while February may require performance-boosting strategies."
      ]
    },
    {
      "cell_type": "markdown",
      "metadata": {
        "id": "4Q2WPhkOqyDq"
      },
      "source": [
        "5. Country-wise Purchase Count\n",
        "🧾 Purpose:\n",
        "To analyze which countries generate the most transactions.\n",
        "\n",
        "✅ Dataset to Use:\n",
        "df_full — because this is not dependent on time."
      ]
    },
    {
      "cell_type": "code",
      "execution_count": 38,
      "metadata": {
        "colab": {
          "base_uri": "https://localhost:8080/"
        },
        "id": "ArH1E-CxHupa",
        "outputId": "9430bd4a-cd3e-45ff-8ef0-fb422d4f819f"
      },
      "outputs": [
        {
          "name": "stdout",
          "output_type": "stream",
          "text": [
            "Country\n",
            "USA          56076\n",
            "UK           37056\n",
            "Germany      30926\n",
            "Australia    26565\n",
            "Canada       26551\n",
            "Unknown        161\n",
            "Name: count, dtype: int64\n"
          ]
        }
      ],
      "source": [
        "# Group by Country and count number of purchases\n",
        "country_purchase_counts = df_time['Country'].value_counts().head(10)  # Top 10\n",
        "\n",
        "# Display counts\n",
        "print(country_purchase_counts)"
      ]
    },
    {
      "cell_type": "code",
      "execution_count": 39,
      "metadata": {
        "colab": {
          "base_uri": "https://localhost:8080/",
          "height": 714
        },
        "id": "wjAdihX-q3un",
        "outputId": "f709e72a-3eae-44a5-d15e-0ca3636eba9c"
      },
      "outputs": [
        {
          "name": "stderr",
          "output_type": "stream",
          "text": [
            "C:\\Users\\Mukesh\\AppData\\Local\\Temp\\ipykernel_21104\\553345478.py:6: FutureWarning: \n",
            "\n",
            "Passing `palette` without assigning `hue` is deprecated and will be removed in v0.14.0. Assign the `y` variable to `hue` and set `legend=False` for the same effect.\n",
            "\n",
            "  sns.barplot(x=country_purchase_counts.values, y=country_purchase_counts.index, palette='crest')\n"
          ]
        },
        {
          "data": {
            "image/png": "[encoded data removed]",
            "text/plain": [
              "<Figure size 1000x600 with 1 Axes>"
            ]
          },
          "metadata": {},
          "output_type": "display_data"
        }
      ],
      "source": [
        "# Plotting\n",
        "import matplotlib.pyplot as plt\n",
        "import seaborn as sns\n",
        "\n",
        "plt.figure(figsize=(10, 6))\n",
        "sns.barplot(x=country_purchase_counts.values, y=country_purchase_counts.index, palette='crest')\n",
        "plt.title(\"Top 10 Countries by Number of Purchases\")\n",
        "plt.xlabel(\"Number of Purchases\")\n",
        "plt.ylabel(\"Country\")\n",
        "plt.tight_layout()\n",
        "plt.show()"
      ]
    },
    {
      "cell_type": "markdown",
      "metadata": {
        "id": "pwR1PEZZrT0W"
      },
      "source": [
        "📌 Insight: Country-wise Purchase Distribution\n",
        "The transaction analysis across countries reveals:\n",
        "\n",
        "USA leads with the highest number of purchases (92,706), making it the dominant market in the dataset.\n",
        "\n",
        "UK and  Germany follow with 61,419 and 51,233 transactions respectively, indicating strong customer engagement.\n",
        "\n",
        "Australia and Canada are nearly tied, each contributing 43,000+ purchases.\n",
        "\n",
        "A small portion (264 entries) have missing or unclassified country data (marked as Unknown), which may require cleanup.\n",
        "\n",
        "🧠 Business Implication:\n",
        "These insights help identify top-performing regions, guiding decisions for regional marketing campaigns, logistics planning, and resource allocation. The USA clearly presents the biggest opportunity for growth and retention strategies."
      ]
    },
    {
      "cell_type": "markdown",
      "metadata": {
        "id": "phebfCr2r3Gp"
      },
      "source": [
        "✅ 6. Income Level vs Total Amount Spent\n",
        "This helps identify how spending varies across customer income groups (Low, Medium, High)."
      ]
    },
    {
      "cell_type": "code",
      "execution_count": 40,
      "metadata": {
        "colab": {
          "base_uri": "https://localhost:8080/"
        },
        "id": "ddJnHw0tq-d_",
        "outputId": "d81fc685-c49a-4ca1-f1dd-e0f2b436dc76"
      },
      "outputs": [
        {
          "name": "stdout",
          "output_type": "stream",
          "text": [
            "Income\n",
            "Low       1373.531778\n",
            "Medium    1369.491243\n",
            "High      1358.794705\n",
            "Name: Total_Amount, dtype: float64\n"
          ]
        }
      ],
      "source": [
        "# Group by income level and calculate average total amount spent\n",
        "income_spend = df_time.groupby('Income')['Total_Amount'].mean().sort_values(ascending=False)\n",
        "print(income_spend)"
      ]
    },
    {
      "cell_type": "code",
      "execution_count": 41,
      "metadata": {
        "colab": {
          "base_uri": "https://localhost:8080/",
          "height": 614
        },
        "id": "uvABvEn6r7Tm",
        "outputId": "df1a4c88-2c51-4419-fa85-964ae3885acc"
      },
      "outputs": [
        {
          "name": "stderr",
          "output_type": "stream",
          "text": [
            "C:\\Users\\Mukesh\\AppData\\Local\\Temp\\ipykernel_21104\\469358145.py:6: FutureWarning: \n",
            "\n",
            "Passing `palette` without assigning `hue` is deprecated and will be removed in v0.14.0. Assign the `x` variable to `hue` and set `legend=False` for the same effect.\n",
            "\n",
            "  sns.barplot(x=income_spend.index, y=income_spend.values, palette='coolwarm')\n"
          ]
        },
        {
          "data": {
            "image/png": "[encoded data removed]",
            "text/plain": [
              "<Figure size 800x500 with 1 Axes>"
            ]
          },
          "metadata": {},
          "output_type": "display_data"
        }
      ],
      "source": [
        "# Plotting\n",
        "import matplotlib.pyplot as plt\n",
        "import seaborn as sns\n",
        "\n",
        "plt.figure(figsize=(8, 5))\n",
        "sns.barplot(x=income_spend.index, y=income_spend.values, palette='coolwarm')\n",
        "plt.title(\"Average Total Amount Spent by Income Level\")\n",
        "plt.xlabel(\"Income Level\")\n",
        "plt.ylabel(\"Avg Total Amount Spent\")\n",
        "plt.tight_layout()\n",
        "plt.show()"
      ]
    },
    {
      "cell_type": "markdown",
      "metadata": {
        "id": "s4AfOZxssbif"
      },
      "source": [
        "📌 Corrected Insight You Can Write Below Your Chart:\n",
        "📊 Insight: Income vs Spending Behavior\n",
        "\n",
        "Contrary to typical expectations, customers in the Low income group spent slightly more on average than those in Medium and High income groups. All three segments had similar average spending, with a narrow difference of just ₹10–₹15.\n",
        "\n",
        "🧠 Business Implication: This indicates that even lower-income customers are significant contributors to revenue. Businesses should not overlook them in marketing campaigns and may benefit from offering value-focused products and loyalty schemes for this segment.\n",
        "\n"
      ]
    },
    {
      "cell_type": "markdown",
      "metadata": {
        "id": "qVu91s5OtZ8w"
      },
      "source": [
        "7. Gender-based Spending Behavior   \n",
        "To understand how spending behavior differs between male and female customers. This insight helps businesses tailor marketing strategies based on gender preferences."
      ]
    },
    {
      "cell_type": "code",
      "execution_count": 42,
      "metadata": {
        "colab": {
          "base_uri": "https://localhost:8080/"
        },
        "id": "nODdJ-MKsBTM",
        "outputId": "afcf7330-05a2-46d4-be70-68e0ddac7c55"
      },
      "outputs": [
        {
          "name": "stdout",
          "output_type": "stream",
          "text": [
            "Gender\n",
            "Male      1369.576558\n",
            "Female    1365.669555\n",
            "Name: Total_Amount, dtype: float64\n"
          ]
        }
      ],
      "source": [
        "# Group by Gender and calculate average spending\n",
        "gender_spending = df_time.groupby('Gender')['Total_Amount'].mean().sort_values(ascending=False)\n",
        "print(gender_spending)"
      ]
    },
    {
      "cell_type": "code",
      "execution_count": 43,
      "metadata": {
        "colab": {
          "base_uri": "https://localhost:8080/",
          "height": 614
        },
        "id": "ucncDIVJthXj",
        "outputId": "5ac1141f-ccd6-4ab7-be1c-96a0e8fe18eb"
      },
      "outputs": [
        {
          "name": "stderr",
          "output_type": "stream",
          "text": [
            "C:\\Users\\Mukesh\\AppData\\Local\\Temp\\ipykernel_21104\\841158529.py:6: FutureWarning: \n",
            "\n",
            "Passing `palette` without assigning `hue` is deprecated and will be removed in v0.14.0. Assign the `x` variable to `hue` and set `legend=False` for the same effect.\n",
            "\n",
            "  sns.barplot(x=gender_spending.index, y=gender_spending.values, palette='Set2')\n"
          ]
        },
        {
          "data": {
            "image/png": "[encoded data removed]",
            "text/plain": [
              "<Figure size 800x500 with 1 Axes>"
            ]
          },
          "metadata": {},
          "output_type": "display_data"
        }
      ],
      "source": [
        "# Plot\n",
        "import seaborn as sns\n",
        "import matplotlib.pyplot as plt\n",
        "\n",
        "plt.figure(figsize=(8,5))\n",
        "sns.barplot(x=gender_spending.index, y=gender_spending.values, palette='Set2')\n",
        "plt.title(\"Average Spending by Gender\")\n",
        "plt.xlabel(\"Gender\")\n",
        "plt.ylabel(\"Average Total Spend\")\n",
        "plt.tight_layout()\n",
        "plt.show()"
      ]
    },
    {
      "cell_type": "markdown",
      "metadata": {
        "id": "4SCaAYGCuWVD"
      },
      "source": [
        "📌 Insight: Gender-Based Spending Behavior\n",
        "The average spending by male and female customers is nearly identical — ₹1367.76 for males and ₹1369.37 for females.\n",
        "This suggests that both genders exhibit similar purchasing power in this retail environment, making it essential for retailers to design inclusive marketing campaigns rather than gender-biased ones."
      ]
    },
    {
      "cell_type": "markdown",
      "metadata": {
        "id": "3O7-cgCUyWgb"
      },
      "source": [
        "8) Customer Segment vs Purchase Behavior\n",
        "Purpose:\n",
        "To analyze how different customer segments (New, Regular, Premium) spend and behave in terms of total amount spent.\n",
        "\n",
        "\n"
      ]
    },
    {
      "cell_type": "code",
      "execution_count": 44,
      "metadata": {
        "colab": {
          "base_uri": "https://localhost:8080/"
        },
        "id": "H8Gjp6y9yV5f",
        "outputId": "e84d9453-be6c-453c-90b6-cb03039d85a3"
      },
      "outputs": [
        {
          "name": "stdout",
          "output_type": "stream",
          "text": [
            "Customer_Segment\n",
            "New        1369.516761\n",
            "Regular    1367.517996\n",
            "Premium    1367.402670\n",
            "Name: Total_Amount, dtype: float64\n"
          ]
        }
      ],
      "source": [
        "# Group total amount by Customer Segment\n",
        "segment_spending = df_time.groupby('Customer_Segment')['Total_Amount'].mean().sort_values(ascending=False)\n",
        "print(segment_spending)\n"
      ]
    },
    {
      "cell_type": "code",
      "execution_count": 45,
      "metadata": {
        "colab": {
          "base_uri": "https://localhost:8080/",
          "height": 507
        },
        "id": "jxqVkaJzyf61",
        "outputId": "463da623-0117-40a7-c5ca-3aa20dedf11e"
      },
      "outputs": [
        {
          "data": {
            "image/png": "[encoded data removed]",
            "text/plain": [
              "<Figure size 800x500 with 1 Axes>"
            ]
          },
          "metadata": {},
          "output_type": "display_data"
        }
      ],
      "source": [
        "# Plot\n",
        "import matplotlib.pyplot as plt\n",
        "plt.figure(figsize=(8,5))\n",
        "segment_spending.plot(kind='bar', color='teal', edgecolor='black')\n",
        "plt.title('Average Spend by Customer Segment')\n",
        "plt.ylabel('Average Total Amount')\n",
        "plt.xlabel('Customer Segment')\n",
        "plt.xticks(rotation=0)\n",
        "plt.ylim(1350, 1385)  # 👈 This line zooms in to highlight small variations\n",
        "plt.grid(axis='y', linestyle='--', alpha=0.7)\n",
        "plt.tight_layout()\n",
        "plt.show()\n"
      ]
    },
    {
      "cell_type": "markdown",
      "metadata": {
        "id": "g4sB6hU5zDg2"
      },
      "source": [
        "\n",
        "✅ Current Insight from the Chart\n",
        "📌 Insight: Customer Segment vs Purchase Behavior\n",
        "\n",
        "The average total spend per customer is quite similar across segments:\n",
        "\n",
        "Regular: ₹1370.13\n",
        "\n",
        "New: ₹1368.89\n",
        "\n",
        "Premium: ₹1363.53\n",
        "\n",
        "Surprisingly, Premium customers are not spending more than others, despite being labeled as such.\n",
        "\n",
        "🧠 Business Implication:\n",
        "This suggests either:\n",
        "\n",
        "Premium users are not incentivized enough to spend more, or\n",
        "\n",
        "The segment definitions need re-evaluation.\n",
        "\n",
        "\n",
        " 1. New Customers\n",
        "📌 Definition: Recently joined or made their first few purchases.\n",
        "\n",
        "💡 Traits:\n",
        "\n",
        "Low purchase history.\n",
        "\n",
        "Still exploring your offerings.\n",
        "\n",
        "High potential for conversion to loyal customers.\n",
        "\n",
        "🧠 Goal: Engage and onboard effectively (welcome offers, intro discounts).\n",
        "\n",
        "🔵 2. Regular Customers\n",
        "📌 Definition: Make purchases frequently but not at premium levels.\n",
        "\n",
        "💡 Traits:\n",
        "\n",
        "Moderate transaction frequency.\n",
        "\n",
        "Medium-to-high retention.\n",
        "\n",
        "Comfortable with your brand.\n",
        "\n",
        "🧠 Goal: Keep them engaged and prevent churn (loyalty rewards, points, follow-up emails).\n",
        "\n",
        "🟣 3. Premium Customers\n",
        "📌 Definition: High-value or long-term customers.\n",
        "\n",
        "💡 Traits:\n",
        "\n",
        "High spend per transaction.\n",
        "\n",
        "Likely to leave feedback or engage in premium services.\n",
        "\n",
        "May be subscribed to exclusive tiers.\n",
        "\n",
        "🧠 Goal: Retain them with personalized offers, early access, or VIP programs."
      ]
    },
    {
      "cell_type": "markdown",
      "metadata": {
        "id": "ydI9sDYjzpB7"
      },
      "source": [
        "9: Shipping Method Performance\n",
        "🎯 Goal:\n",
        "To understand which shipping method is most preferred by customers in terms of number of orders, rather than average spend — which showed negligible variation.\n",
        "\n"
      ]
    },
    {
      "cell_type": "code",
      "execution_count": 46,
      "metadata": {},
      "outputs": [
        {
          "data": {
            "image/png": "[encoded data removed]",
            "text/plain": [
              "<Figure size 800x600 with 1 Axes>"
            ]
          },
          "metadata": {},
          "output_type": "display_data"
        }
      ],
      "source": [
        "import seaborn as sns\n",
        "import matplotlib.pyplot as plt\n",
        "\n",
        "plt.figure(figsize=(8, 6))\n",
        "sns.boxplot(x='Customer_Segment', y='Total_Amount', data=df_time)\n",
        "plt.title('Distribution of Spending by Customer Segment')\n",
        "plt.show()"
      ]
    },
    {
      "cell_type": "code",
      "execution_count": 47,
      "metadata": {
        "colab": {
          "base_uri": "https://localhost:8080/"
        },
        "id": "NQVk-2dYykdM",
        "outputId": "b64c5812-c775-4978-8921-725f946e998d"
      },
      "outputs": [
        {
          "name": "stdout",
          "output_type": "stream",
          "text": [
            "Shipping_Method\n",
            "Same-Day    60950\n",
            "Express     60061\n",
            "Standard    56324\n",
            "Name: count, dtype: int64\n"
          ]
        }
      ],
      "source": [
        "# Count of orders per shipping method\n",
        "shipping_counts = df_time['Shipping_Method'].value_counts()\n",
        "print(shipping_counts)"
      ]
    },
    {
      "cell_type": "code",
      "execution_count": 48,
      "metadata": {
        "colab": {
          "base_uri": "https://localhost:8080/",
          "height": 614
        },
        "id": "fmtvJFABzsJb",
        "outputId": "7d4d4fb7-2fdb-4501-a2ee-53ebe4ccff24"
      },
      "outputs": [
        {
          "name": "stderr",
          "output_type": "stream",
          "text": [
            "C:\\Users\\Mukesh\\AppData\\Local\\Temp\\ipykernel_21104\\2302671858.py:6: FutureWarning: \n",
            "\n",
            "Passing `palette` without assigning `hue` is deprecated and will be removed in v0.14.0. Assign the `y` variable to `hue` and set `legend=False` for the same effect.\n",
            "\n",
            "  sns.barplot(x=shipping_counts.values, y=shipping_counts.index, palette='Set2')\n"
          ]
        },
        {
          "data": {
            "image/png": "[encoded data removed]",
            "text/plain": [
              "<Figure size 800x500 with 1 Axes>"
            ]
          },
          "metadata": {},
          "output_type": "display_data"
        }
      ],
      "source": [
        "# Bar chart to visualize\n",
        "import matplotlib.pyplot as plt\n",
        "import seaborn as sns\n",
        "\n",
        "plt.figure(figsize=(8,5))\n",
        "sns.barplot(x=shipping_counts.values, y=shipping_counts.index, palette='Set2')\n",
        "plt.title('Preferred Shipping Methods by Order Count')\n",
        "plt.xlabel('Number of Orders')\n",
        "plt.ylabel('Shipping Method')\n",
        "plt.tight_layout()\n",
        "plt.show()\n"
      ]
    },
    {
      "cell_type": "markdown",
      "metadata": {
        "id": "VXMM_NuI0STK"
      },
      "source": [
        "💡 Insight:\n",
        "Same-Day shipping is the most popular, used in over 60,000 orders, indicating strong customer preference for fast deliveries.\n",
        "\n",
        "Express and Standard methods follow closely, showing a fairly even distribution.\n",
        "\n",
        "Even though average spending across shipping types was similar, order counts reveal real behavior, making this a more valuable metric.\n",
        "\n",
        "🧠 Business Implication:\n",
        "Retailers can allocate more logistics resources toward Same-Day delivery services to enhance satisfaction and potentially increase loyalty.\n",
        "\n"
      ]
    },
    {
      "cell_type": "markdown",
      "metadata": {
        "id": "cImsM08C6aw1"
      },
      "source": [
        "10: Payment Method Preferences\n",
        "🔍 Objective:\n",
        "To analyze which payment methods are most frequently used by customers — providing insight into digital vs. traditional payment trends."
      ]
    },
    {
      "cell_type": "code",
      "execution_count": 49,
      "metadata": {
        "colab": {
          "base_uri": "https://localhost:8080/"
        },
        "id": "uyar-Mio17BG",
        "outputId": "3cf89c4f-1ec3-4344-b1d8-479a9e9db1b3"
      },
      "outputs": [
        {
          "name": "stdout",
          "output_type": "stream",
          "text": [
            "Payment_Method\n",
            "Credit Card    52800\n",
            "Debit Card     45314\n",
            "Cash           42775\n",
            "PayPal         36263\n",
            "Unknown          183\n",
            "Name: count, dtype: int64\n"
          ]
        }
      ],
      "source": [
        "# Count how many times each payment method was used\n",
        "payment_counts = df_time['Payment_Method'].value_counts()\n",
        "print(payment_counts)\n"
      ]
    },
    {
      "cell_type": "code",
      "execution_count": 50,
      "metadata": {
        "colab": {
          "base_uri": "https://localhost:8080/",
          "height": 614
        },
        "id": "TIDJMqVb6gvR",
        "outputId": "8b4f7cf3-ce83-4ff2-f6b6-bd755dfc2dd0"
      },
      "outputs": [
        {
          "name": "stderr",
          "output_type": "stream",
          "text": [
            "C:\\Users\\Mukesh\\AppData\\Local\\Temp\\ipykernel_21104\\2193223707.py:6: FutureWarning: \n",
            "\n",
            "Passing `palette` without assigning `hue` is deprecated and will be removed in v0.14.0. Assign the `y` variable to `hue` and set `legend=False` for the same effect.\n",
            "\n",
            "  sns.barplot(x=payment_counts.values, y=payment_counts.index, palette='pastel')\n"
          ]
        },
        {
          "data": {
            "image/png": "[encoded data removed]",
            "text/plain": [
              "<Figure size 800x500 with 1 Axes>"
            ]
          },
          "metadata": {},
          "output_type": "display_data"
        }
      ],
      "source": [
        "# Visualize the result\n",
        "import matplotlib.pyplot as plt\n",
        "import seaborn as sns\n",
        "\n",
        "plt.figure(figsize=(8,5))\n",
        "sns.barplot(x=payment_counts.values, y=payment_counts.index, palette='pastel')\n",
        "plt.title('Preferred Payment Methods by Order Count')\n",
        "plt.xlabel('Number of Orders')\n",
        "plt.ylabel('Payment Method')\n",
        "plt.tight_layout()\n",
        "plt.show()"
      ]
    },
    {
      "cell_type": "markdown",
      "metadata": {
        "id": "3i9AqEfH66BJ"
      },
      "source": [
        "Credit Card and UPI are the most commonly used payment methods, showing a shift toward digital payments.\n",
        "\n",
        "COD (Cash on Delivery) still holds relevance, especially in regions where trust in online payments is lower.\n",
        "\n",
        "Knowing what payment methods customers prefer can help retailers optimize checkout experiences and reduce cart abandonment.\n",
        "\n",
        "🧠 Business Implication:\n",
        "The company can offer discounts or faster delivery options based on preferred payment modes to drive conversion and enhance UX."
      ]
    },
    {
      "cell_type": "markdown",
      "metadata": {
        "id": "5t850A7M7ljC"
      },
      "source": [
        "11: Ratings vs Feedback Correlation\n",
        "🔍 Objective:\n",
        "To explore how customer ratings (1 to 5) relate to the type of feedback given (e.g., “Excellent”, “Good”, “Bad”). This helps evaluate how feedback sentiments align with quantitative ratings."
      ]
    },
    {
      "cell_type": "code",
      "execution_count": 51,
      "metadata": {
        "colab": {
          "base_uri": "https://localhost:8080/"
        },
        "id": "Wj01iW1W6i9K",
        "outputId": "afd7b0a5-6c48-4557-bb4c-f0921ab3023f"
      },
      "outputs": [
        {
          "name": "stdout",
          "output_type": "stream",
          "text": [
            "Unique Feedback Types: ['Excellent' 'Average' 'Good' 'Bad' 'Unknown']\n",
            "Unique Ratings: [5. 4. 2. 1. 3.]\n"
          ]
        }
      ],
      "source": [
        "# Step 1: Check unique feedback types\n",
        "print(\"Unique Feedback Types:\", df_time['Feedback'].unique())\n",
        "print(\"Unique Ratings:\", df_time['Ratings'].unique())"
      ]
    },
    {
      "cell_type": "code",
      "execution_count": 52,
      "metadata": {
        "colab": {
          "base_uri": "https://localhost:8080/"
        },
        "id": "TwT1PxqA7uQN",
        "outputId": "00cc2c17-a185-4e2f-8748-185a0500b2b2"
      },
      "outputs": [
        {
          "name": "stdout",
          "output_type": "stream",
          "text": [
            "Ratings      1.0    2.0    3.0    4.0    5.0\n",
            "Feedback                                    \n",
            "Average        0  36701      0      0      0\n",
            "Bad        25104      0      0      0      0\n",
            "Excellent      0      0      0  29638  29563\n",
            "Good           0      0  28130  28087      0\n",
            "Unknown        0      0    112      0      0\n"
          ]
        }
      ],
      "source": [
        "# Step 2: Create a crosstab of Feedback vs Ratings\n",
        "feedback_rating_ct = pd.crosstab(df_time['Feedback'], df_time['Ratings'])\n",
        "print(feedback_rating_ct)"
      ]
    },
    {
      "cell_type": "code",
      "execution_count": 53,
      "metadata": {
        "colab": {
          "base_uri": "https://localhost:8080/",
          "height": 607
        },
        "id": "ioU-PSrv7xMf",
        "outputId": "1b7e1300-14a9-4096-a53d-373c1a370471"
      },
      "outputs": [
        {
          "data": {
            "image/png": "[encoded data removed]",
            "text/plain": [
              "<Figure size 1000x600 with 2 Axes>"
            ]
          },
          "metadata": {},
          "output_type": "display_data"
        }
      ],
      "source": [
        "# Step 3: Plot heatmap for better visual correlation\n",
        "import seaborn as sns\n",
        "import matplotlib.pyplot as plt\n",
        "\n",
        "plt.figure(figsize=(10,6))\n",
        "sns.heatmap(feedback_rating_ct, annot=True, cmap=\"YlGnBu\", fmt='g')\n",
        "plt.title('Feedback Type vs Rating Correlation')\n",
        "plt.xlabel('Rating')\n",
        "plt.ylabel('Feedback')\n",
        "plt.tight_layout()\n",
        "plt.show()"
      ]
    },
    {
      "cell_type": "markdown",
      "metadata": {
        "id": "5Vy1pcSsFZez"
      },
      "source": [
        "EDA Step 12: Time-of-Day Analysis\n",
        "o identify the most active times of the day for customer purchases, helping businesses schedule promotions and manage traffic effectively.\n",
        "\n",
        "  (PEAK HOURS)"
      ]
    },
    {
      "cell_type": "code",
      "execution_count": 54,
      "metadata": {
        "colab": {
          "base_uri": "https://localhost:8080/"
        },
        "id": "ULpp0uW2CYtH",
        "outputId": "152a157f-c8c2-47a8-dde0-543f53b93a34"
      },
      "outputs": [
        {
          "name": "stdout",
          "output_type": "stream",
          "text": [
            "Time_Slot\n",
            "Morning (5AM-12PM)      52041\n",
            "Afternoon (12PM-5PM)    36639\n",
            "Evening (5PM-9PM)       29835\n",
            "Night (9PM-5AM)         58820\n",
            "Name: count, dtype: int64\n"
          ]
        }
      ],
      "source": [
        "time_slot_counts = df_time['Time_Slot'].value_counts().reindex([\n",
        "    'Morning (5AM-12PM)',\n",
        "    'Afternoon (12PM-5PM)',\n",
        "    'Evening (5PM-9PM)',\n",
        "    'Night (9PM-5AM)'\n",
        "])\n",
        "\n",
        "print(time_slot_counts)\n"
      ]
    },
    {
      "cell_type": "code",
      "execution_count": 55,
      "metadata": {
        "colab": {
          "base_uri": "https://localhost:8080/",
          "height": 595
        },
        "id": "LR3nx--CDM-U",
        "outputId": "4a1119d0-d94c-4bea-8aa2-0fc9f8204f10"
      },
      "outputs": [
        {
          "name": "stderr",
          "output_type": "stream",
          "text": [
            "C:\\Users\\Mukesh\\AppData\\Local\\Temp\\ipykernel_21104\\1539047514.py:16: UserWarning: Glyph 128338 (\\N{CLOCK FACE THREE OCLOCK}) missing from font(s) DejaVu Sans.\n",
            "  plt.tight_layout()\n",
            "d:\\dsa python udemy\\venv\\Lib\\site-packages\\IPython\\core\\pylabtools.py:170: UserWarning: Glyph 128338 (\\N{CLOCK FACE THREE OCLOCK}) missing from font(s) DejaVu Sans.\n",
            "  fig.canvas.print_figure(bytes_io, **kw)\n"
          ]
        },
        {
          "data": {
            "image/png": "[encoded data removed]",
            "text/plain": [
              "<Figure size 1000x500 with 1 Axes>"
            ]
          },
          "metadata": {},
          "output_type": "display_data"
        }
      ],
      "source": [
        "import matplotlib.pyplot as plt\n",
        "\n",
        "plt.figure(figsize=(10, 5))\n",
        "time_slot_counts.plot(kind='bar', color='orange', edgecolor='black')\n",
        "\n",
        "plt.title(\"🕒 Purchase Volume by Time of Day\")\n",
        "plt.xlabel(\"Time Slot\")\n",
        "plt.ylabel(\"Number of Purchases\")\n",
        "plt.xticks(rotation=45)\n",
        "\n",
        "# Add number labels above bars\n",
        "for idx, val in enumerate(time_slot_counts):\n",
        "    plt.text(idx, val + 500, f\"{val:,}\", ha='center', va='bottom', fontsize=10)\n",
        "\n",
        "plt.grid(axis='y', linestyle='--', alpha=0.7)\n",
        "plt.tight_layout()\n",
        "plt.show()\n"
      ]
    },
    {
      "cell_type": "markdown",
      "metadata": {
        "id": "zd2LPwmVFxWt"
      },
      "source": [
        "💡 Insight: Time-Based Shopping Behavior\n",
        "📌 When do people shop the most?\n",
        "\n",
        "🌙 Night (9PM–5AM) — Highest activity with 58,820 purchases\n",
        "Likely reflects late-night browsing or convenience shopping.\n",
        "\n",
        "🌅 Morning (5AM–12PM) — Second most active with 52,041\n",
        "Many people start their day with planned purchases.\n",
        "\n",
        "☀️ Afternoon (12PM–5PM) — Moderate activity at 36,639\n",
        "May reflect casual shopping during work or lunch breaks.\n",
        "\n",
        "🌆 Evening (5PM–9PM) — Lowest with 29,835\n",
        "Possibly due to commuting, dinner, or family time.\n",
        "\n",
        "🧠 Business Implication:\n",
        "Retailers should target promotions, email campaigns, or flash sales during Night and Morning slots to maximize conversion.\n",
        "This insight is critical for timing mobile push notifications and optimizing ad spend windows."
      ]
    },
    {
      "cell_type": "markdown",
      "metadata": {
        "id": "v8Pp7iszGN8Z"
      },
      "source": [
        "EDA Step 13: Repeat Purchase Analysis (Loyal vs One-time Customers)\n",
        " Goal:\n",
        "To understand how many customers are repeat buyers vs one-time buyers, which helps identify loyalty and retention trends."
      ]
    },
    {
      "cell_type": "code",
      "execution_count": 56,
      "metadata": {
        "colab": {
          "base_uri": "https://localhost:8080/"
        },
        "id": "NAAq1nw5FjmR",
        "outputId": "e714e2a0-ec3d-4f99-c1d1-7cb8fdeab772"
      },
      "outputs": [
        {
          "name": "stdout",
          "output_type": "stream",
          "text": [
            "count\n",
            "Repeat      52705\n",
            "One-Time    24565\n",
            "Name: count, dtype: int64\n"
          ]
        }
      ],
      "source": [
        "# Count how many times each Customer_ID appears\n",
        "customer_purchase_counts = df_time['Customer_ID'].value_counts()\n",
        "\n",
        "# Classify them\n",
        "repeat_status = customer_purchase_counts.apply(lambda x: 'Repeat' if x > 1 else 'One-Time')\n",
        "\n",
        "# Create a DataFrame\n",
        "repeat_df = repeat_status.value_counts()\n",
        "print(repeat_df)\n"
      ]
    },
    {
      "cell_type": "code",
      "execution_count": 57,
      "metadata": {
        "colab": {
          "base_uri": "https://localhost:8080/",
          "height": 696
        },
        "id": "73kgNJ2oGUVw",
        "outputId": "fddaf5d0-b698-4739-e614-911c1fbfe93c"
      },
      "outputs": [
        {
          "name": "stderr",
          "output_type": "stream",
          "text": [
            "C:\\Users\\Mukesh\\AppData\\Local\\Temp\\ipykernel_21104\\3136451589.py:15: UserWarning: Glyph 128257 (\\N{CLOCKWISE RIGHTWARDS AND LEFTWARDS OPEN CIRCLE ARROWS}) missing from font(s) DejaVu Sans.\n",
            "  plt.tight_layout()\n",
            "d:\\dsa python udemy\\venv\\Lib\\site-packages\\IPython\\core\\pylabtools.py:170: UserWarning: Glyph 128257 (\\N{CLOCKWISE RIGHTWARDS AND LEFTWARDS OPEN CIRCLE ARROWS}) missing from font(s) DejaVu Sans.\n",
            "  fig.canvas.print_figure(bytes_io, **kw)\n"
          ]
        },
        {
          "data": {
            "image/png": "[encoded data removed]",
            "text/plain": [
              "<Figure size 600x600 with 1 Axes>"
            ]
          },
          "metadata": {},
          "output_type": "display_data"
        }
      ],
      "source": [
        "import matplotlib.pyplot as plt\n",
        "\n",
        "# Plot\n",
        "plt.figure(figsize=(6, 6))\n",
        "repeat_df.plot(\n",
        "    kind='pie',\n",
        "    autopct='%1.1f%%',\n",
        "    startangle=90,\n",
        "    colors=['#66c2a5', '#fc8d62'],  # greenish & orange tones\n",
        "    wedgeprops=dict(width=0.4)     # donut-style\n",
        ")\n",
        "\n",
        "plt.title(\"🔁 Repeat vs One-Time Customers\")\n",
        "plt.ylabel(\"\")  # Hide y-axis label\n",
        "plt.tight_layout()\n",
        "plt.show()\n"
      ]
    },
    {
      "cell_type": "markdown",
      "metadata": {
        "id": "irtmh4UmG8eB"
      },
      "source": [
        "💡 Insight: Customer Retention Behavior\n",
        "📌 Repeat vs One-Time Customers\n",
        "\n",
        "🔁 Repeat Customers: 68%\n",
        "A very high proportion of users are making multiple purchases, indicating strong brand loyalty or effective retention strategies.\n",
        "\n",
        "🚶‍♂️ One-Time Customers: 31%\n",
        "This smaller group could be targeted with re-engagement offers or personalized follow-ups to encourage repeat behavior.\n",
        "\n",
        "🧠 Business Implication:\n",
        "Focusing on nurturing repeat customers through loyalty programs or exclusive offers could significantly boost lifetime value.\n",
        "Meanwhile, strategies like cart abandonment emails or onboarding incentives can help convert one-time customers into repeat buyers.    \n",
        "\n",
        "✅ So out of 293,123 total transactions:\n",
        "\n",
        "🔁 Repeat customers made ~260,200 purchases\n",
        "\n",
        "🧍 One-Time customers made ~32,923 purchases\n",
        "\n"
      ]
    },
    {
      "cell_type": "markdown",
      "metadata": {
        "id": "ceYw2vOnCOda"
      },
      "source": [
        "Box Plot — Amount vs Ratings"
      ]
    },
    {
      "cell_type": "code",
      "execution_count": 58,
      "metadata": {
        "colab": {
          "base_uri": "https://localhost:8080/",
          "height": 671
        },
        "id": "ijPqbmGhCSUm",
        "outputId": "55428da7-9108-41cd-8cb5-7a041026b582"
      },
      "outputs": [
        {
          "name": "stderr",
          "output_type": "stream",
          "text": [
            "C:\\Users\\Mukesh\\AppData\\Local\\Temp\\ipykernel_21104\\3167382983.py:4: FutureWarning: \n",
            "\n",
            "Passing `palette` without assigning `hue` is deprecated and will be removed in v0.14.0. Assign the `x` variable to `hue` and set `legend=False` for the same effect.\n",
            "\n",
            "  sns.boxplot(x='Ratings', y='Amount', data=df_time, palette='coolwarm')\n"
          ]
        },
        {
          "data": {
            "image/png": "[encoded data removed]",
            "text/plain": [
              "<Figure size 800x600 with 1 Axes>"
            ]
          },
          "metadata": {},
          "output_type": "display_data"
        }
      ],
      "source": [
        "import seaborn as sns\n",
        "\n",
        "plt.figure(figsize=(8,6))\n",
        "sns.boxplot(x='Ratings', y='Amount', data=df_time, palette='coolwarm')\n",
        "plt.title(\"Boxplot: Ratings vs Amount\")\n",
        "plt.xlabel(\"Ratings\")\n",
        "plt.ylabel(\"Amount Spent\")\n",
        "plt.show()\n"
      ]
    },
    {
      "cell_type": "markdown",
      "metadata": {
        "id": "53KUM91uFJAW"
      },
      "source": [
        "The boxplot confirms that spending does not depend on ratings.\n",
        "\n",
        "Even though ratings go from 1 star to 5 stars, the median purchase amount stays ~₹250.\n",
        "\n",
        "This means:\n",
        "\n",
        "Customers who spend less can still give high ratings.\n",
        "\n",
        "Customers who spend a lot can still give low ratings.\n",
        "\n",
        "→ So, purchase value and satisfaction are independent."
      ]
    },
    {
      "cell_type": "markdown",
      "metadata": {
        "id": "iL1IVAwuw1Eb"
      },
      "source": [
        "PHASE 3 : SQL QUERIES\n"
      ]
    },
    {
      "cell_type": "code",
      "execution_count": 59,
      "metadata": {
        "colab": {
          "base_uri": "https://localhost:8080/"
        },
        "id": "WODhK0F-bgUK",
        "outputId": "b0cd4932-0fa9-4563-db65-20fb77512bb2"
      },
      "outputs": [
        {
          "name": "stdout",
          "output_type": "stream",
          "text": [
            "Requirement already satisfied: ipython-sql in d:\\dsa python udemy\\venv\\lib\\site-packages (0.5.0)\n",
            "Requirement already satisfied: prettytable in d:\\dsa python udemy\\venv\\lib\\site-packages (from ipython-sql) (3.10.0)\n",
            "Requirement already satisfied: ipython in d:\\dsa python udemy\\venv\\lib\\site-packages (from ipython-sql) (9.4.0)\n",
            "Requirement already satisfied: sqlalchemy>=2.0 in d:\\dsa python udemy\\venv\\lib\\site-packages (from ipython-sql) (2.0.43)\n",
            "Requirement already satisfied: sqlparse in d:\\dsa python udemy\\venv\\lib\\site-packages (from ipython-sql) (0.5.3)\n",
            "Requirement already satisfied: six in d:\\dsa python udemy\\venv\\lib\\site-packages (from ipython-sql) (1.17.0)\n",
            "Requirement already satisfied: ipython-genutils in d:\\dsa python udemy\\venv\\lib\\site-packages (from ipython-sql) (0.2.0)\n",
            "Requirement already satisfied: greenlet>=1 in d:\\dsa python udemy\\venv\\lib\\site-packages (from sqlalchemy>=2.0->ipython-sql) (3.2.4)\n",
            "Requirement already satisfied: typing-extensions>=4.6.0 in d:\\dsa python udemy\\venv\\lib\\site-packages (from sqlalchemy>=2.0->ipython-sql) (4.15.0)\n",
            "Requirement already satisfied: colorama in d:\\dsa python udemy\\venv\\lib\\site-packages (from ipython->ipython-sql) (0.4.6)\n",
            "Requirement already satisfied: decorator in d:\\dsa python udemy\\venv\\lib\\site-packages (from ipython->ipython-sql) (5.2.1)\n",
            "Requirement already satisfied: ipython-pygments-lexers in d:\\dsa python udemy\\venv\\lib\\site-packages (from ipython->ipython-sql) (1.1.1)\n",
            "Requirement already satisfied: jedi>=0.16 in d:\\dsa python udemy\\venv\\lib\\site-packages (from ipython->ipython-sql) (0.19.2)\n",
            "Requirement already satisfied: matplotlib-inline in d:\\dsa python udemy\\venv\\lib\\site-packages (from ipython->ipython-sql) (0.1.7)\n",
            "Requirement already satisfied: prompt_toolkit<3.1.0,>=3.0.41 in d:\\dsa python udemy\\venv\\lib\\site-packages (from ipython->ipython-sql) (3.0.51)\n",
            "Requirement already satisfied: pygments>=2.4.0 in d:\\dsa python udemy\\venv\\lib\\site-packages (from ipython->ipython-sql) (2.19.2)\n",
            "Requirement already satisfied: stack_data in d:\\dsa python udemy\\venv\\lib\\site-packages (from ipython->ipython-sql) (0.6.3)\n",
            "Requirement already satisfied: traitlets>=5.13.0 in d:\\dsa python udemy\\venv\\lib\\site-packages (from ipython->ipython-sql) (5.14.3)\n",
            "Requirement already satisfied: wcwidth in d:\\dsa python udemy\\venv\\lib\\site-packages (from prompt_toolkit<3.1.0,>=3.0.41->ipython->ipython-sql) (0.2.13)\n",
            "Requirement already satisfied: parso<0.9.0,>=0.8.4 in d:\\dsa python udemy\\venv\\lib\\site-packages (from jedi>=0.16->ipython->ipython-sql) (0.8.4)\n",
            "Requirement already satisfied: executing>=1.2.0 in d:\\dsa python udemy\\venv\\lib\\site-packages (from stack_data->ipython->ipython-sql) (2.2.0)\n",
            "Requirement already satisfied: asttokens>=2.1.0 in d:\\dsa python udemy\\venv\\lib\\site-packages (from stack_data->ipython->ipython-sql) (3.0.0)\n",
            "Requirement already satisfied: pure-eval in d:\\dsa python udemy\\venv\\lib\\site-packages (from stack_data->ipython->ipython-sql) (0.2.3)\n"
          ]
        }
      ],
      "source": [
        "!pip install ipython-sql\n",
        "\n",
        "\n"
      ]
    },
    {
      "cell_type": "code",
      "execution_count": 60,
      "metadata": {},
      "outputs": [
        {
          "name": "stderr",
          "output_type": "stream",
          "text": [
            "C:\\Users\\Mukesh\\AppData\\Local\\Temp\\ipykernel_21104\\2341493641.py:9: UserWarning: Parsing dates in %d-%m-%Y format when dayfirst=False (the default) was specified. Pass `dayfirst=True` or specify a format to silence this warning.\n",
            "  df['Date'] = pd.to_datetime(df['Date'])\n"
          ]
        },
        {
          "name": "stdout",
          "output_type": "stream",
          "text": [
            "✅ Data loaded into SQLite successfully!\n"
          ]
        }
      ],
      "source": [
        "import sqlite3\n",
        "import pandas as pd\n",
        "\n",
        "# Load the cleaned dataset\n",
        "df = pd.read_csv(r\"C:\\Users\\Mukesh\\Desktop\\SEM 7 PROJECT PROPOSALS\\df_time_cleaned.csv\")\n",
        "\n",
        "# 2. *** THIS IS THE CRITICAL FIX ***\n",
        "# Ensure the 'Date' column is a proper datetime object\n",
        "df['Date'] = pd.to_datetime(df['Date'])\n",
        "\n",
        "# Create SQLite connection\n",
        "conn = sqlite3.connect(\"retail_analytics.db\")\n",
        "\n",
        "# Store dataframe into SQL table\n",
        "df.to_sql(\"RetailData\", conn, if_exists=\"replace\", index=False)\n",
        "\n",
        "print(\"✅ Data loaded into SQLite successfully!\")"
      ]
    },
    {
      "cell_type": "markdown",
      "metadata": {},
      "source": [
        "1st Dashboard -- Global Sales Overview"
      ]
    },
    {
      "cell_type": "markdown",
      "metadata": {},
      "source": [
        "--SQL Queries for viva to showcase skills"
      ]
    },
    {
      "cell_type": "code",
      "execution_count": 61,
      "metadata": {},
      "outputs": [
        {
          "data": {
            "text/html": [
              "<div>\n",
              "<style scoped>\n",
              "    .dataframe tbody tr th:only-of-type {\n",
              "        vertical-align: middle;\n",
              "    }\n",
              "\n",
              "    .dataframe tbody tr th {\n",
              "        vertical-align: top;\n",
              "    }\n",
              "\n",
              "    .dataframe thead th {\n",
              "        text-align: right;\n",
              "    }\n",
              "</style>\n",
              "<table border=\"1\" class=\"dataframe\">\n",
              "  <thead>\n",
              "    <tr style=\"text-align: right;\">\n",
              "      <th></th>\n",
              "      <th>Total_Transactions</th>\n",
              "    </tr>\n",
              "  </thead>\n",
              "  <tbody>\n",
              "    <tr>\n",
              "      <th>0</th>\n",
              "      <td>177335</td>\n",
              "    </tr>\n",
              "  </tbody>\n",
              "</table>\n",
              "</div>"
            ],
            "text/plain": [
              "   Total_Transactions\n",
              "0              177335"
            ]
          },
          "execution_count": 61,
          "metadata": {},
          "output_type": "execute_result"
        }
      ],
      "source": [
        "# Count total transactions\n",
        "pd.read_sql_query(\"SELECT COUNT(*) AS Total_Transactions FROM RetailData;\", conn)\n"
      ]
    },
    {
      "cell_type": "code",
      "execution_count": 62,
      "metadata": {},
      "outputs": [
        {
          "data": {
            "text/html": [
              "<div>\n",
              "<style scoped>\n",
              "    .dataframe tbody tr th:only-of-type {\n",
              "        vertical-align: middle;\n",
              "    }\n",
              "\n",
              "    .dataframe tbody tr th {\n",
              "        vertical-align: top;\n",
              "    }\n",
              "\n",
              "    .dataframe thead th {\n",
              "        text-align: right;\n",
              "    }\n",
              "</style>\n",
              "<table border=\"1\" class=\"dataframe\">\n",
              "  <thead>\n",
              "    <tr style=\"text-align: right;\">\n",
              "      <th></th>\n",
              "      <th>Unique_Customers</th>\n",
              "    </tr>\n",
              "  </thead>\n",
              "  <tbody>\n",
              "    <tr>\n",
              "      <th>0</th>\n",
              "      <td>77270</td>\n",
              "    </tr>\n",
              "  </tbody>\n",
              "</table>\n",
              "</div>"
            ],
            "text/plain": [
              "   Unique_Customers\n",
              "0             77270"
            ]
          },
          "execution_count": 62,
          "metadata": {},
          "output_type": "execute_result"
        }
      ],
      "source": [
        "# Find unique customers\n",
        "pd.read_sql_query(\"SELECT COUNT(DISTINCT Customer_ID) AS Unique_Customers FROM RetailData;\", conn)\n"
      ]
    },
    {
      "cell_type": "code",
      "execution_count": 63,
      "metadata": {},
      "outputs": [
        {
          "data": {
            "text/html": [
              "<div>\n",
              "<style scoped>\n",
              "    .dataframe tbody tr th:only-of-type {\n",
              "        vertical-align: middle;\n",
              "    }\n",
              "\n",
              "    .dataframe tbody tr th {\n",
              "        vertical-align: top;\n",
              "    }\n",
              "\n",
              "    .dataframe thead th {\n",
              "        text-align: right;\n",
              "    }\n",
              "</style>\n",
              "<table border=\"1\" class=\"dataframe\">\n",
              "  <thead>\n",
              "    <tr style=\"text-align: right;\">\n",
              "      <th></th>\n",
              "      <th>Total_Revenue</th>\n",
              "    </tr>\n",
              "  </thead>\n",
              "  <tbody>\n",
              "    <tr>\n",
              "      <th>0</th>\n",
              "      <td>2.426114e+08</td>\n",
              "    </tr>\n",
              "  </tbody>\n",
              "</table>\n",
              "</div>"
            ],
            "text/plain": [
              "   Total_Revenue\n",
              "0   2.426114e+08"
            ]
          },
          "execution_count": 63,
          "metadata": {},
          "output_type": "execute_result"
        }
      ],
      "source": [
        "# Total revenue\n",
        "pd.read_sql_query(\"SELECT SUM(Total_Amount) AS Total_Revenue FROM RetailData;\",conn)"
      ]
    },
    {
      "cell_type": "markdown",
      "metadata": {},
      "source": [
        "total revenue generated is 242,611,400."
      ]
    },
    {
      "cell_type": "code",
      "execution_count": 64,
      "metadata": {},
      "outputs": [
        {
          "data": {
            "text/html": [
              "<div>\n",
              "<style scoped>\n",
              "    .dataframe tbody tr th:only-of-type {\n",
              "        vertical-align: middle;\n",
              "    }\n",
              "\n",
              "    .dataframe tbody tr th {\n",
              "        vertical-align: top;\n",
              "    }\n",
              "\n",
              "    .dataframe thead th {\n",
              "        text-align: right;\n",
              "    }\n",
              "</style>\n",
              "<table border=\"1\" class=\"dataframe\">\n",
              "  <thead>\n",
              "    <tr style=\"text-align: right;\">\n",
              "      <th></th>\n",
              "      <th>City</th>\n",
              "      <th>Sales</th>\n",
              "    </tr>\n",
              "  </thead>\n",
              "  <tbody>\n",
              "    <tr>\n",
              "      <th>0</th>\n",
              "      <td>Chicago</td>\n",
              "      <td>1.746657e+07</td>\n",
              "    </tr>\n",
              "    <tr>\n",
              "      <th>1</th>\n",
              "      <td>Portsmouth</td>\n",
              "      <td>1.654581e+07</td>\n",
              "    </tr>\n",
              "    <tr>\n",
              "      <th>2</th>\n",
              "      <td>San Francisco</td>\n",
              "      <td>9.708556e+06</td>\n",
              "    </tr>\n",
              "    <tr>\n",
              "      <th>3</th>\n",
              "      <td>Frankfurt</td>\n",
              "      <td>8.343588e+06</td>\n",
              "    </tr>\n",
              "    <tr>\n",
              "      <th>4</th>\n",
              "      <td>Boston</td>\n",
              "      <td>7.493975e+06</td>\n",
              "    </tr>\n",
              "  </tbody>\n",
              "</table>\n",
              "</div>"
            ],
            "text/plain": [
              "            City         Sales\n",
              "0        Chicago  1.746657e+07\n",
              "1     Portsmouth  1.654581e+07\n",
              "2  San Francisco  9.708556e+06\n",
              "3      Frankfurt  8.343588e+06\n",
              "4         Boston  7.493975e+06"
            ]
          },
          "execution_count": 64,
          "metadata": {},
          "output_type": "execute_result"
        }
      ],
      "source": [
        "# Top 5 cities by revenue\n",
        "pd.read_sql_query(\"\"\"\n",
        "SELECT City, SUM(Total_Amount) AS Sales\n",
        "FROM RetailData\n",
        "GROUP BY City\n",
        "ORDER BY Sales DESC\n",
        "LIMIT 5;\n",
        "\"\"\", conn)\n"
      ]
    },
    {
      "cell_type": "markdown",
      "metadata": {},
      "source": [
        "\n",
        "\n",
        "City\tSales (in monetary units)\n",
        "Chicago\t17,466,570\n",
        "Portsmouth\t16,545,810\n",
        "San Francisco\t9,708,556\n",
        "Frankfurt\t8,343,588\n",
        "Boston\t7,493,975"
      ]
    },
    {
      "cell_type": "code",
      "execution_count": 65,
      "metadata": {},
      "outputs": [
        {
          "data": {
            "text/html": [
              "<div>\n",
              "<style scoped>\n",
              "    .dataframe tbody tr th:only-of-type {\n",
              "        vertical-align: middle;\n",
              "    }\n",
              "\n",
              "    .dataframe tbody tr th {\n",
              "        vertical-align: top;\n",
              "    }\n",
              "\n",
              "    .dataframe thead th {\n",
              "        text-align: right;\n",
              "    }\n",
              "</style>\n",
              "<table border=\"1\" class=\"dataframe\">\n",
              "  <thead>\n",
              "    <tr style=\"text-align: right;\">\n",
              "      <th></th>\n",
              "      <th>Year</th>\n",
              "      <th>Month</th>\n",
              "      <th>Avg_Sales</th>\n",
              "    </tr>\n",
              "  </thead>\n",
              "  <tbody>\n",
              "    <tr>\n",
              "      <th>0</th>\n",
              "      <td>2023</td>\n",
              "      <td>April</td>\n",
              "      <td>1385.960322</td>\n",
              "    </tr>\n",
              "    <tr>\n",
              "      <th>1</th>\n",
              "      <td>2023</td>\n",
              "      <td>August</td>\n",
              "      <td>1367.904754</td>\n",
              "    </tr>\n",
              "    <tr>\n",
              "      <th>2</th>\n",
              "      <td>2023</td>\n",
              "      <td>December</td>\n",
              "      <td>1368.448105</td>\n",
              "    </tr>\n",
              "    <tr>\n",
              "      <th>3</th>\n",
              "      <td>2023</td>\n",
              "      <td>July</td>\n",
              "      <td>1372.152847</td>\n",
              "    </tr>\n",
              "    <tr>\n",
              "      <th>4</th>\n",
              "      <td>2023</td>\n",
              "      <td>June</td>\n",
              "      <td>1359.307862</td>\n",
              "    </tr>\n",
              "    <tr>\n",
              "      <th>5</th>\n",
              "      <td>2023</td>\n",
              "      <td>March</td>\n",
              "      <td>1375.827715</td>\n",
              "    </tr>\n",
              "    <tr>\n",
              "      <th>6</th>\n",
              "      <td>2023</td>\n",
              "      <td>May</td>\n",
              "      <td>1371.091170</td>\n",
              "    </tr>\n",
              "    <tr>\n",
              "      <th>7</th>\n",
              "      <td>2023</td>\n",
              "      <td>November</td>\n",
              "      <td>1370.852139</td>\n",
              "    </tr>\n",
              "    <tr>\n",
              "      <th>8</th>\n",
              "      <td>2023</td>\n",
              "      <td>October</td>\n",
              "      <td>1354.161839</td>\n",
              "    </tr>\n",
              "    <tr>\n",
              "      <th>9</th>\n",
              "      <td>2023</td>\n",
              "      <td>September</td>\n",
              "      <td>1360.214579</td>\n",
              "    </tr>\n",
              "    <tr>\n",
              "      <th>10</th>\n",
              "      <td>2024</td>\n",
              "      <td>February</td>\n",
              "      <td>1376.791093</td>\n",
              "    </tr>\n",
              "    <tr>\n",
              "      <th>11</th>\n",
              "      <td>2024</td>\n",
              "      <td>January</td>\n",
              "      <td>1355.402337</td>\n",
              "    </tr>\n",
              "  </tbody>\n",
              "</table>\n",
              "</div>"
            ],
            "text/plain": [
              "    Year      Month    Avg_Sales\n",
              "0   2023      April  1385.960322\n",
              "1   2023     August  1367.904754\n",
              "2   2023   December  1368.448105\n",
              "3   2023       July  1372.152847\n",
              "4   2023       June  1359.307862\n",
              "5   2023      March  1375.827715\n",
              "6   2023        May  1371.091170\n",
              "7   2023   November  1370.852139\n",
              "8   2023    October  1354.161839\n",
              "9   2023  September  1360.214579\n",
              "10  2024   February  1376.791093\n",
              "11  2024    January  1355.402337"
            ]
          },
          "execution_count": 65,
          "metadata": {},
          "output_type": "execute_result"
        }
      ],
      "source": [
        "# Monthly average revenue\n",
        "pd.read_sql_query(\"\"\"\n",
        "SELECT Year, Month, AVG(Total_Amount) AS Avg_Sales\n",
        "FROM RetailData\n",
        "GROUP BY Year, Month\n",
        "ORDER BY Year, Month;\n",
        "\"\"\",conn)"
      ]
    },
    {
      "cell_type": "code",
      "execution_count": 66,
      "metadata": {},
      "outputs": [
        {
          "data": {
            "text/html": [
              "<div>\n",
              "<style scoped>\n",
              "    .dataframe tbody tr th:only-of-type {\n",
              "        vertical-align: middle;\n",
              "    }\n",
              "\n",
              "    .dataframe tbody tr th {\n",
              "        vertical-align: top;\n",
              "    }\n",
              "\n",
              "    .dataframe thead th {\n",
              "        text-align: right;\n",
              "    }\n",
              "</style>\n",
              "<table border=\"1\" class=\"dataframe\">\n",
              "  <thead>\n",
              "    <tr style=\"text-align: right;\">\n",
              "      <th></th>\n",
              "      <th>Customer_ID</th>\n",
              "      <th>Customer_LTV</th>\n",
              "    </tr>\n",
              "  </thead>\n",
              "  <tbody>\n",
              "    <tr>\n",
              "      <th>0</th>\n",
              "      <td>41641</td>\n",
              "      <td>21931.911727</td>\n",
              "    </tr>\n",
              "    <tr>\n",
              "      <th>1</th>\n",
              "      <td>97957</td>\n",
              "      <td>20803.449759</td>\n",
              "    </tr>\n",
              "    <tr>\n",
              "      <th>2</th>\n",
              "      <td>64700</td>\n",
              "      <td>19758.715929</td>\n",
              "    </tr>\n",
              "    <tr>\n",
              "      <th>3</th>\n",
              "      <td>51318</td>\n",
              "      <td>19631.648351</td>\n",
              "    </tr>\n",
              "    <tr>\n",
              "      <th>4</th>\n",
              "      <td>75534</td>\n",
              "      <td>18789.390823</td>\n",
              "    </tr>\n",
              "    <tr>\n",
              "      <th>5</th>\n",
              "      <td>42972</td>\n",
              "      <td>18726.313731</td>\n",
              "    </tr>\n",
              "    <tr>\n",
              "      <th>6</th>\n",
              "      <td>64252</td>\n",
              "      <td>18157.575359</td>\n",
              "    </tr>\n",
              "    <tr>\n",
              "      <th>7</th>\n",
              "      <td>19113</td>\n",
              "      <td>18036.242764</td>\n",
              "    </tr>\n",
              "    <tr>\n",
              "      <th>8</th>\n",
              "      <td>14004</td>\n",
              "      <td>17817.697728</td>\n",
              "    </tr>\n",
              "    <tr>\n",
              "      <th>9</th>\n",
              "      <td>57673</td>\n",
              "      <td>17792.432760</td>\n",
              "    </tr>\n",
              "  </tbody>\n",
              "</table>\n",
              "</div>"
            ],
            "text/plain": [
              "   Customer_ID  Customer_LTV\n",
              "0        41641  21931.911727\n",
              "1        97957  20803.449759\n",
              "2        64700  19758.715929\n",
              "3        51318  19631.648351\n",
              "4        75534  18789.390823\n",
              "5        42972  18726.313731\n",
              "6        64252  18157.575359\n",
              "7        19113  18036.242764\n",
              "8        14004  17817.697728\n",
              "9        57673  17792.432760"
            ]
          },
          "execution_count": 66,
          "metadata": {},
          "output_type": "execute_result"
        }
      ],
      "source": [
        "# Revenue per customer (LTV style)\n",
        "pd.read_sql_query(\"\"\"\n",
        "SELECT Customer_ID, SUM(Total_Amount) AS Customer_LTV\n",
        "FROM RetailData\n",
        "GROUP BY Customer_ID\n",
        "ORDER BY Customer_LTV DESC\n",
        "LIMIT 10;\n",
        "\"\"\", conn)\n"
      ]
    },
    {
      "cell_type": "code",
      "execution_count": 67,
      "metadata": {},
      "outputs": [
        {
          "data": {
            "text/html": [
              "<div>\n",
              "<style scoped>\n",
              "    .dataframe tbody tr th:only-of-type {\n",
              "        vertical-align: middle;\n",
              "    }\n",
              "\n",
              "    .dataframe tbody tr th {\n",
              "        vertical-align: top;\n",
              "    }\n",
              "\n",
              "    .dataframe thead th {\n",
              "        text-align: right;\n",
              "    }\n",
              "</style>\n",
              "<table border=\"1\" class=\"dataframe\">\n",
              "  <thead>\n",
              "    <tr style=\"text-align: right;\">\n",
              "      <th></th>\n",
              "      <th>First_Transaction_Date</th>\n",
              "      <th>Last_Transaction_Date</th>\n",
              "    </tr>\n",
              "  </thead>\n",
              "  <tbody>\n",
              "    <tr>\n",
              "      <th>0</th>\n",
              "      <td>2023-03-13 00:00:00</td>\n",
              "      <td>2024-02-29 00:00:00</td>\n",
              "    </tr>\n",
              "  </tbody>\n",
              "</table>\n",
              "</div>"
            ],
            "text/plain": [
              "  First_Transaction_Date Last_Transaction_Date\n",
              "0    2023-03-13 00:00:00   2024-02-29 00:00:00"
            ]
          },
          "execution_count": 67,
          "metadata": {},
          "output_type": "execute_result"
        }
      ],
      "source": [
        "pd.read_sql_query(\"\"\"\n",
        "    SELECT\n",
        "        MIN(Date) AS First_Transaction_Date,\n",
        "        MAX(Date) AS Last_Transaction_Date\n",
        "    FROM\n",
        "        RetailData;\n",
        "\"\"\", conn)"
      ]
    },
    {
      "cell_type": "code",
      "execution_count": 68,
      "metadata": {},
      "outputs": [
        {
          "data": {
            "text/html": [
              "<div>\n",
              "<style scoped>\n",
              "    .dataframe tbody tr th:only-of-type {\n",
              "        vertical-align: middle;\n",
              "    }\n",
              "\n",
              "    .dataframe tbody tr th {\n",
              "        vertical-align: top;\n",
              "    }\n",
              "\n",
              "    .dataframe thead th {\n",
              "        text-align: right;\n",
              "    }\n",
              "</style>\n",
              "<table border=\"1\" class=\"dataframe\">\n",
              "  <thead>\n",
              "    <tr style=\"text-align: right;\">\n",
              "      <th></th>\n",
              "      <th>Customer_ID</th>\n",
              "    </tr>\n",
              "  </thead>\n",
              "  <tbody>\n",
              "    <tr>\n",
              "      <th>0</th>\n",
              "      <td>10000</td>\n",
              "    </tr>\n",
              "    <tr>\n",
              "      <th>1</th>\n",
              "      <td>10001</td>\n",
              "    </tr>\n",
              "    <tr>\n",
              "      <th>2</th>\n",
              "      <td>10002</td>\n",
              "    </tr>\n",
              "    <tr>\n",
              "      <th>3</th>\n",
              "      <td>10003</td>\n",
              "    </tr>\n",
              "    <tr>\n",
              "      <th>4</th>\n",
              "      <td>10005</td>\n",
              "    </tr>\n",
              "    <tr>\n",
              "      <th>...</th>\n",
              "      <td>...</td>\n",
              "    </tr>\n",
              "    <tr>\n",
              "      <th>42461</th>\n",
              "      <td>99990</td>\n",
              "    </tr>\n",
              "    <tr>\n",
              "      <th>42462</th>\n",
              "      <td>99992</td>\n",
              "    </tr>\n",
              "    <tr>\n",
              "      <th>42463</th>\n",
              "      <td>99995</td>\n",
              "    </tr>\n",
              "    <tr>\n",
              "      <th>42464</th>\n",
              "      <td>99997</td>\n",
              "    </tr>\n",
              "    <tr>\n",
              "      <th>42465</th>\n",
              "      <td>99999</td>\n",
              "    </tr>\n",
              "  </tbody>\n",
              "</table>\n",
              "<p>42466 rows × 1 columns</p>\n",
              "</div>"
            ],
            "text/plain": [
              "       Customer_ID\n",
              "0            10000\n",
              "1            10001\n",
              "2            10002\n",
              "3            10003\n",
              "4            10005\n",
              "...            ...\n",
              "42461        99990\n",
              "42462        99992\n",
              "42463        99995\n",
              "42464        99997\n",
              "42465        99999\n",
              "\n",
              "[42466 rows x 1 columns]"
            ]
          },
          "execution_count": 68,
          "metadata": {},
          "output_type": "execute_result"
        }
      ],
      "source": [
        "# Churn proxy: Customers inactive after 31 nov 2023\n",
        "pd.read_sql_query(\"\"\"\n",
        "SELECT Customer_ID\n",
        "FROM RetailData\n",
        "GROUP BY Customer_ID\n",
        "HAVING MAX(Date) < '2023-12-01';\n",
        "\"\"\", conn)\n"
      ]
    },
    {
      "cell_type": "markdown",
      "metadata": {},
      "source": [
        "\n",
        "\n",
        "Conclusion: Customer Churn Analysis\n",
        "The analysis reveals a critical customer retention challenge. The dataset contains a total of 77,270 unique customers who made purchases between March 2023 and February 2024.\n",
        "\n",
        "By defining \"churn\" as a customer having no purchase activity in the final three months of this period (December 2023 to February 2024), we identified that 42,466 customers are now inactive.\n",
        "\n",
        "This translates to an alarming customer churn rate of approximately 55%.\n",
        "\n",
        "Such a high rate indicates that a majority of the customer base consists of single-purchase or short-term buyers, pointing to potential issues in customer satisfaction, product lifecycle, or engagement strategies. For sustainable growth, the business must shift its focus from solely acquiring new customers to actively retaining its existing ones.\n",
        "\n",
        "Recommended Next Steps:\n",
        "Segment the Churned Customers: Analyze the demographic and purchasing behavior of the 42,466 churned customers to identify any common patterns.\n",
        "\n",
        "Conduct Feedback Surveys: Reach out to a sample of inactive customers to understand their reasons for leaving.\n",
        "\n",
        "Develop a Re-engagement Campaign: Launch targeted marketing initiatives with special offers to win back these high-risk customers before they are lost for good."
      ]
    },
    {
      "cell_type": "markdown",
      "metadata": {},
      "source": [
        "-- Export Queries for Power BI"
      ]
    },
    {
      "cell_type": "code",
      "execution_count": 69,
      "metadata": {},
      "outputs": [],
      "source": [
        "# Export 1: City-level Sales (for Bar Chart + Map)\n",
        "query_city_sales = \"\"\"\n",
        "SELECT City, SUM(Total_Amount) AS Total_Revenue\n",
        "FROM RetailData\n",
        "GROUP BY City\n",
        "ORDER BY Total_Revenue DESC;\n",
        "\"\"\"\n",
        "df_city_sales = pd.read_sql_query(query_city_sales, conn)\n",
        "df_city_sales.to_csv(\"output_city_sales.csv\", index=False)\n"
      ]
    },
    {
      "cell_type": "code",
      "execution_count": 70,
      "metadata": {},
      "outputs": [],
      "source": [
        "# Export 2: Monthly Revenue Trend (for Line Chart)\n",
        "query_monthly_sales = \"\"\"\n",
        "SELECT Year, Month, SUM(Total_Amount) AS Monthly_Revenue\n",
        "FROM RetailData\n",
        "GROUP BY Year, Month\n",
        "ORDER BY Year, Month;\n",
        "\"\"\"\n",
        "df_monthly_sales = pd.read_sql_query(query_monthly_sales, conn)\n",
        "df_monthly_sales.to_csv(\"output_monthly_sales.csv\", index=False)\n"
      ]
    },
    {
      "cell_type": "code",
      "execution_count": 71,
      "metadata": {},
      "outputs": [],
      "source": [
        "# Export 3: Order Status Distribution (for Donut Chart)\n",
        "query_order_status = \"\"\"\n",
        "SELECT Order_Status, COUNT(*) AS Order_Count\n",
        "FROM RetailData\n",
        "GROUP BY Order_Status;\n",
        "\"\"\"\n",
        "df_order_status = pd.read_sql_query(query_order_status, conn)\n",
        "df_order_status.to_csv(\"output_order_status.csv\", index=False)\n",
        "\n"
      ]
    },
    {
      "cell_type": "code",
      "execution_count": 72,
      "metadata": {},
      "outputs": [
        {
          "name": "stdout",
          "output_type": "stream",
          "text": [
            "✅ Exported CSVs for Power BI: city, monthly, order status, country\n"
          ]
        }
      ],
      "source": [
        "# Export 4: Country-level Sales (for Map + Table)\n",
        "query_country_sales = \"\"\"\n",
        "SELECT Country, SUM(Total_Amount) AS Total_Sales\n",
        "FROM RetailData\n",
        "GROUP BY Country\n",
        "ORDER BY Total_Sales DESC;\n",
        "\"\"\"\n",
        "df_country_sales = pd.read_sql_query(query_country_sales, conn)\n",
        "df_country_sales.to_csv(\"output_country_sales.csv\", index=False)\n",
        "\n",
        "print(\"✅ Exported CSVs for Power BI: city, monthly, order status, country\")\n"
      ]
    },
    {
      "cell_type": "markdown",
      "metadata": {},
      "source": [
        "Dashboard 2: Customer Insights"
      ]
    },
    {
      "cell_type": "markdown",
      "metadata": {},
      "source": [
        "-- SQL Practice Queries (for Viva)"
      ]
    },
    {
      "cell_type": "code",
      "execution_count": 73,
      "metadata": {},
      "outputs": [
        {
          "data": {
            "text/html": [
              "<div>\n",
              "<style scoped>\n",
              "    .dataframe tbody tr th:only-of-type {\n",
              "        vertical-align: middle;\n",
              "    }\n",
              "\n",
              "    .dataframe tbody tr th {\n",
              "        vertical-align: top;\n",
              "    }\n",
              "\n",
              "    .dataframe thead th {\n",
              "        text-align: right;\n",
              "    }\n",
              "</style>\n",
              "<table border=\"1\" class=\"dataframe\">\n",
              "  <thead>\n",
              "    <tr style=\"text-align: right;\">\n",
              "      <th></th>\n",
              "      <th>Gender_Group</th>\n",
              "      <th>Customer_Count</th>\n",
              "    </tr>\n",
              "  </thead>\n",
              "  <tbody>\n",
              "    <tr>\n",
              "      <th>0</th>\n",
              "      <td>Female</td>\n",
              "      <td>47341</td>\n",
              "    </tr>\n",
              "    <tr>\n",
              "      <th>1</th>\n",
              "      <td>Male</td>\n",
              "      <td>63405</td>\n",
              "    </tr>\n",
              "  </tbody>\n",
              "</table>\n",
              "</div>"
            ],
            "text/plain": [
              "  Gender_Group  Customer_Count\n",
              "0       Female           47341\n",
              "1         Male           63405"
            ]
          },
          "execution_count": 73,
          "metadata": {},
          "output_type": "execute_result"
        }
      ],
      "source": [
        "pd.read_sql_query(\"\"\"\n",
        "    SELECT\n",
        "        CASE\n",
        "            WHEN Gender = 'Male' THEN 'Male'\n",
        "            WHEN Gender = 'Female' THEN 'Female'\n",
        "            ELSE 'Unknown/Not Specified'\n",
        "        END AS Gender_Group,\n",
        "        COUNT(DISTINCT Customer_ID) AS Customer_Count\n",
        "    FROM\n",
        "        RetailData\n",
        "    GROUP BY\n",
        "        Gender_Group;\n",
        "\"\"\", conn)"
      ]
    },
    {
      "cell_type": "code",
      "execution_count": 74,
      "metadata": {},
      "outputs": [
        {
          "data": {
            "text/html": [
              "<div>\n",
              "<style scoped>\n",
              "    .dataframe tbody tr th:only-of-type {\n",
              "        vertical-align: middle;\n",
              "    }\n",
              "\n",
              "    .dataframe tbody tr th {\n",
              "        vertical-align: top;\n",
              "    }\n",
              "\n",
              "    .dataframe thead th {\n",
              "        text-align: right;\n",
              "    }\n",
              "</style>\n",
              "<table border=\"1\" class=\"dataframe\">\n",
              "  <thead>\n",
              "    <tr style=\"text-align: right;\">\n",
              "      <th></th>\n",
              "      <th>Customer_ID</th>\n",
              "      <th>Number_of_Genders</th>\n",
              "    </tr>\n",
              "  </thead>\n",
              "  <tbody>\n",
              "    <tr>\n",
              "      <th>0</th>\n",
              "      <td>10000</td>\n",
              "      <td>2</td>\n",
              "    </tr>\n",
              "    <tr>\n",
              "      <th>1</th>\n",
              "      <td>10001</td>\n",
              "      <td>2</td>\n",
              "    </tr>\n",
              "    <tr>\n",
              "      <th>2</th>\n",
              "      <td>10002</td>\n",
              "      <td>2</td>\n",
              "    </tr>\n",
              "    <tr>\n",
              "      <th>3</th>\n",
              "      <td>10009</td>\n",
              "      <td>2</td>\n",
              "    </tr>\n",
              "    <tr>\n",
              "      <th>4</th>\n",
              "      <td>10010</td>\n",
              "      <td>2</td>\n",
              "    </tr>\n",
              "    <tr>\n",
              "      <th>...</th>\n",
              "      <td>...</td>\n",
              "      <td>...</td>\n",
              "    </tr>\n",
              "    <tr>\n",
              "      <th>33471</th>\n",
              "      <td>99988</td>\n",
              "      <td>2</td>\n",
              "    </tr>\n",
              "    <tr>\n",
              "      <th>33472</th>\n",
              "      <td>99989</td>\n",
              "      <td>2</td>\n",
              "    </tr>\n",
              "    <tr>\n",
              "      <th>33473</th>\n",
              "      <td>99994</td>\n",
              "      <td>2</td>\n",
              "    </tr>\n",
              "    <tr>\n",
              "      <th>33474</th>\n",
              "      <td>99995</td>\n",
              "      <td>2</td>\n",
              "    </tr>\n",
              "    <tr>\n",
              "      <th>33475</th>\n",
              "      <td>99998</td>\n",
              "      <td>2</td>\n",
              "    </tr>\n",
              "  </tbody>\n",
              "</table>\n",
              "<p>33476 rows × 2 columns</p>\n",
              "</div>"
            ],
            "text/plain": [
              "       Customer_ID  Number_of_Genders\n",
              "0            10000                  2\n",
              "1            10001                  2\n",
              "2            10002                  2\n",
              "3            10009                  2\n",
              "4            10010                  2\n",
              "...            ...                ...\n",
              "33471        99988                  2\n",
              "33472        99989                  2\n",
              "33473        99994                  2\n",
              "33474        99995                  2\n",
              "33475        99998                  2\n",
              "\n",
              "[33476 rows x 2 columns]"
            ]
          },
          "execution_count": 74,
          "metadata": {},
          "output_type": "execute_result"
        }
      ],
      "source": [
        "# Find customers with inconsistent gender data\n",
        "pd.read_sql_query(\"\"\"\n",
        "    SELECT Customer_ID, COUNT(DISTINCT Gender) AS Number_of_Genders\n",
        "    FROM RetailData\n",
        "    GROUP BY Customer_ID\n",
        "    HAVING COUNT(DISTINCT Gender) > 1;\n",
        "\"\"\", conn)"
      ]
    },
    {
      "cell_type": "markdown",
      "metadata": {},
      "source": [
        "first query found that 33,476 customers have both 'Male' and 'Female' listed as their gender across different transactions. This is a very important finding about the inconsistency in my data."
      ]
    },
    {
      "cell_type": "code",
      "execution_count": 75,
      "metadata": {},
      "outputs": [
        {
          "data": {
            "text/html": [
              "<div>\n",
              "<style scoped>\n",
              "    .dataframe tbody tr th:only-of-type {\n",
              "        vertical-align: middle;\n",
              "    }\n",
              "\n",
              "    .dataframe tbody tr th {\n",
              "        vertical-align: top;\n",
              "    }\n",
              "\n",
              "    .dataframe thead th {\n",
              "        text-align: right;\n",
              "    }\n",
              "</style>\n",
              "<table border=\"1\" class=\"dataframe\">\n",
              "  <thead>\n",
              "    <tr style=\"text-align: right;\">\n",
              "      <th></th>\n",
              "      <th>Gender</th>\n",
              "      <th>True_Customer_Count</th>\n",
              "    </tr>\n",
              "  </thead>\n",
              "  <tbody>\n",
              "    <tr>\n",
              "      <th>0</th>\n",
              "      <td>Female</td>\n",
              "      <td>29227</td>\n",
              "    </tr>\n",
              "    <tr>\n",
              "      <th>1</th>\n",
              "      <td>Male</td>\n",
              "      <td>48043</td>\n",
              "    </tr>\n",
              "  </tbody>\n",
              "</table>\n",
              "</div>"
            ],
            "text/plain": [
              "   Gender  True_Customer_Count\n",
              "0  Female                29227\n",
              "1    Male                48043"
            ]
          },
          "execution_count": 75,
          "metadata": {},
          "output_type": "execute_result"
        }
      ],
      "source": [
        "# Correctly count customers by gender using their most recent transaction\n",
        "pd.read_sql_query(\"\"\"\n",
        "    WITH RankedTransactions AS (\n",
        "        SELECT\n",
        "            Customer_ID,\n",
        "            Gender,\n",
        "            -- Assign a rank to each customer's transactions, with #1 being the most recent\n",
        "            ROW_NUMBER() OVER(PARTITION BY Customer_ID ORDER BY Date DESC) as rn\n",
        "        FROM RetailData\n",
        "    )\n",
        "    -- Now, count only the #1 ranked (most recent) transaction for each customer\n",
        "    SELECT\n",
        "        Gender,\n",
        "        COUNT(Customer_ID) AS True_Customer_Count\n",
        "    FROM RankedTransactions\n",
        "    WHERE rn = 1\n",
        "    GROUP BY Gender;\n",
        "\"\"\", conn)"
      ]
    },
    {
      "cell_type": "markdown",
      "metadata": {},
      "source": [
        "\"The initial analysis revealed a data quality issue where 33,476 customers had inconsistent gender information. To create an accurate count, we assigned a single gender to each customer based on their most recent transaction, resulting in a final count of 48,043 male and 29,227 female customers.\""
      ]
    },
    {
      "cell_type": "code",
      "execution_count": 76,
      "metadata": {},
      "outputs": [
        {
          "name": "stdout",
          "output_type": "stream",
          "text": [
            "\n",
            "Customer Count per Segment:\n"
          ]
        },
        {
          "data": {
            "text/html": [
              "<div>\n",
              "<style scoped>\n",
              "    .dataframe tbody tr th:only-of-type {\n",
              "        vertical-align: middle;\n",
              "    }\n",
              "\n",
              "    .dataframe tbody tr th {\n",
              "        vertical-align: top;\n",
              "    }\n",
              "\n",
              "    .dataframe thead th {\n",
              "        text-align: right;\n",
              "    }\n",
              "</style>\n",
              "<table border=\"1\" class=\"dataframe\">\n",
              "  <thead>\n",
              "    <tr style=\"text-align: right;\">\n",
              "      <th></th>\n",
              "      <th>Customer_Segment</th>\n",
              "      <th>Customer_Count</th>\n",
              "    </tr>\n",
              "  </thead>\n",
              "  <tbody>\n",
              "    <tr>\n",
              "      <th>0</th>\n",
              "      <td>New</td>\n",
              "      <td>40343</td>\n",
              "    </tr>\n",
              "    <tr>\n",
              "      <th>1</th>\n",
              "      <td>Premium</td>\n",
              "      <td>30667</td>\n",
              "    </tr>\n",
              "    <tr>\n",
              "      <th>2</th>\n",
              "      <td>Regular</td>\n",
              "      <td>55514</td>\n",
              "    </tr>\n",
              "  </tbody>\n",
              "</table>\n",
              "</div>"
            ],
            "text/plain": [
              "  Customer_Segment  Customer_Count\n",
              "0              New           40343\n",
              "1          Premium           30667\n",
              "2          Regular           55514"
            ]
          },
          "metadata": {},
          "output_type": "display_data"
        }
      ],
      "source": [
        "# --- Viva Query 2 (Enhanced): Customer Count per Segment ---\n",
        "print(\"\\nCustomer Count per Segment:\")\n",
        "display(pd.read_sql_query(\"\"\"\n",
        "    SELECT\n",
        "        Customer_Segment,\n",
        "        COUNT(DISTINCT Customer_ID) AS Customer_Count\n",
        "    FROM\n",
        "        RetailData\n",
        "    GROUP BY\n",
        "        Customer_Segment;\n",
        "\"\"\", conn))"
      ]
    },
    {
      "cell_type": "code",
      "execution_count": 77,
      "metadata": {},
      "outputs": [
        {
          "name": "stdout",
          "output_type": "stream",
          "text": [
            "\n",
            "Top 25 Customers by Lifetime Spend:\n"
          ]
        },
        {
          "data": {
            "text/html": [
              "<div>\n",
              "<style scoped>\n",
              "    .dataframe tbody tr th:only-of-type {\n",
              "        vertical-align: middle;\n",
              "    }\n",
              "\n",
              "    .dataframe tbody tr th {\n",
              "        vertical-align: top;\n",
              "    }\n",
              "\n",
              "    .dataframe thead th {\n",
              "        text-align: right;\n",
              "    }\n",
              "</style>\n",
              "<table border=\"1\" class=\"dataframe\">\n",
              "  <thead>\n",
              "    <tr style=\"text-align: right;\">\n",
              "      <th></th>\n",
              "      <th>Customer_ID</th>\n",
              "      <th>Name</th>\n",
              "      <th>Email</th>\n",
              "      <th>Phone</th>\n",
              "      <th>Country</th>\n",
              "      <th>Lifetime_Spend</th>\n",
              "    </tr>\n",
              "  </thead>\n",
              "  <tbody>\n",
              "    <tr>\n",
              "      <th>0</th>\n",
              "      <td>80039</td>\n",
              "      <td>Morgan Oconnor</td>\n",
              "      <td>Kelly34@gmail.com</td>\n",
              "      <td>9.491553e+09</td>\n",
              "      <td>Canada</td>\n",
              "      <td>4999.17</td>\n",
              "    </tr>\n",
              "    <tr>\n",
              "      <th>1</th>\n",
              "      <td>37855</td>\n",
              "      <td>William Carroll</td>\n",
              "      <td>Dylan39@gmail.com</td>\n",
              "      <td>7.267759e+09</td>\n",
              "      <td>USA</td>\n",
              "      <td>4998.47</td>\n",
              "    </tr>\n",
              "    <tr>\n",
              "      <th>2</th>\n",
              "      <td>14994</td>\n",
              "      <td>Theresa Smith</td>\n",
              "      <td>Lisa31@gmail.com</td>\n",
              "      <td>3.973032e+09</td>\n",
              "      <td>Germany</td>\n",
              "      <td>4998.20</td>\n",
              "    </tr>\n",
              "    <tr>\n",
              "      <th>3</th>\n",
              "      <td>10139</td>\n",
              "      <td>Carrie Webb</td>\n",
              "      <td>Marc89@gmail.com</td>\n",
              "      <td>9.774314e+09</td>\n",
              "      <td>UK</td>\n",
              "      <td>4997.99</td>\n",
              "    </tr>\n",
              "    <tr>\n",
              "      <th>4</th>\n",
              "      <td>29062</td>\n",
              "      <td>Teresa Hogan</td>\n",
              "      <td>Shane18@gmail.com</td>\n",
              "      <td>7.751231e+09</td>\n",
              "      <td>USA</td>\n",
              "      <td>4997.83</td>\n",
              "    </tr>\n",
              "    <tr>\n",
              "      <th>5</th>\n",
              "      <td>68330</td>\n",
              "      <td>Janet Madden</td>\n",
              "      <td>David85@gmail.com</td>\n",
              "      <td>4.948684e+09</td>\n",
              "      <td>Australia</td>\n",
              "      <td>4997.71</td>\n",
              "    </tr>\n",
              "    <tr>\n",
              "      <th>6</th>\n",
              "      <td>42267</td>\n",
              "      <td>Jessica West</td>\n",
              "      <td>Laura57@gmail.com</td>\n",
              "      <td>4.025769e+09</td>\n",
              "      <td>UK</td>\n",
              "      <td>4997.43</td>\n",
              "    </tr>\n",
              "    <tr>\n",
              "      <th>7</th>\n",
              "      <td>42983</td>\n",
              "      <td>Edward Wade</td>\n",
              "      <td>Rodney73@gmail.com</td>\n",
              "      <td>8.964455e+09</td>\n",
              "      <td>USA</td>\n",
              "      <td>4997.01</td>\n",
              "    </tr>\n",
              "    <tr>\n",
              "      <th>8</th>\n",
              "      <td>91965</td>\n",
              "      <td>Jacob Romero</td>\n",
              "      <td>Brandon26@gmail.com</td>\n",
              "      <td>4.882429e+09</td>\n",
              "      <td>Australia</td>\n",
              "      <td>4996.76</td>\n",
              "    </tr>\n",
              "    <tr>\n",
              "      <th>9</th>\n",
              "      <td>75781</td>\n",
              "      <td>Julia Fitzgerald</td>\n",
              "      <td>Lisa63@gmail.com</td>\n",
              "      <td>6.917926e+09</td>\n",
              "      <td>Germany</td>\n",
              "      <td>4996.45</td>\n",
              "    </tr>\n",
              "    <tr>\n",
              "      <th>10</th>\n",
              "      <td>34907</td>\n",
              "      <td>Scott Johnson</td>\n",
              "      <td>Joseph22@gmail.com</td>\n",
              "      <td>2.493771e+09</td>\n",
              "      <td>Australia</td>\n",
              "      <td>4996.43</td>\n",
              "    </tr>\n",
              "    <tr>\n",
              "      <th>11</th>\n",
              "      <td>25407</td>\n",
              "      <td>Michael Hanna</td>\n",
              "      <td>Angela6@gmail.com</td>\n",
              "      <td>7.035033e+09</td>\n",
              "      <td>USA</td>\n",
              "      <td>4996.01</td>\n",
              "    </tr>\n",
              "    <tr>\n",
              "      <th>12</th>\n",
              "      <td>70432</td>\n",
              "      <td>Mark Joseph</td>\n",
              "      <td>Nancy86@gmail.com</td>\n",
              "      <td>8.354668e+09</td>\n",
              "      <td>Australia</td>\n",
              "      <td>4995.77</td>\n",
              "    </tr>\n",
              "    <tr>\n",
              "      <th>13</th>\n",
              "      <td>64872</td>\n",
              "      <td>Chad Ward</td>\n",
              "      <td>Anne23@gmail.com</td>\n",
              "      <td>7.290574e+09</td>\n",
              "      <td>Germany</td>\n",
              "      <td>4995.61</td>\n",
              "    </tr>\n",
              "    <tr>\n",
              "      <th>14</th>\n",
              "      <td>56160</td>\n",
              "      <td>Kristen Davis</td>\n",
              "      <td>Andrew18@gmail.com</td>\n",
              "      <td>5.271211e+09</td>\n",
              "      <td>Australia</td>\n",
              "      <td>4995.47</td>\n",
              "    </tr>\n",
              "    <tr>\n",
              "      <th>15</th>\n",
              "      <td>54655</td>\n",
              "      <td>Sheila Bell</td>\n",
              "      <td>Scott10@gmail.com</td>\n",
              "      <td>1.810368e+09</td>\n",
              "      <td>Germany</td>\n",
              "      <td>4995.12</td>\n",
              "    </tr>\n",
              "    <tr>\n",
              "      <th>16</th>\n",
              "      <td>57899</td>\n",
              "      <td>Dustin Robinson</td>\n",
              "      <td>Edwin8@gmail.com</td>\n",
              "      <td>1.346655e+09</td>\n",
              "      <td>Canada</td>\n",
              "      <td>4994.83</td>\n",
              "    </tr>\n",
              "    <tr>\n",
              "      <th>17</th>\n",
              "      <td>40684</td>\n",
              "      <td>Charles Dudley</td>\n",
              "      <td>Bobby65@gmail.com</td>\n",
              "      <td>3.343959e+09</td>\n",
              "      <td>USA</td>\n",
              "      <td>4994.76</td>\n",
              "    </tr>\n",
              "    <tr>\n",
              "      <th>18</th>\n",
              "      <td>50922</td>\n",
              "      <td>Kevin Dodson</td>\n",
              "      <td>Karen41@gmail.com</td>\n",
              "      <td>8.917511e+09</td>\n",
              "      <td>Germany</td>\n",
              "      <td>4994.66</td>\n",
              "    </tr>\n",
              "    <tr>\n",
              "      <th>19</th>\n",
              "      <td>12397</td>\n",
              "      <td>Christopher Smith</td>\n",
              "      <td>Nancy9@gmail.com</td>\n",
              "      <td>5.698594e+09</td>\n",
              "      <td>Germany</td>\n",
              "      <td>4994.64</td>\n",
              "    </tr>\n",
              "    <tr>\n",
              "      <th>20</th>\n",
              "      <td>30308</td>\n",
              "      <td>James Garrett</td>\n",
              "      <td>Edward74@gmail.com</td>\n",
              "      <td>2.305882e+09</td>\n",
              "      <td>UK</td>\n",
              "      <td>4994.46</td>\n",
              "    </tr>\n",
              "    <tr>\n",
              "      <th>21</th>\n",
              "      <td>40789</td>\n",
              "      <td>Sarah Baker</td>\n",
              "      <td>Jeffrey42@gmail.com</td>\n",
              "      <td>3.262688e+09</td>\n",
              "      <td>USA</td>\n",
              "      <td>4994.36</td>\n",
              "    </tr>\n",
              "    <tr>\n",
              "      <th>22</th>\n",
              "      <td>74172</td>\n",
              "      <td>Diane Thompson</td>\n",
              "      <td>Hector54@gmail.com</td>\n",
              "      <td>6.507145e+09</td>\n",
              "      <td>UK</td>\n",
              "      <td>4994.00</td>\n",
              "    </tr>\n",
              "    <tr>\n",
              "      <th>23</th>\n",
              "      <td>66767</td>\n",
              "      <td>Michael Flores</td>\n",
              "      <td>Alan97@gmail.com</td>\n",
              "      <td>2.508647e+09</td>\n",
              "      <td>Australia</td>\n",
              "      <td>4993.97</td>\n",
              "    </tr>\n",
              "    <tr>\n",
              "      <th>24</th>\n",
              "      <td>74232</td>\n",
              "      <td>Jamie Long</td>\n",
              "      <td>Debra76@gmail.com</td>\n",
              "      <td>5.053467e+09</td>\n",
              "      <td>Germany</td>\n",
              "      <td>4993.64</td>\n",
              "    </tr>\n",
              "  </tbody>\n",
              "</table>\n",
              "</div>"
            ],
            "text/plain": [
              "    Customer_ID               Name                Email         Phone  \\\n",
              "0         80039     Morgan Oconnor    Kelly34@gmail.com  9.491553e+09   \n",
              "1         37855    William Carroll    Dylan39@gmail.com  7.267759e+09   \n",
              "2         14994      Theresa Smith     Lisa31@gmail.com  3.973032e+09   \n",
              "3         10139        Carrie Webb     Marc89@gmail.com  9.774314e+09   \n",
              "4         29062       Teresa Hogan    Shane18@gmail.com  7.751231e+09   \n",
              "5         68330       Janet Madden    David85@gmail.com  4.948684e+09   \n",
              "6         42267       Jessica West    Laura57@gmail.com  4.025769e+09   \n",
              "7         42983        Edward Wade   Rodney73@gmail.com  8.964455e+09   \n",
              "8         91965       Jacob Romero  Brandon26@gmail.com  4.882429e+09   \n",
              "9         75781   Julia Fitzgerald     Lisa63@gmail.com  6.917926e+09   \n",
              "10        34907      Scott Johnson   Joseph22@gmail.com  2.493771e+09   \n",
              "11        25407      Michael Hanna    Angela6@gmail.com  7.035033e+09   \n",
              "12        70432        Mark Joseph    Nancy86@gmail.com  8.354668e+09   \n",
              "13        64872          Chad Ward     Anne23@gmail.com  7.290574e+09   \n",
              "14        56160      Kristen Davis   Andrew18@gmail.com  5.271211e+09   \n",
              "15        54655        Sheila Bell    Scott10@gmail.com  1.810368e+09   \n",
              "16        57899    Dustin Robinson     Edwin8@gmail.com  1.346655e+09   \n",
              "17        40684     Charles Dudley    Bobby65@gmail.com  3.343959e+09   \n",
              "18        50922       Kevin Dodson    Karen41@gmail.com  8.917511e+09   \n",
              "19        12397  Christopher Smith     Nancy9@gmail.com  5.698594e+09   \n",
              "20        30308      James Garrett   Edward74@gmail.com  2.305882e+09   \n",
              "21        40789        Sarah Baker  Jeffrey42@gmail.com  3.262688e+09   \n",
              "22        74172     Diane Thompson   Hector54@gmail.com  6.507145e+09   \n",
              "23        66767     Michael Flores     Alan97@gmail.com  2.508647e+09   \n",
              "24        74232         Jamie Long    Debra76@gmail.com  5.053467e+09   \n",
              "\n",
              "      Country  Lifetime_Spend  \n",
              "0      Canada         4999.17  \n",
              "1         USA         4998.47  \n",
              "2     Germany         4998.20  \n",
              "3          UK         4997.99  \n",
              "4         USA         4997.83  \n",
              "5   Australia         4997.71  \n",
              "6          UK         4997.43  \n",
              "7         USA         4997.01  \n",
              "8   Australia         4996.76  \n",
              "9     Germany         4996.45  \n",
              "10  Australia         4996.43  \n",
              "11        USA         4996.01  \n",
              "12  Australia         4995.77  \n",
              "13    Germany         4995.61  \n",
              "14  Australia         4995.47  \n",
              "15    Germany         4995.12  \n",
              "16     Canada         4994.83  \n",
              "17        USA         4994.76  \n",
              "18    Germany         4994.66  \n",
              "19    Germany         4994.64  \n",
              "20         UK         4994.46  \n",
              "21        USA         4994.36  \n",
              "22         UK         4994.00  \n",
              "23  Australia         4993.97  \n",
              "24    Germany         4993.64  "
            ]
          },
          "metadata": {},
          "output_type": "display_data"
        }
      ],
      "source": [
        "# --- Viva Query 3: Top 5 Customers by Spend (Enhanced) ---\n",
        "print(\"\\nTop 25 Customers by Lifetime Spend:\")\n",
        "display(pd.read_sql_query(\"\"\"\n",
        "    SELECT\n",
        "        Customer_ID,\n",
        "        Name,Email,Phone,Country,\n",
        "        ROUND(SUM(Total_Amount),2) AS Lifetime_Spend\n",
        "    FROM\n",
        "        RetailData\n",
        "    GROUP BY\n",
        "        Customer_ID, Name\n",
        "    ORDER BY\n",
        "        Lifetime_Spend DESC\n",
        "    LIMIT 25;\n",
        "\"\"\", conn))"
      ]
    },
    {
      "cell_type": "code",
      "execution_count": 78,
      "metadata": {},
      "outputs": [
        {
          "name": "stdout",
          "output_type": "stream",
          "text": [
            "\n",
            "Average Spend per Customer Segment:\n"
          ]
        },
        {
          "data": {
            "text/html": [
              "<div>\n",
              "<style scoped>\n",
              "    .dataframe tbody tr th:only-of-type {\n",
              "        vertical-align: middle;\n",
              "    }\n",
              "\n",
              "    .dataframe tbody tr th {\n",
              "        vertical-align: top;\n",
              "    }\n",
              "\n",
              "    .dataframe thead th {\n",
              "        text-align: right;\n",
              "    }\n",
              "</style>\n",
              "<table border=\"1\" class=\"dataframe\">\n",
              "  <thead>\n",
              "    <tr style=\"text-align: right;\">\n",
              "      <th></th>\n",
              "      <th>Customer_Segment</th>\n",
              "      <th>Average_Spend</th>\n",
              "    </tr>\n",
              "  </thead>\n",
              "  <tbody>\n",
              "    <tr>\n",
              "      <th>0</th>\n",
              "      <td>New</td>\n",
              "      <td>1369.516761</td>\n",
              "    </tr>\n",
              "    <tr>\n",
              "      <th>1</th>\n",
              "      <td>Premium</td>\n",
              "      <td>1367.402670</td>\n",
              "    </tr>\n",
              "    <tr>\n",
              "      <th>2</th>\n",
              "      <td>Regular</td>\n",
              "      <td>1367.517996</td>\n",
              "    </tr>\n",
              "  </tbody>\n",
              "</table>\n",
              "</div>"
            ],
            "text/plain": [
              "  Customer_Segment  Average_Spend\n",
              "0              New    1369.516761\n",
              "1          Premium    1367.402670\n",
              "2          Regular    1367.517996"
            ]
          },
          "metadata": {},
          "output_type": "display_data"
        }
      ],
      "source": [
        "# --- Viva Query 4: Average Spend per Customer Segment ---\n",
        "print(\"\\nAverage Spend per Customer Segment:\")\n",
        "display(pd.read_sql_query(\"\"\"\n",
        "    SELECT\n",
        "        Customer_Segment,\n",
        "        AVG(Total_Amount) AS Average_Spend\n",
        "    FROM\n",
        "        RetailData\n",
        "    GROUP BY\n",
        "        Customer_Segment;\n",
        "\"\"\", conn))"
      ]
    },
    {
      "cell_type": "code",
      "execution_count": 79,
      "metadata": {},
      "outputs": [
        {
          "name": "stdout",
          "output_type": "stream",
          "text": [
            "\n",
            "Customers with multiple income levels:\n"
          ]
        },
        {
          "data": {
            "text/html": [
              "<div>\n",
              "<style scoped>\n",
              "    .dataframe tbody tr th:only-of-type {\n",
              "        vertical-align: middle;\n",
              "    }\n",
              "\n",
              "    .dataframe tbody tr th {\n",
              "        vertical-align: top;\n",
              "    }\n",
              "\n",
              "    .dataframe thead th {\n",
              "        text-align: right;\n",
              "    }\n",
              "</style>\n",
              "<table border=\"1\" class=\"dataframe\">\n",
              "  <thead>\n",
              "    <tr style=\"text-align: right;\">\n",
              "      <th></th>\n",
              "      <th>Customer_ID</th>\n",
              "      <th>Number_of_Income_Levels</th>\n",
              "    </tr>\n",
              "  </thead>\n",
              "  <tbody>\n",
              "    <tr>\n",
              "      <th>0</th>\n",
              "      <td>10000</td>\n",
              "      <td>3</td>\n",
              "    </tr>\n",
              "    <tr>\n",
              "      <th>1</th>\n",
              "      <td>10001</td>\n",
              "      <td>3</td>\n",
              "    </tr>\n",
              "    <tr>\n",
              "      <th>2</th>\n",
              "      <td>10002</td>\n",
              "      <td>2</td>\n",
              "    </tr>\n",
              "    <tr>\n",
              "      <th>3</th>\n",
              "      <td>10006</td>\n",
              "      <td>2</td>\n",
              "    </tr>\n",
              "    <tr>\n",
              "      <th>4</th>\n",
              "      <td>10007</td>\n",
              "      <td>2</td>\n",
              "    </tr>\n",
              "    <tr>\n",
              "      <th>...</th>\n",
              "      <td>...</td>\n",
              "      <td>...</td>\n",
              "    </tr>\n",
              "    <tr>\n",
              "      <th>41732</th>\n",
              "      <td>99993</td>\n",
              "      <td>2</td>\n",
              "    </tr>\n",
              "    <tr>\n",
              "      <th>41733</th>\n",
              "      <td>99994</td>\n",
              "      <td>2</td>\n",
              "    </tr>\n",
              "    <tr>\n",
              "      <th>41734</th>\n",
              "      <td>99995</td>\n",
              "      <td>3</td>\n",
              "    </tr>\n",
              "    <tr>\n",
              "      <th>41735</th>\n",
              "      <td>99997</td>\n",
              "      <td>2</td>\n",
              "    </tr>\n",
              "    <tr>\n",
              "      <th>41736</th>\n",
              "      <td>99998</td>\n",
              "      <td>3</td>\n",
              "    </tr>\n",
              "  </tbody>\n",
              "</table>\n",
              "<p>41737 rows × 2 columns</p>\n",
              "</div>"
            ],
            "text/plain": [
              "       Customer_ID  Number_of_Income_Levels\n",
              "0            10000                        3\n",
              "1            10001                        3\n",
              "2            10002                        2\n",
              "3            10006                        2\n",
              "4            10007                        2\n",
              "...            ...                      ...\n",
              "41732        99993                        2\n",
              "41733        99994                        2\n",
              "41734        99995                        3\n",
              "41735        99997                        2\n",
              "41736        99998                        3\n",
              "\n",
              "[41737 rows x 2 columns]"
            ]
          },
          "metadata": {},
          "output_type": "display_data"
        }
      ],
      "source": [
        "# Find customers with inconsistent income data\n",
        "print(\"\\nCustomers with multiple income levels:\")\n",
        "display(pd.read_sql_query(\"\"\"\n",
        "    SELECT\n",
        "        Customer_ID,\n",
        "        COUNT(DISTINCT Income) AS Number_of_Income_Levels\n",
        "    FROM\n",
        "        RetailData\n",
        "    GROUP BY\n",
        "        Customer_ID\n",
        "    HAVING\n",
        "        COUNT(DISTINCT Income) > 1;\n",
        "\"\"\", conn))"
      ]
    },
    {
      "cell_type": "markdown",
      "metadata": {},
      "source": [
        "Why We Must Still Choose One Value?\n",
        "\n",
        "Even if the change is real, for your dashboard to work correctly, you must assign a single income level to each customer. Otherwise, a single customer could contribute to the sales totals for both the 'High' and 'Medium' income bars, which would make your analysis inaccurate.\n",
        "\n",
        "This is why the advanced query that uses ROW_NUMBER() is so important. By picking the Income from the most recent transaction, we are applying a consistent business rule to handle this inconsistency and get a clean, reliable result."
      ]
    },
    {
      "cell_type": "code",
      "execution_count": 80,
      "metadata": {},
      "outputs": [
        {
          "name": "stdout",
          "output_type": "stream",
          "text": [
            "\n",
            "High-Income Repeat Customers:\n"
          ]
        },
        {
          "data": {
            "text/html": [
              "<div>\n",
              "<style scoped>\n",
              "    .dataframe tbody tr th:only-of-type {\n",
              "        vertical-align: middle;\n",
              "    }\n",
              "\n",
              "    .dataframe tbody tr th {\n",
              "        vertical-align: top;\n",
              "    }\n",
              "\n",
              "    .dataframe thead th {\n",
              "        text-align: right;\n",
              "    }\n",
              "</style>\n",
              "<table border=\"1\" class=\"dataframe\">\n",
              "  <thead>\n",
              "    <tr style=\"text-align: right;\">\n",
              "      <th></th>\n",
              "      <th>Customer_ID</th>\n",
              "      <th>Name</th>\n",
              "      <th>Income</th>\n",
              "    </tr>\n",
              "  </thead>\n",
              "  <tbody>\n",
              "    <tr>\n",
              "      <th>0</th>\n",
              "      <td>10000</td>\n",
              "      <td>Thomas Thompson</td>\n",
              "      <td>High</td>\n",
              "    </tr>\n",
              "    <tr>\n",
              "      <th>1</th>\n",
              "      <td>10002</td>\n",
              "      <td>Christopher Chavez</td>\n",
              "      <td>High</td>\n",
              "    </tr>\n",
              "    <tr>\n",
              "      <th>2</th>\n",
              "      <td>10006</td>\n",
              "      <td>Wayne Mitchell</td>\n",
              "      <td>High</td>\n",
              "    </tr>\n",
              "    <tr>\n",
              "      <th>3</th>\n",
              "      <td>10010</td>\n",
              "      <td>Juan Navarro</td>\n",
              "      <td>High</td>\n",
              "    </tr>\n",
              "    <tr>\n",
              "      <th>4</th>\n",
              "      <td>10011</td>\n",
              "      <td>Amanda Collins</td>\n",
              "      <td>High</td>\n",
              "    </tr>\n",
              "    <tr>\n",
              "      <th>...</th>\n",
              "      <td>...</td>\n",
              "      <td>...</td>\n",
              "      <td>...</td>\n",
              "    </tr>\n",
              "    <tr>\n",
              "      <th>13140</th>\n",
              "      <td>99949</td>\n",
              "      <td>Patricia Austin</td>\n",
              "      <td>High</td>\n",
              "    </tr>\n",
              "    <tr>\n",
              "      <th>13141</th>\n",
              "      <td>99960</td>\n",
              "      <td>Marisa Sullivan</td>\n",
              "      <td>High</td>\n",
              "    </tr>\n",
              "    <tr>\n",
              "      <th>13142</th>\n",
              "      <td>99988</td>\n",
              "      <td>Erica Harris</td>\n",
              "      <td>High</td>\n",
              "    </tr>\n",
              "    <tr>\n",
              "      <th>13143</th>\n",
              "      <td>99993</td>\n",
              "      <td>Phillip Patterson</td>\n",
              "      <td>High</td>\n",
              "    </tr>\n",
              "    <tr>\n",
              "      <th>13144</th>\n",
              "      <td>99998</td>\n",
              "      <td>Tyler Jacobs</td>\n",
              "      <td>High</td>\n",
              "    </tr>\n",
              "  </tbody>\n",
              "</table>\n",
              "<p>13145 rows × 3 columns</p>\n",
              "</div>"
            ],
            "text/plain": [
              "       Customer_ID                Name Income\n",
              "0            10000     Thomas Thompson   High\n",
              "1            10002  Christopher Chavez   High\n",
              "2            10006      Wayne Mitchell   High\n",
              "3            10010        Juan Navarro   High\n",
              "4            10011      Amanda Collins   High\n",
              "...            ...                 ...    ...\n",
              "13140        99949     Patricia Austin   High\n",
              "13141        99960     Marisa Sullivan   High\n",
              "13142        99988        Erica Harris   High\n",
              "13143        99993   Phillip Patterson   High\n",
              "13144        99998        Tyler Jacobs   High\n",
              "\n",
              "[13145 rows x 3 columns]"
            ]
          },
          "metadata": {},
          "output_type": "display_data"
        }
      ],
      "source": [
        "# --- Viva Query 5: High-Income Repeat Customers (Corrected) ---\n",
        "print(\"\\nHigh-Income Repeat Customers:\")\n",
        "display(pd.read_sql_query(\"\"\"\n",
        "    WITH CustomerOrderCounts AS (\n",
        "        -- First, find all customers with more than one order\n",
        "        SELECT Customer_ID\n",
        "        FROM RetailData\n",
        "        GROUP BY Customer_ID\n",
        "        HAVING COUNT(Transaction_ID) > 1\n",
        "    ),\n",
        "    LatestCustomerInfo AS (\n",
        "        -- Second, find the most recent income status for every customer\n",
        "        SELECT\n",
        "            Customer_ID,\n",
        "            Name,\n",
        "            Income,\n",
        "            ROW_NUMBER() OVER(PARTITION BY Customer_ID ORDER BY Date DESC) as rn\n",
        "        FROM RetailData\n",
        "    )\n",
        "    -- Finally, join them to find customers who are in BOTH lists\n",
        "    SELECT\n",
        "        counts.Customer_ID,\n",
        "        info.Name,\n",
        "        info.Income\n",
        "    FROM CustomerOrderCounts counts\n",
        "    JOIN LatestCustomerInfo info ON counts.Customer_ID = info.Customer_ID\n",
        "    WHERE\n",
        "        info.rn = 1             -- Make sure we only use their most recent info\n",
        "        AND info.Income = 'High'; -- And that their most recent income status is 'High'\n",
        "\n",
        "\"\"\", conn))"
      ]
    },
    {
      "cell_type": "markdown",
      "metadata": {},
      "source": [
        " The key rule is simple: **Assume your data is inconsistent until you prove it's not.**\n",
        "\n",
        "A professional data analyst always starts with a healthy dose of skepticism. The core technique you've just learned is exactly how you check for these issues in any job.\n",
        "\n",
        "-----\n",
        "\n",
        "## The Key Rule: Profile Your Entities\n",
        "\n",
        "The fundamental rule is to **profile your primary entities**. An \"entity\" is a main subject in your data, like a **Customer**, a **Product**, or a **Store**. These entities are supposed to have stable attributes.\n",
        "\n",
        "Here is the mental checklist you should use on any new dataset:\n",
        "\n",
        "1.  **Identify Your Main Entity:** First, ask \"What is the main subject I'm analyzing?\" In your case, it's the `Customer_ID`.\n",
        "\n",
        "2.  **Identify Its Attributes:** Next, ask \"What are the characteristics that should be unique and stable for this customer?\" These are things like `Name`, `Gender`, `Income`, `Email`, etc.\n",
        "\n",
        "3.  **Check for Duplicates:** Finally, run a query to check if any single entity has more than one attribute. This is the exact query you just ran:\n",
        "\n",
        "    ```sql\n",
        "    -- The Universal Inconsistency Check}\n",
        "    SELECT\n",
        "        [Entity_ID], -- e.g., Customer_ID\n",
        "        COUNT(DISTINCT [Attribute_Column]) AS Number_of_Values\n",
        "    FROM\n",
        "        YourTable\n",
        "    GROUP BY\n",
        "        [Entity_ID]\n",
        "    HAVING\n",
        "        COUNT(DISTINCT [Attribute_Column]) > 1;\n",
        "    ```\n",
        "\n",
        "You would run this query for `Gender`, `Income`, `Name`, `Email`, or any other column that is supposed to be a fixed attribute of your customer. If any of these queries return a result, you've found an inconsistency that needs to be cleaned. "
      ]
    },
    {
      "cell_type": "markdown",
      "metadata": {},
      "source": [
        "-- SQL Queries for Power BI (Export as CSVs)"
      ]
    },
    {
      "cell_type": "code",
      "execution_count": 81,
      "metadata": {},
      "outputs": [
        {
          "name": "stdout",
          "output_type": "stream",
          "text": [
            "Exporting Customer Segment data...\n",
            "✅ output_segment_spend.csv exported successfully.\n"
          ]
        }
      ],
      "source": [
        "# --- EXPORT QUERIES FOR DASHBOARD 2 ---\n",
        "\n",
        "# Export 1: Customer Segment Spend\n",
        "print(\"Exporting Customer Segment data...\")\n",
        "query_segment_spend = \"\"\"\n",
        "    SELECT\n",
        "        Customer_Segment,\n",
        "        AVG(Total_Amount) AS Avg_Spend,\n",
        "        COUNT(DISTINCT Customer_ID) AS Customer_Count\n",
        "    FROM\n",
        "        RetailData\n",
        "    GROUP BY\n",
        "        Customer_Segment;\n",
        "\"\"\"\n",
        "df_segment_spend = pd.read_sql_query(query_segment_spend, conn)\n",
        "df_segment_spend.to_csv(\"output_segment_spend.csv\", index=False)\n",
        "\n",
        "print(\"✅ output_segment_spend.csv exported successfully.\")"
      ]
    },
    {
      "cell_type": "code",
      "execution_count": 82,
      "metadata": {},
      "outputs": [
        {
          "name": "stdout",
          "output_type": "stream",
          "text": [
            "\n",
            "Exporting Gender-based Spend data...\n",
            "✅ output_gender_spend.csv exported successfully.\n"
          ]
        }
      ],
      "source": [
        "# Export 2: Gender-based Spending Share (Corrected for Inconsistency)\n",
        "print(\"\\nExporting Gender-based Spend data...\")\n",
        "query_gender_spend = \"\"\"\n",
        "    WITH LatestCustomerGender AS (\n",
        "        -- Step 1: Find the single, most recent gender for each customer\n",
        "        SELECT\n",
        "            Customer_ID,\n",
        "            Gender,\n",
        "            ROW_NUMBER() OVER(PARTITION BY Customer_ID ORDER BY Date DESC) as rn\n",
        "        FROM RetailData\n",
        "        WHERE Gender IS NOT NULL AND Gender != ''\n",
        "    ),\n",
        "    DefinitiveGender AS (\n",
        "        SELECT Customer_ID, Gender\n",
        "        FROM LatestCustomerGender\n",
        "        WHERE rn = 1\n",
        "    )\n",
        "    -- Step 2: Join this definitive gender list back to all transactions\n",
        "    -- to sum the TOTAL spend for each gender group.\n",
        "    SELECT\n",
        "        dg.Gender,\n",
        "        SUM(rd.Total_Amount) AS Total_Spend\n",
        "    FROM RetailData rd\n",
        "    JOIN DefinitiveGender dg ON rd.Customer_ID = dg.Customer_ID\n",
        "    GROUP BY\n",
        "        dg.Gender;\n",
        "\"\"\"\n",
        "df_gender_spend = pd.read_sql_query(query_gender_spend, conn)\n",
        "df_gender_spend.to_csv(\"output_gender_spend.csv\", index=False)\n",
        "\n",
        "print(\"✅ output_gender_spend.csv exported successfully.\")"
      ]
    },
    {
      "cell_type": "markdown",
      "metadata": {},
      "source": [
        "business rule is: \"A customer's definitive gender is determined by their most recent transaction.\""
      ]
    },
    {
      "cell_type": "code",
      "execution_count": 83,
      "metadata": {},
      "outputs": [
        {
          "name": "stdout",
          "output_type": "stream",
          "text": [
            "   Gender   Total_Spend\n",
            "0  Female  9.171395e+07\n",
            "1    Male  1.508974e+08\n"
          ]
        }
      ],
      "source": [
        "print(df_gender_spend)"
      ]
    },
    {
      "cell_type": "markdown",
      "metadata": {},
      "source": [
        "\n",
        "\n",
        "Insight: Male Customer Segment Drives Significantly Higher Revenue\n",
        "The analysis reveals a substantial difference in the total revenue generated by different gender segments. After correcting for data inconsistencies, the customer base was categorized by their most recent gender identification to determine their total lifetime spend.\n",
        "\n",
        "The key findings are:\n",
        "\n",
        "Male Customers: Generated a total revenue of approximately 150.9 million.\n",
        "\n",
        "Female Customers: Generated a total revenue of approximately 91.7 million.\n",
        "\n",
        "This indicates that the male customer segment, despite potential data quality issues in the original dataset, accounts for roughly 62% of the total customer spend, making them the most financially significant demographic.\n",
        "\n",
        "Business Implication: This insight suggests a valuable opportunity for targeted marketing. Campaigns and product recommendations specifically tailored to the male customer base could yield a high return on investment."
      ]
    },
    {
      "cell_type": "code",
      "execution_count": 84,
      "metadata": {},
      "outputs": [
        {
          "name": "stdout",
          "output_type": "stream",
          "text": [
            "\n",
            "Exporting Income Distribution data...\n",
            "✅ output_income_distribution.csv exported successfully.\n"
          ]
        }
      ],
      "source": [
        "# Export 3: Income Distribution (Corrected for Inconsistency and Efficiency)\n",
        "print(\"\\nExporting Income Distribution data...\")\n",
        "query_income_dist = \"\"\"\n",
        "    WITH LatestCustomerInfo AS (\n",
        "        -- First, get the most recent income status for each customer\n",
        "        SELECT\n",
        "            Customer_ID,\n",
        "            Income,\n",
        "            ROW_NUMBER() OVER(PARTITION BY Customer_ID ORDER BY Date DESC) as rn\n",
        "        FROM RetailData\n",
        "        WHERE Income IS NOT NULL AND Income != ''\n",
        "    )\n",
        "    -- Now, count the customers in each income group\n",
        "    SELECT\n",
        "        Income,\n",
        "        COUNT(Customer_ID) AS Customer_Count\n",
        "    FROM LatestCustomerInfo\n",
        "    WHERE rn = 1\n",
        "    GROUP BY\n",
        "        Income;\n",
        "\"\"\"\n",
        "df_income_dist = pd.read_sql_query(query_income_dist, conn)\n",
        "df_income_dist.to_csv(\"output_income_distribution.csv\", index=False)\n",
        "\n",
        "print(\"✅ output_income_distribution.csv exported successfully.\")"
      ]
    },
    {
      "cell_type": "code",
      "execution_count": 85,
      "metadata": {},
      "outputs": [
        {
          "name": "stdout",
          "output_type": "stream",
          "text": [
            "   Income  Customer_Count\n",
            "0    High           19327\n",
            "1     Low           24401\n",
            "2  Medium           33542\n"
          ]
        }
      ],
      "source": [
        "print(df_income_dist)"
      ]
    },
    {
      "cell_type": "code",
      "execution_count": 86,
      "metadata": {},
      "outputs": [
        {
          "name": "stdout",
          "output_type": "stream",
          "text": [
            "Customers with multiple ages recorded:\n"
          ]
        },
        {
          "data": {
            "text/html": [
              "<div>\n",
              "<style scoped>\n",
              "    .dataframe tbody tr th:only-of-type {\n",
              "        vertical-align: middle;\n",
              "    }\n",
              "\n",
              "    .dataframe tbody tr th {\n",
              "        vertical-align: top;\n",
              "    }\n",
              "\n",
              "    .dataframe thead th {\n",
              "        text-align: right;\n",
              "    }\n",
              "</style>\n",
              "<table border=\"1\" class=\"dataframe\">\n",
              "  <thead>\n",
              "    <tr style=\"text-align: right;\">\n",
              "      <th></th>\n",
              "      <th>Customer_ID</th>\n",
              "      <th>Number_of_Ages</th>\n",
              "    </tr>\n",
              "  </thead>\n",
              "  <tbody>\n",
              "    <tr>\n",
              "      <th>0</th>\n",
              "      <td>10000</td>\n",
              "      <td>3</td>\n",
              "    </tr>\n",
              "    <tr>\n",
              "      <th>1</th>\n",
              "      <td>10001</td>\n",
              "      <td>4</td>\n",
              "    </tr>\n",
              "    <tr>\n",
              "      <th>2</th>\n",
              "      <td>10002</td>\n",
              "      <td>4</td>\n",
              "    </tr>\n",
              "    <tr>\n",
              "      <th>3</th>\n",
              "      <td>10006</td>\n",
              "      <td>2</td>\n",
              "    </tr>\n",
              "    <tr>\n",
              "      <th>4</th>\n",
              "      <td>10007</td>\n",
              "      <td>2</td>\n",
              "    </tr>\n",
              "    <tr>\n",
              "      <th>...</th>\n",
              "      <td>...</td>\n",
              "      <td>...</td>\n",
              "    </tr>\n",
              "    <tr>\n",
              "      <th>51256</th>\n",
              "      <td>99990</td>\n",
              "      <td>2</td>\n",
              "    </tr>\n",
              "    <tr>\n",
              "      <th>51257</th>\n",
              "      <td>99993</td>\n",
              "      <td>2</td>\n",
              "    </tr>\n",
              "    <tr>\n",
              "      <th>51258</th>\n",
              "      <td>99994</td>\n",
              "      <td>3</td>\n",
              "    </tr>\n",
              "    <tr>\n",
              "      <th>51259</th>\n",
              "      <td>99995</td>\n",
              "      <td>5</td>\n",
              "    </tr>\n",
              "    <tr>\n",
              "      <th>51260</th>\n",
              "      <td>99998</td>\n",
              "      <td>4</td>\n",
              "    </tr>\n",
              "  </tbody>\n",
              "</table>\n",
              "<p>51261 rows × 2 columns</p>\n",
              "</div>"
            ],
            "text/plain": [
              "       Customer_ID  Number_of_Ages\n",
              "0            10000               3\n",
              "1            10001               4\n",
              "2            10002               4\n",
              "3            10006               2\n",
              "4            10007               2\n",
              "...            ...             ...\n",
              "51256        99990               2\n",
              "51257        99993               2\n",
              "51258        99994               3\n",
              "51259        99995               5\n",
              "51260        99998               4\n",
              "\n",
              "[51261 rows x 2 columns]"
            ]
          },
          "metadata": {},
          "output_type": "display_data"
        }
      ],
      "source": [
        "# Find customers with inconsistent age data\n",
        "print(\"Customers with multiple ages recorded:\")\n",
        "display(pd.read_sql_query(\"\"\"\n",
        "    SELECT\n",
        "        Customer_ID,\n",
        "        COUNT(DISTINCT Age) AS Number_of_Ages\n",
        "    FROM\n",
        "        RetailData\n",
        "    GROUP BY\n",
        "        Customer_ID\n",
        "    HAVING\n",
        "        COUNT(DISTINCT Age) > 1;\n",
        "\"\"\", conn))"
      ]
    },
    {
      "cell_type": "code",
      "execution_count": 87,
      "metadata": {},
      "outputs": [
        {
          "name": "stdout",
          "output_type": "stream",
          "text": [
            "\n",
            "Exporting Age Group data...\n",
            "✅ output_age_purchases.csv exported successfully.\n"
          ]
        }
      ],
      "source": [
        "# Export 4: Age Group Analysis (Corrected for Inconsistency)\n",
        "print(\"\\nExporting Age Group data...\")\n",
        "query_age_purchases = \"\"\"\n",
        "    WITH LatestCustomerInfo AS (\n",
        "        -- First, get the most recent age for each unique customer\n",
        "        SELECT\n",
        "            Customer_ID,\n",
        "            Age,\n",
        "            ROW_NUMBER() OVER(PARTITION BY Customer_ID ORDER BY Date DESC) as rn\n",
        "        FROM RetailData\n",
        "        WHERE Age IS NOT NULL\n",
        "    )\n",
        "    -- Now, group these unique customers into age buckets\n",
        "    SELECT \n",
        "        CASE \n",
        "            WHEN Age BETWEEN 18 AND 25 THEN '18-25'\n",
        "            WHEN Age BETWEEN 26 AND 35 THEN '26-35'\n",
        "            WHEN Age BETWEEN 36 AND 50 THEN '36-50'\n",
        "            ELSE '51+' \n",
        "        END AS Age_Group,\n",
        "        COUNT(Customer_ID) AS Customer_Count\n",
        "    FROM LatestCustomerInfo\n",
        "    WHERE rn = 1\n",
        "    GROUP BY Age_Group\n",
        "    ORDER BY Age_Group;\n",
        "\"\"\"\n",
        "df_age_purchases = pd.read_sql_query(query_age_purchases, conn)\n",
        "df_age_purchases.to_csv(\"output_age_purchases.csv\", index=False)\n",
        "\n",
        "print(\"✅ output_age_purchases.csv exported successfully.\")"
      ]
    },
    {
      "cell_type": "code",
      "execution_count": 88,
      "metadata": {},
      "outputs": [
        {
          "name": "stdout",
          "output_type": "stream",
          "text": [
            "  Age_Group  Customer_Count\n",
            "0     18-25           29152\n",
            "1     26-35           16781\n",
            "2     36-50           17554\n",
            "3       51+           13783\n"
          ]
        }
      ],
      "source": [
        "print(df_age_purchases)"
      ]
    },
    {
      "cell_type": "code",
      "execution_count": 89,
      "metadata": {},
      "outputs": [],
      "source": [
        "# Export Query 5: Repeat vs. One-time Customers\n",
        "#The goal is to create a simple table that shows how many of your customers have made repeat purchases versus those who have only purchased once. This is a crucial metric for measuring customer loyalty."
      ]
    },
    {
      "cell_type": "code",
      "execution_count": 90,
      "metadata": {},
      "outputs": [
        {
          "name": "stdout",
          "output_type": "stream",
          "text": [
            "\n",
            "Exporting Repeat vs One-time Customer data...\n",
            "✅ output_repeat_customers.csv exported successfully.\n"
          ]
        }
      ],
      "source": [
        "# Export 5: Repeat vs One-time Customers (Corrected Query)\n",
        "print(\"\\nExporting Repeat vs One-time Customer data...\")\n",
        "query_repeat_customers = \"\"\"\n",
        "    WITH CustomerOrderCounts AS (\n",
        "        -- First, count the number of transactions for each customer\n",
        "        SELECT\n",
        "            Customer_ID,\n",
        "            COUNT(Transaction_ID) AS Order_Count\n",
        "        FROM RetailData\n",
        "        GROUP BY Customer_ID\n",
        "    )\n",
        "    -- Now, categorize each customer as 'Repeat' or 'One-time' and count them\n",
        "    SELECT\n",
        "        CASE\n",
        "            WHEN Order_Count > 1 THEN 'Repeat Customer'\n",
        "            ELSE 'One-time Customer'\n",
        "        END AS Customer_Type,\n",
        "        COUNT(Customer_ID) AS Number_of_Customers\n",
        "    FROM CustomerOrderCounts\n",
        "    GROUP BY Customer_Type;\n",
        "\"\"\"\n",
        "df_repeat_customers = pd.read_sql_query(query_repeat_customers, conn)\n",
        "df_repeat_customers.to_csv(\"output_repeat_customers.csv\", index=False)\n",
        "\n",
        "print(\"✅ output_repeat_customers.csv exported successfully.\")"
      ]
    },
    {
      "cell_type": "code",
      "execution_count": 91,
      "metadata": {},
      "outputs": [
        {
          "name": "stdout",
          "output_type": "stream",
          "text": [
            "       Customer_Type  Number_of_Customers\n",
            "0  One-time Customer                24565\n",
            "1    Repeat Customer                52705\n"
          ]
        }
      ],
      "source": [
        "print(df_repeat_customers)"
      ]
    },
    {
      "cell_type": "markdown",
      "metadata": {},
      "source": [
        "Dashboard 3: Product Performance & Preferences\n",
        "\n"
      ]
    },
    {
      "cell_type": "markdown",
      "metadata": {},
      "source": [
        "-- SQL Viva Queries: Product Analysis"
      ]
    },
    {
      "cell_type": "code",
      "execution_count": 92,
      "metadata": {},
      "outputs": [
        {
          "name": "stdout",
          "output_type": "stream",
          "text": [
            "Count of Unique Product Categories:\n"
          ]
        },
        {
          "data": {
            "text/html": [
              "<div>\n",
              "<style scoped>\n",
              "    .dataframe tbody tr th:only-of-type {\n",
              "        vertical-align: middle;\n",
              "    }\n",
              "\n",
              "    .dataframe tbody tr th {\n",
              "        vertical-align: top;\n",
              "    }\n",
              "\n",
              "    .dataframe thead th {\n",
              "        text-align: right;\n",
              "    }\n",
              "</style>\n",
              "<table border=\"1\" class=\"dataframe\">\n",
              "  <thead>\n",
              "    <tr style=\"text-align: right;\">\n",
              "      <th></th>\n",
              "      <th>Unique_Category_Count</th>\n",
              "    </tr>\n",
              "  </thead>\n",
              "  <tbody>\n",
              "    <tr>\n",
              "      <th>0</th>\n",
              "      <td>6</td>\n",
              "    </tr>\n",
              "  </tbody>\n",
              "</table>\n",
              "</div>"
            ],
            "text/plain": [
              "   Unique_Category_Count\n",
              "0                      6"
            ]
          },
          "metadata": {},
          "output_type": "display_data"
        }
      ],
      "source": [
        "# Count total number of unique product categories\n",
        "print(\"Count of Unique Product Categories:\")\n",
        "display(pd.read_sql_query(\"\"\"\n",
        "    SELECT COUNT(DISTINCT Product_Category) AS Unique_Category_Count\n",
        "    FROM RetailData;\n",
        "\"\"\", conn))"
      ]
    },
    {
      "cell_type": "code",
      "execution_count": 93,
      "metadata": {},
      "outputs": [
        {
          "name": "stdout",
          "output_type": "stream",
          "text": [
            "\n",
            "Count of Unique Product Brands:\n"
          ]
        },
        {
          "data": {
            "text/html": [
              "<div>\n",
              "<style scoped>\n",
              "    .dataframe tbody tr th:only-of-type {\n",
              "        vertical-align: middle;\n",
              "    }\n",
              "\n",
              "    .dataframe tbody tr th {\n",
              "        vertical-align: top;\n",
              "    }\n",
              "\n",
              "    .dataframe thead th {\n",
              "        text-align: right;\n",
              "    }\n",
              "</style>\n",
              "<table border=\"1\" class=\"dataframe\">\n",
              "  <thead>\n",
              "    <tr style=\"text-align: right;\">\n",
              "      <th></th>\n",
              "      <th>Unique_Brand_Count</th>\n",
              "    </tr>\n",
              "  </thead>\n",
              "  <tbody>\n",
              "    <tr>\n",
              "      <th>0</th>\n",
              "      <td>19</td>\n",
              "    </tr>\n",
              "  </tbody>\n",
              "</table>\n",
              "</div>"
            ],
            "text/plain": [
              "   Unique_Brand_Count\n",
              "0                  19"
            ]
          },
          "metadata": {},
          "output_type": "display_data"
        }
      ],
      "source": [
        "# Count total number of brands\n",
        "print(\"\\nCount of Unique Product Brands:\")\n",
        "display(pd.read_sql_query(\"\"\"\n",
        "    SELECT COUNT(DISTINCT Product_Brand) AS Unique_Brand_Count\n",
        "    FROM RetailData;\n",
        "\"\"\", conn))"
      ]
    },
    {
      "cell_type": "code",
      "execution_count": 94,
      "metadata": {},
      "outputs": [
        {
          "name": "stdout",
          "output_type": "stream",
          "text": [
            "\n",
            "Top 5 Product Categories by Revenue:\n"
          ]
        },
        {
          "data": {
            "text/html": [
              "<div>\n",
              "<style scoped>\n",
              "    .dataframe tbody tr th:only-of-type {\n",
              "        vertical-align: middle;\n",
              "    }\n",
              "\n",
              "    .dataframe tbody tr th {\n",
              "        vertical-align: top;\n",
              "    }\n",
              "\n",
              "    .dataframe thead th {\n",
              "        text-align: right;\n",
              "    }\n",
              "</style>\n",
              "<table border=\"1\" class=\"dataframe\">\n",
              "  <thead>\n",
              "    <tr style=\"text-align: right;\">\n",
              "      <th></th>\n",
              "      <th>Product_Category</th>\n",
              "      <th>Total_Sales</th>\n",
              "    </tr>\n",
              "  </thead>\n",
              "  <tbody>\n",
              "    <tr>\n",
              "      <th>0</th>\n",
              "      <td>Electronics</td>\n",
              "      <td>5.719251e+07</td>\n",
              "    </tr>\n",
              "    <tr>\n",
              "      <th>1</th>\n",
              "      <td>Grocery</td>\n",
              "      <td>5.396269e+07</td>\n",
              "    </tr>\n",
              "    <tr>\n",
              "      <th>2</th>\n",
              "      <td>Clothing</td>\n",
              "      <td>4.406375e+07</td>\n",
              "    </tr>\n",
              "    <tr>\n",
              "      <th>3</th>\n",
              "      <td>Books</td>\n",
              "      <td>4.366232e+07</td>\n",
              "    </tr>\n",
              "    <tr>\n",
              "      <th>4</th>\n",
              "      <td>Home Decor</td>\n",
              "      <td>4.352644e+07</td>\n",
              "    </tr>\n",
              "  </tbody>\n",
              "</table>\n",
              "</div>"
            ],
            "text/plain": [
              "  Product_Category   Total_Sales\n",
              "0      Electronics  5.719251e+07\n",
              "1          Grocery  5.396269e+07\n",
              "2         Clothing  4.406375e+07\n",
              "3            Books  4.366232e+07\n",
              "4       Home Decor  4.352644e+07"
            ]
          },
          "metadata": {},
          "output_type": "display_data"
        }
      ],
      "source": [
        "# Top 5 product categories by revenue\n",
        "print(\"\\nTop 5 Product Categories by Revenue:\")\n",
        "display(pd.read_sql_query(\"\"\"\n",
        "    SELECT Product_Category, SUM(Total_Amount) AS Total_Sales\n",
        "    FROM RetailData\n",
        "    GROUP BY Product_Category\n",
        "    ORDER BY Total_Sales DESC\n",
        "    LIMIT 5;\n",
        "\"\"\", conn))"
      ]
    },
    {
      "cell_type": "code",
      "execution_count": 95,
      "metadata": {},
      "outputs": [
        {
          "name": "stdout",
          "output_type": "stream",
          "text": [
            "\n",
            "Top 5 Brands by Number of Purchases:\n"
          ]
        },
        {
          "data": {
            "text/html": [
              "<div>\n",
              "<style scoped>\n",
              "    .dataframe tbody tr th:only-of-type {\n",
              "        vertical-align: middle;\n",
              "    }\n",
              "\n",
              "    .dataframe tbody tr th {\n",
              "        vertical-align: top;\n",
              "    }\n",
              "\n",
              "    .dataframe thead th {\n",
              "        text-align: right;\n",
              "    }\n",
              "</style>\n",
              "<table border=\"1\" class=\"dataframe\">\n",
              "  <thead>\n",
              "    <tr style=\"text-align: right;\">\n",
              "      <th></th>\n",
              "      <th>Product_Brand</th>\n",
              "      <th>Total_Purchases</th>\n",
              "    </tr>\n",
              "  </thead>\n",
              "  <tbody>\n",
              "    <tr>\n",
              "      <th>0</th>\n",
              "      <td>Pepsi</td>\n",
              "      <td>17977</td>\n",
              "    </tr>\n",
              "    <tr>\n",
              "      <th>1</th>\n",
              "      <td>Zara</td>\n",
              "      <td>10862</td>\n",
              "    </tr>\n",
              "    <tr>\n",
              "      <th>2</th>\n",
              "      <td>Adidas</td>\n",
              "      <td>10788</td>\n",
              "    </tr>\n",
              "    <tr>\n",
              "      <th>3</th>\n",
              "      <td>Coca-Cola</td>\n",
              "      <td>10732</td>\n",
              "    </tr>\n",
              "    <tr>\n",
              "      <th>4</th>\n",
              "      <td>HarperCollins</td>\n",
              "      <td>10710</td>\n",
              "    </tr>\n",
              "  </tbody>\n",
              "</table>\n",
              "</div>"
            ],
            "text/plain": [
              "   Product_Brand  Total_Purchases\n",
              "0          Pepsi            17977\n",
              "1           Zara            10862\n",
              "2         Adidas            10788\n",
              "3      Coca-Cola            10732\n",
              "4  HarperCollins            10710"
            ]
          },
          "metadata": {},
          "output_type": "display_data"
        }
      ],
      "source": [
        "# Top 5 brands by total purchases\n",
        "print(\"\\nTop 5 Brands by Number of Purchases:\")\n",
        "display(pd.read_sql_query(\"\"\"\n",
        "    SELECT Product_Brand, COUNT(Transaction_ID) AS Total_Purchases\n",
        "    FROM RetailData\n",
        "    GROUP BY Product_Brand\n",
        "    ORDER BY Total_Purchases DESC\n",
        "    LIMIT 5;\n",
        "\"\"\", conn))"
      ]
    },
    {
      "cell_type": "code",
      "execution_count": 96,
      "metadata": {},
      "outputs": [
        {
          "name": "stdout",
          "output_type": "stream",
          "text": [
            "\n",
            "Product Performance by Customer Segment:\n"
          ]
        },
        {
          "data": {
            "text/html": [
              "<div>\n",
              "<style scoped>\n",
              "    .dataframe tbody tr th:only-of-type {\n",
              "        vertical-align: middle;\n",
              "    }\n",
              "\n",
              "    .dataframe tbody tr th {\n",
              "        vertical-align: top;\n",
              "    }\n",
              "\n",
              "    .dataframe thead th {\n",
              "        text-align: right;\n",
              "    }\n",
              "</style>\n",
              "<table border=\"1\" class=\"dataframe\">\n",
              "  <thead>\n",
              "    <tr style=\"text-align: right;\">\n",
              "      <th></th>\n",
              "      <th>Customer_Segment</th>\n",
              "      <th>Product_Category</th>\n",
              "      <th>Total_Sales</th>\n",
              "    </tr>\n",
              "  </thead>\n",
              "  <tbody>\n",
              "    <tr>\n",
              "      <th>0</th>\n",
              "      <td>New</td>\n",
              "      <td>Grocery</td>\n",
              "      <td>1.649653e+07</td>\n",
              "    </tr>\n",
              "    <tr>\n",
              "      <th>1</th>\n",
              "      <td>New</td>\n",
              "      <td>Electronics</td>\n",
              "      <td>1.622066e+07</td>\n",
              "    </tr>\n",
              "    <tr>\n",
              "      <th>2</th>\n",
              "      <td>New</td>\n",
              "      <td>Clothing</td>\n",
              "      <td>1.366904e+07</td>\n",
              "    </tr>\n",
              "    <tr>\n",
              "      <th>3</th>\n",
              "      <td>New</td>\n",
              "      <td>Books</td>\n",
              "      <td>1.364439e+07</td>\n",
              "    </tr>\n",
              "    <tr>\n",
              "      <th>4</th>\n",
              "      <td>New</td>\n",
              "      <td>Home Decor</td>\n",
              "      <td>1.316812e+07</td>\n",
              "    </tr>\n",
              "    <tr>\n",
              "      <th>5</th>\n",
              "      <td>New</td>\n",
              "      <td>Misc</td>\n",
              "      <td>6.080448e+04</td>\n",
              "    </tr>\n",
              "    <tr>\n",
              "      <th>6</th>\n",
              "      <td>Premium</td>\n",
              "      <td>Grocery</td>\n",
              "      <td>1.245789e+07</td>\n",
              "    </tr>\n",
              "    <tr>\n",
              "      <th>7</th>\n",
              "      <td>Premium</td>\n",
              "      <td>Electronics</td>\n",
              "      <td>1.219732e+07</td>\n",
              "    </tr>\n",
              "    <tr>\n",
              "      <th>8</th>\n",
              "      <td>Premium</td>\n",
              "      <td>Clothing</td>\n",
              "      <td>9.016050e+06</td>\n",
              "    </tr>\n",
              "    <tr>\n",
              "      <th>9</th>\n",
              "      <td>Premium</td>\n",
              "      <td>Books</td>\n",
              "      <td>8.809095e+06</td>\n",
              "    </tr>\n",
              "    <tr>\n",
              "      <th>10</th>\n",
              "      <td>Premium</td>\n",
              "      <td>Home Decor</td>\n",
              "      <td>8.803092e+06</td>\n",
              "    </tr>\n",
              "    <tr>\n",
              "      <th>11</th>\n",
              "      <td>Premium</td>\n",
              "      <td>Misc</td>\n",
              "      <td>5.022421e+04</td>\n",
              "    </tr>\n",
              "    <tr>\n",
              "      <th>12</th>\n",
              "      <td>Regular</td>\n",
              "      <td>Electronics</td>\n",
              "      <td>2.877453e+07</td>\n",
              "    </tr>\n",
              "    <tr>\n",
              "      <th>13</th>\n",
              "      <td>Regular</td>\n",
              "      <td>Grocery</td>\n",
              "      <td>2.500827e+07</td>\n",
              "    </tr>\n",
              "    <tr>\n",
              "      <th>14</th>\n",
              "      <td>Regular</td>\n",
              "      <td>Home Decor</td>\n",
              "      <td>2.155522e+07</td>\n",
              "    </tr>\n",
              "    <tr>\n",
              "      <th>15</th>\n",
              "      <td>Regular</td>\n",
              "      <td>Clothing</td>\n",
              "      <td>2.137866e+07</td>\n",
              "    </tr>\n",
              "    <tr>\n",
              "      <th>16</th>\n",
              "      <td>Regular</td>\n",
              "      <td>Books</td>\n",
              "      <td>2.120884e+07</td>\n",
              "    </tr>\n",
              "    <tr>\n",
              "      <th>17</th>\n",
              "      <td>Regular</td>\n",
              "      <td>Misc</td>\n",
              "      <td>9.264829e+04</td>\n",
              "    </tr>\n",
              "  </tbody>\n",
              "</table>\n",
              "</div>"
            ],
            "text/plain": [
              "   Customer_Segment Product_Category   Total_Sales\n",
              "0               New          Grocery  1.649653e+07\n",
              "1               New      Electronics  1.622066e+07\n",
              "2               New         Clothing  1.366904e+07\n",
              "3               New            Books  1.364439e+07\n",
              "4               New       Home Decor  1.316812e+07\n",
              "5               New             Misc  6.080448e+04\n",
              "6           Premium          Grocery  1.245789e+07\n",
              "7           Premium      Electronics  1.219732e+07\n",
              "8           Premium         Clothing  9.016050e+06\n",
              "9           Premium            Books  8.809095e+06\n",
              "10          Premium       Home Decor  8.803092e+06\n",
              "11          Premium             Misc  5.022421e+04\n",
              "12          Regular      Electronics  2.877453e+07\n",
              "13          Regular          Grocery  2.500827e+07\n",
              "14          Regular       Home Decor  2.155522e+07\n",
              "15          Regular         Clothing  2.137866e+07\n",
              "16          Regular            Books  2.120884e+07\n",
              "17          Regular             Misc  9.264829e+04"
            ]
          },
          "metadata": {},
          "output_type": "display_data"
        }
      ],
      "source": [
        "# Product performance by customer segment (using available data)\n",
        "print(\"\\nProduct Performance by Customer Segment:\")\n",
        "display(pd.read_sql_query(\"\"\"\n",
        "    SELECT\n",
        "        Customer_Segment,\n",
        "        Product_Category,\n",
        "        SUM(Total_Amount) AS Total_Sales\n",
        "    FROM RetailData\n",
        "    GROUP BY\n",
        "        Customer_Segment, Product_Category\n",
        "    ORDER BY\n",
        "        Customer_Segment, Total_Sales DESC;\n",
        "\"\"\", conn))"
      ]
    },
    {
      "cell_type": "markdown",
      "metadata": {},
      "source": [
        "The analysis of revenue by product category reveals distinct purchasing patterns across different customer segments. While core categories like Grocery, Electronics, Clothing, and Books are popular among all groups, their relative importance changes significantly.\n",
        "\n",
        "New Customers: This segment's spending is led by Grocery and Electronics, indicating that initial purchases are often focused on essential or high-value tech items.\n",
        "\n",
        "Premium Customers: Spending for this group is also topped by Grocery and Electronics, but at a slightly lower scale, suggesting that while they value these categories, their overall spending might be more diversified.\n",
        "\n",
        "Regular Customers: This, the largest segment, shows a different priority. Electronics is the clear top category, followed by Grocery and Home Decor, highlighting that established customers are a key market for high-ticket electronic goods.\n",
        "\n",
        "This insight allows for targeted marketing, such as promoting electronic upgrades to the 'Regular' segment and offering grocery or book bundles to attract 'New' customers."
      ]
    },
    {
      "cell_type": "code",
      "execution_count": 97,
      "metadata": {},
      "outputs": [
        {
          "name": "stdout",
          "output_type": "stream",
          "text": [
            "\n",
            "Preferred Payment Method per Product Category:\n"
          ]
        },
        {
          "data": {
            "text/html": [
              "<div>\n",
              "<style scoped>\n",
              "    .dataframe tbody tr th:only-of-type {\n",
              "        vertical-align: middle;\n",
              "    }\n",
              "\n",
              "    .dataframe tbody tr th {\n",
              "        vertical-align: top;\n",
              "    }\n",
              "\n",
              "    .dataframe thead th {\n",
              "        text-align: right;\n",
              "    }\n",
              "</style>\n",
              "<table border=\"1\" class=\"dataframe\">\n",
              "  <thead>\n",
              "    <tr style=\"text-align: right;\">\n",
              "      <th></th>\n",
              "      <th>Product_Category</th>\n",
              "      <th>Payment_Method</th>\n",
              "      <th>Payment_Count</th>\n",
              "    </tr>\n",
              "  </thead>\n",
              "  <tbody>\n",
              "    <tr>\n",
              "      <th>0</th>\n",
              "      <td>Books</td>\n",
              "      <td>Credit Card</td>\n",
              "      <td>9323</td>\n",
              "    </tr>\n",
              "    <tr>\n",
              "      <th>1</th>\n",
              "      <td>Books</td>\n",
              "      <td>Debit Card</td>\n",
              "      <td>8399</td>\n",
              "    </tr>\n",
              "    <tr>\n",
              "      <th>2</th>\n",
              "      <td>Books</td>\n",
              "      <td>Cash</td>\n",
              "      <td>7531</td>\n",
              "    </tr>\n",
              "    <tr>\n",
              "      <th>3</th>\n",
              "      <td>Books</td>\n",
              "      <td>PayPal</td>\n",
              "      <td>6703</td>\n",
              "    </tr>\n",
              "    <tr>\n",
              "      <th>4</th>\n",
              "      <td>Books</td>\n",
              "      <td>Unknown</td>\n",
              "      <td>32</td>\n",
              "    </tr>\n",
              "    <tr>\n",
              "      <th>5</th>\n",
              "      <td>Clothing</td>\n",
              "      <td>Credit Card</td>\n",
              "      <td>9283</td>\n",
              "    </tr>\n",
              "    <tr>\n",
              "      <th>6</th>\n",
              "      <td>Clothing</td>\n",
              "      <td>Debit Card</td>\n",
              "      <td>8560</td>\n",
              "    </tr>\n",
              "    <tr>\n",
              "      <th>7</th>\n",
              "      <td>Clothing</td>\n",
              "      <td>Cash</td>\n",
              "      <td>7743</td>\n",
              "    </tr>\n",
              "    <tr>\n",
              "      <th>8</th>\n",
              "      <td>Clothing</td>\n",
              "      <td>PayPal</td>\n",
              "      <td>6645</td>\n",
              "    </tr>\n",
              "    <tr>\n",
              "      <th>9</th>\n",
              "      <td>Clothing</td>\n",
              "      <td>Unknown</td>\n",
              "      <td>35</td>\n",
              "    </tr>\n",
              "    <tr>\n",
              "      <th>10</th>\n",
              "      <td>Electronics</td>\n",
              "      <td>Credit Card</td>\n",
              "      <td>13799</td>\n",
              "    </tr>\n",
              "    <tr>\n",
              "      <th>11</th>\n",
              "      <td>Electronics</td>\n",
              "      <td>Cash</td>\n",
              "      <td>10431</td>\n",
              "    </tr>\n",
              "    <tr>\n",
              "      <th>12</th>\n",
              "      <td>Electronics</td>\n",
              "      <td>Debit Card</td>\n",
              "      <td>9684</td>\n",
              "    </tr>\n",
              "    <tr>\n",
              "      <th>13</th>\n",
              "      <td>Electronics</td>\n",
              "      <td>PayPal</td>\n",
              "      <td>7755</td>\n",
              "    </tr>\n",
              "    <tr>\n",
              "      <th>14</th>\n",
              "      <td>Electronics</td>\n",
              "      <td>Unknown</td>\n",
              "      <td>47</td>\n",
              "    </tr>\n",
              "    <tr>\n",
              "      <th>15</th>\n",
              "      <td>Grocery</td>\n",
              "      <td>Credit Card</td>\n",
              "      <td>11030</td>\n",
              "    </tr>\n",
              "    <tr>\n",
              "      <th>16</th>\n",
              "      <td>Grocery</td>\n",
              "      <td>Debit Card</td>\n",
              "      <td>10299</td>\n",
              "    </tr>\n",
              "    <tr>\n",
              "      <th>17</th>\n",
              "      <td>Grocery</td>\n",
              "      <td>Cash</td>\n",
              "      <td>9512</td>\n",
              "    </tr>\n",
              "    <tr>\n",
              "      <th>18</th>\n",
              "      <td>Grocery</td>\n",
              "      <td>PayPal</td>\n",
              "      <td>8503</td>\n",
              "    </tr>\n",
              "    <tr>\n",
              "      <th>19</th>\n",
              "      <td>Grocery</td>\n",
              "      <td>Unknown</td>\n",
              "      <td>28</td>\n",
              "    </tr>\n",
              "    <tr>\n",
              "      <th>20</th>\n",
              "      <td>Home Decor</td>\n",
              "      <td>Credit Card</td>\n",
              "      <td>9324</td>\n",
              "    </tr>\n",
              "    <tr>\n",
              "      <th>21</th>\n",
              "      <td>Home Decor</td>\n",
              "      <td>Debit Card</td>\n",
              "      <td>8329</td>\n",
              "    </tr>\n",
              "    <tr>\n",
              "      <th>22</th>\n",
              "      <td>Home Decor</td>\n",
              "      <td>Cash</td>\n",
              "      <td>7518</td>\n",
              "    </tr>\n",
              "    <tr>\n",
              "      <th>23</th>\n",
              "      <td>Home Decor</td>\n",
              "      <td>PayPal</td>\n",
              "      <td>6621</td>\n",
              "    </tr>\n",
              "    <tr>\n",
              "      <th>24</th>\n",
              "      <td>Home Decor</td>\n",
              "      <td>Unknown</td>\n",
              "      <td>41</td>\n",
              "    </tr>\n",
              "    <tr>\n",
              "      <th>25</th>\n",
              "      <td>Misc</td>\n",
              "      <td>Debit Card</td>\n",
              "      <td>43</td>\n",
              "    </tr>\n",
              "    <tr>\n",
              "      <th>26</th>\n",
              "      <td>Misc</td>\n",
              "      <td>Credit Card</td>\n",
              "      <td>41</td>\n",
              "    </tr>\n",
              "    <tr>\n",
              "      <th>27</th>\n",
              "      <td>Misc</td>\n",
              "      <td>Cash</td>\n",
              "      <td>40</td>\n",
              "    </tr>\n",
              "    <tr>\n",
              "      <th>28</th>\n",
              "      <td>Misc</td>\n",
              "      <td>PayPal</td>\n",
              "      <td>36</td>\n",
              "    </tr>\n",
              "  </tbody>\n",
              "</table>\n",
              "</div>"
            ],
            "text/plain": [
              "   Product_Category Payment_Method  Payment_Count\n",
              "0             Books    Credit Card           9323\n",
              "1             Books     Debit Card           8399\n",
              "2             Books           Cash           7531\n",
              "3             Books         PayPal           6703\n",
              "4             Books        Unknown             32\n",
              "5          Clothing    Credit Card           9283\n",
              "6          Clothing     Debit Card           8560\n",
              "7          Clothing           Cash           7743\n",
              "8          Clothing         PayPal           6645\n",
              "9          Clothing        Unknown             35\n",
              "10      Electronics    Credit Card          13799\n",
              "11      Electronics           Cash          10431\n",
              "12      Electronics     Debit Card           9684\n",
              "13      Electronics         PayPal           7755\n",
              "14      Electronics        Unknown             47\n",
              "15          Grocery    Credit Card          11030\n",
              "16          Grocery     Debit Card          10299\n",
              "17          Grocery           Cash           9512\n",
              "18          Grocery         PayPal           8503\n",
              "19          Grocery        Unknown             28\n",
              "20       Home Decor    Credit Card           9324\n",
              "21       Home Decor     Debit Card           8329\n",
              "22       Home Decor           Cash           7518\n",
              "23       Home Decor         PayPal           6621\n",
              "24       Home Decor        Unknown             41\n",
              "25             Misc     Debit Card             43\n",
              "26             Misc    Credit Card             41\n",
              "27             Misc           Cash             40\n",
              "28             Misc         PayPal             36"
            ]
          },
          "metadata": {},
          "output_type": "display_data"
        }
      ],
      "source": [
        "# Preferred payment method per product category\n",
        "print(\"\\nPreferred Payment Method per Product Category:\")\n",
        "display(pd.read_sql_query(\"\"\"\n",
        "    SELECT Product_Category, Payment_Method, COUNT(*) AS Payment_Count\n",
        "    FROM RetailData\n",
        "    GROUP BY Product_Category, Payment_Method\n",
        "    ORDER BY Product_Category, Payment_Count DESC;\n",
        "\"\"\", conn))"
      ]
    },
    {
      "cell_type": "code",
      "execution_count": 98,
      "metadata": {},
      "outputs": [
        {
          "name": "stdout",
          "output_type": "stream",
          "text": [
            "Checking for brands in multiple categories:\n"
          ]
        },
        {
          "data": {
            "text/html": [
              "<div>\n",
              "<style scoped>\n",
              "    .dataframe tbody tr th:only-of-type {\n",
              "        vertical-align: middle;\n",
              "    }\n",
              "\n",
              "    .dataframe tbody tr th {\n",
              "        vertical-align: top;\n",
              "    }\n",
              "\n",
              "    .dataframe thead th {\n",
              "        text-align: right;\n",
              "    }\n",
              "</style>\n",
              "<table border=\"1\" class=\"dataframe\">\n",
              "  <thead>\n",
              "    <tr style=\"text-align: right;\">\n",
              "      <th></th>\n",
              "      <th>Product_Brand</th>\n",
              "      <th>Number_of_Categories</th>\n",
              "    </tr>\n",
              "  </thead>\n",
              "  <tbody>\n",
              "    <tr>\n",
              "      <th>0</th>\n",
              "      <td>Adidas</td>\n",
              "      <td>2</td>\n",
              "    </tr>\n",
              "    <tr>\n",
              "      <th>1</th>\n",
              "      <td>Apple</td>\n",
              "      <td>2</td>\n",
              "    </tr>\n",
              "    <tr>\n",
              "      <th>2</th>\n",
              "      <td>Bed Bath &amp; Beyond</td>\n",
              "      <td>2</td>\n",
              "    </tr>\n",
              "    <tr>\n",
              "      <th>3</th>\n",
              "      <td>Coca-Cola</td>\n",
              "      <td>2</td>\n",
              "    </tr>\n",
              "    <tr>\n",
              "      <th>4</th>\n",
              "      <td>HarperCollins</td>\n",
              "      <td>2</td>\n",
              "    </tr>\n",
              "    <tr>\n",
              "      <th>5</th>\n",
              "      <td>Home Depot</td>\n",
              "      <td>2</td>\n",
              "    </tr>\n",
              "    <tr>\n",
              "      <th>6</th>\n",
              "      <td>IKEA</td>\n",
              "      <td>2</td>\n",
              "    </tr>\n",
              "    <tr>\n",
              "      <th>7</th>\n",
              "      <td>Nestle</td>\n",
              "      <td>2</td>\n",
              "    </tr>\n",
              "    <tr>\n",
              "      <th>8</th>\n",
              "      <td>Nike</td>\n",
              "      <td>2</td>\n",
              "    </tr>\n",
              "    <tr>\n",
              "      <th>9</th>\n",
              "      <td>Penguin Books</td>\n",
              "      <td>2</td>\n",
              "    </tr>\n",
              "    <tr>\n",
              "      <th>10</th>\n",
              "      <td>Pepsi</td>\n",
              "      <td>2</td>\n",
              "    </tr>\n",
              "    <tr>\n",
              "      <th>11</th>\n",
              "      <td>Random House</td>\n",
              "      <td>2</td>\n",
              "    </tr>\n",
              "    <tr>\n",
              "      <th>12</th>\n",
              "      <td>Samsung</td>\n",
              "      <td>2</td>\n",
              "    </tr>\n",
              "    <tr>\n",
              "      <th>13</th>\n",
              "      <td>Sony</td>\n",
              "      <td>2</td>\n",
              "    </tr>\n",
              "    <tr>\n",
              "      <th>14</th>\n",
              "      <td>Unknown</td>\n",
              "      <td>5</td>\n",
              "    </tr>\n",
              "    <tr>\n",
              "      <th>15</th>\n",
              "      <td>Zara</td>\n",
              "      <td>2</td>\n",
              "    </tr>\n",
              "  </tbody>\n",
              "</table>\n",
              "</div>"
            ],
            "text/plain": [
              "        Product_Brand  Number_of_Categories\n",
              "0              Adidas                     2\n",
              "1               Apple                     2\n",
              "2   Bed Bath & Beyond                     2\n",
              "3           Coca-Cola                     2\n",
              "4       HarperCollins                     2\n",
              "5          Home Depot                     2\n",
              "6                IKEA                     2\n",
              "7              Nestle                     2\n",
              "8                Nike                     2\n",
              "9       Penguin Books                     2\n",
              "10              Pepsi                     2\n",
              "11       Random House                     2\n",
              "12            Samsung                     2\n",
              "13               Sony                     2\n",
              "14            Unknown                     5\n",
              "15               Zara                     2"
            ]
          },
          "metadata": {},
          "output_type": "display_data"
        }
      ],
      "source": [
        "# Check for Product Brand inconsistency\n",
        "print(\"Checking for brands in multiple categories:\")\n",
        "display(pd.read_sql_query(\"\"\"\n",
        "    SELECT\n",
        "        Product_Brand,\n",
        "        COUNT(DISTINCT Product_Category) AS Number_of_Categories\n",
        "    FROM\n",
        "        RetailData\n",
        "    GROUP BY\n",
        "        Product_Brand\n",
        "    HAVING\n",
        "        COUNT(DISTINCT Product_Category) > 1;\n",
        "\"\"\", conn))"
      ]
    },
    {
      "cell_type": "markdown",
      "metadata": {},
      "source": [
        "Insight: Product Attribute Inconsistency\n",
        "The initial analysis revealed a data quality issue with product attributes. Several major brands, including Apple, Nike, and Samsung, were found to be associated with multiple different product categories, indicating inconsistent categorization in the source data. To ensure analytical accuracy, a clean Product Dimension Table will be created in Power BI."
      ]
    },
    {
      "cell_type": "markdown",
      "metadata": {},
      "source": [
        "-- Sql csv based queries"
      ]
    },
    {
      "cell_type": "code",
      "execution_count": 99,
      "metadata": {},
      "outputs": [
        {
          "name": "stdout",
          "output_type": "stream",
          "text": [
            "Exporting Top 10 Categories data...\n",
            "✅ output_top_categories.csv exported.\n"
          ]
        }
      ],
      "source": [
        "# Export 1: Top 10 Categories\n",
        "print(\"Exporting Top 10 Categories data...\")\n",
        "query_cat_sales = \"\"\"\n",
        "    SELECT Product_Category, SUM(Total_Amount) AS Total_Revenue\n",
        "    FROM RetailData\n",
        "    GROUP BY Product_Category\n",
        "    ORDER BY Total_Revenue DESC\n",
        "    LIMIT 10;\n",
        "\"\"\"\n",
        "df_cat_sales = pd.read_sql_query(query_cat_sales, conn)\n",
        "df_cat_sales.to_csv(\"output_top_categories.csv\", index=False)\n",
        "print(\"✅ output_top_categories.csv exported.\")"
      ]
    },
    {
      "cell_type": "code",
      "execution_count": 100,
      "metadata": {},
      "outputs": [
        {
          "name": "stdout",
          "output_type": "stream",
          "text": [
            "\n",
            "Exporting Top 10 Brands data...\n",
            "✅ output_top_brands.csv exported.\n"
          ]
        }
      ],
      "source": [
        "# Export 2: Top 10 Brands\n",
        "print(\"\\nExporting Top 10 Brands data...\")\n",
        "query_brand_sales = \"\"\"\n",
        "    SELECT Product_Brand, SUM(Total_Amount) AS Total_Revenue\n",
        "    FROM RetailData\n",
        "    GROUP BY Product_Brand\n",
        "    ORDER BY Total_Revenue DESC\n",
        "    LIMIT 10;\n",
        "\"\"\"\n",
        "df_brand_sales = pd.read_sql_query(query_brand_sales, conn)\n",
        "df_brand_sales.to_csv(\"output_top_brands.csv\", index=False)\n",
        "print(\"✅ output_top_brands.csv exported.\")"
      ]
    },
    {
      "cell_type": "code",
      "execution_count": 101,
      "metadata": {},
      "outputs": [
        {
          "name": "stdout",
          "output_type": "stream",
          "text": [
            "Count of Unique Product Types:\n"
          ]
        },
        {
          "data": {
            "text/html": [
              "<div>\n",
              "<style scoped>\n",
              "    .dataframe tbody tr th:only-of-type {\n",
              "        vertical-align: middle;\n",
              "    }\n",
              "\n",
              "    .dataframe tbody tr th {\n",
              "        vertical-align: top;\n",
              "    }\n",
              "\n",
              "    .dataframe thead th {\n",
              "        text-align: right;\n",
              "    }\n",
              "</style>\n",
              "<table border=\"1\" class=\"dataframe\">\n",
              "  <thead>\n",
              "    <tr style=\"text-align: right;\">\n",
              "      <th></th>\n",
              "      <th>Unique_Product_Type_Count</th>\n",
              "    </tr>\n",
              "  </thead>\n",
              "  <tbody>\n",
              "    <tr>\n",
              "      <th>0</th>\n",
              "      <td>33</td>\n",
              "    </tr>\n",
              "  </tbody>\n",
              "</table>\n",
              "</div>"
            ],
            "text/plain": [
              "   Unique_Product_Type_Count\n",
              "0                         33"
            ]
          },
          "metadata": {},
          "output_type": "display_data"
        }
      ],
      "source": [
        "# Count unique product types\n",
        "print(\"Count of Unique Product Types:\")\n",
        "display(pd.read_sql_query(\"\"\"\n",
        "    SELECT COUNT(DISTINCT Product_Type) AS Unique_Product_Type_Count\n",
        "    FROM RetailData;\n",
        "\"\"\", conn))"
      ]
    },
    {
      "cell_type": "code",
      "execution_count": 102,
      "metadata": {},
      "outputs": [
        {
          "name": "stdout",
          "output_type": "stream",
          "text": [
            "\n",
            "Top 5 Product Types by Revenue:\n"
          ]
        },
        {
          "data": {
            "text/html": [
              "<div>\n",
              "<style scoped>\n",
              "    .dataframe tbody tr th:only-of-type {\n",
              "        vertical-align: middle;\n",
              "    }\n",
              "\n",
              "    .dataframe tbody tr th {\n",
              "        vertical-align: top;\n",
              "    }\n",
              "\n",
              "    .dataframe thead th {\n",
              "        text-align: right;\n",
              "    }\n",
              "</style>\n",
              "<table border=\"1\" class=\"dataframe\">\n",
              "  <thead>\n",
              "    <tr style=\"text-align: right;\">\n",
              "      <th></th>\n",
              "      <th>Product_Type</th>\n",
              "      <th>Total_Sales</th>\n",
              "    </tr>\n",
              "  </thead>\n",
              "  <tbody>\n",
              "    <tr>\n",
              "      <th>0</th>\n",
              "      <td>Water</td>\n",
              "      <td>1.971176e+07</td>\n",
              "    </tr>\n",
              "    <tr>\n",
              "      <th>1</th>\n",
              "      <td>Smartphone</td>\n",
              "      <td>1.491832e+07</td>\n",
              "    </tr>\n",
              "    <tr>\n",
              "      <th>2</th>\n",
              "      <td>Fiction</td>\n",
              "      <td>1.457777e+07</td>\n",
              "    </tr>\n",
              "    <tr>\n",
              "      <th>3</th>\n",
              "      <td>Non-Fiction</td>\n",
              "      <td>1.453285e+07</td>\n",
              "    </tr>\n",
              "    <tr>\n",
              "      <th>4</th>\n",
              "      <td>Juice</td>\n",
              "      <td>9.910260e+06</td>\n",
              "    </tr>\n",
              "  </tbody>\n",
              "</table>\n",
              "</div>"
            ],
            "text/plain": [
              "  Product_Type   Total_Sales\n",
              "0        Water  1.971176e+07\n",
              "1   Smartphone  1.491832e+07\n",
              "2      Fiction  1.457777e+07\n",
              "3  Non-Fiction  1.453285e+07\n",
              "4        Juice  9.910260e+06"
            ]
          },
          "metadata": {},
          "output_type": "display_data"
        }
      ],
      "source": [
        "# Top 5 product types by revenue\n",
        "print(\"\\nTop 5 Product Types by Revenue:\")\n",
        "display(pd.read_sql_query(\"\"\"\n",
        "    SELECT Product_Type, SUM(Total_Amount) AS Total_Sales\n",
        "    FROM RetailData\n",
        "    GROUP BY Product_Type\n",
        "    ORDER BY Total_Sales DESC\n",
        "    LIMIT 5;\n",
        "\"\"\", conn))"
      ]
    },
    {
      "cell_type": "code",
      "execution_count": 103,
      "metadata": {},
      "outputs": [
        {
          "name": "stdout",
          "output_type": "stream",
          "text": [
            "\n",
            "Highest Rated Product Types:\n"
          ]
        },
        {
          "data": {
            "text/html": [
              "<div>\n",
              "<style scoped>\n",
              "    .dataframe tbody tr th:only-of-type {\n",
              "        vertical-align: middle;\n",
              "    }\n",
              "\n",
              "    .dataframe tbody tr th {\n",
              "        vertical-align: top;\n",
              "    }\n",
              "\n",
              "    .dataframe thead th {\n",
              "        text-align: right;\n",
              "    }\n",
              "</style>\n",
              "<table border=\"1\" class=\"dataframe\">\n",
              "  <thead>\n",
              "    <tr style=\"text-align: right;\">\n",
              "      <th></th>\n",
              "      <th>Product_Type</th>\n",
              "      <th>Average_Rating</th>\n",
              "      <th>Number_of_Sales</th>\n",
              "    </tr>\n",
              "  </thead>\n",
              "  <tbody>\n",
              "    <tr>\n",
              "      <th>0</th>\n",
              "      <td>BlueStar AC</td>\n",
              "      <td>4.380228</td>\n",
              "      <td>1315</td>\n",
              "    </tr>\n",
              "    <tr>\n",
              "      <th>1</th>\n",
              "      <td>Mitsubishi 1.5 Ton 3 Star Split AC</td>\n",
              "      <td>3.867944</td>\n",
              "      <td>3968</td>\n",
              "    </tr>\n",
              "    <tr>\n",
              "      <th>2</th>\n",
              "      <td>Fridge</td>\n",
              "      <td>3.465633</td>\n",
              "      <td>4452</td>\n",
              "    </tr>\n",
              "    <tr>\n",
              "      <th>3</th>\n",
              "      <td>Water</td>\n",
              "      <td>3.303141</td>\n",
              "      <td>14297</td>\n",
              "    </tr>\n",
              "    <tr>\n",
              "      <th>4</th>\n",
              "      <td>Shirt</td>\n",
              "      <td>3.156364</td>\n",
              "      <td>3575</td>\n",
              "    </tr>\n",
              "  </tbody>\n",
              "</table>\n",
              "</div>"
            ],
            "text/plain": [
              "                         Product_Type  Average_Rating  Number_of_Sales\n",
              "0                         BlueStar AC        4.380228             1315\n",
              "1  Mitsubishi 1.5 Ton 3 Star Split AC        3.867944             3968\n",
              "2                              Fridge        3.465633             4452\n",
              "3                               Water        3.303141            14297\n",
              "4                               Shirt        3.156364             3575"
            ]
          },
          "metadata": {},
          "output_type": "display_data"
        }
      ],
      "source": [
        "# Highest rated product types with more than 100 sales\n",
        "print(\"\\nHighest Rated Product Types:\")\n",
        "display(pd.read_sql_query(\"\"\"\n",
        "    SELECT\n",
        "        Product_Type,\n",
        "        AVG(Ratings) AS Average_Rating,\n",
        "        COUNT(Transaction_ID) AS Number_of_Sales\n",
        "    FROM\n",
        "        RetailData\n",
        "    GROUP BY\n",
        "        Product_Type\n",
        "    HAVING\n",
        "        COUNT(Transaction_ID) > 100\n",
        "    ORDER BY\n",
        "        Average_Rating DESC\n",
        "    LIMIT 5;\n",
        "\"\"\", conn))"
      ]
    },
    {
      "cell_type": "code",
      "execution_count": 104,
      "metadata": {},
      "outputs": [
        {
          "name": "stdout",
          "output_type": "stream",
          "text": [
            "Checking for products with multiple types:\n"
          ]
        },
        {
          "data": {
            "text/html": [
              "<div>\n",
              "<style scoped>\n",
              "    .dataframe tbody tr th:only-of-type {\n",
              "        vertical-align: middle;\n",
              "    }\n",
              "\n",
              "    .dataframe tbody tr th {\n",
              "        vertical-align: top;\n",
              "    }\n",
              "\n",
              "    .dataframe thead th {\n",
              "        text-align: right;\n",
              "    }\n",
              "</style>\n",
              "<table border=\"1\" class=\"dataframe\">\n",
              "  <thead>\n",
              "    <tr style=\"text-align: right;\">\n",
              "      <th></th>\n",
              "      <th>products</th>\n",
              "      <th>Number_of_Types</th>\n",
              "    </tr>\n",
              "  </thead>\n",
              "  <tbody>\n",
              "    <tr>\n",
              "      <th>0</th>\n",
              "      <td>Adventure</td>\n",
              "      <td>2</td>\n",
              "    </tr>\n",
              "    <tr>\n",
              "      <th>1</th>\n",
              "      <td>Cassette AC</td>\n",
              "      <td>2</td>\n",
              "    </tr>\n",
              "    <tr>\n",
              "      <th>2</th>\n",
              "      <td>Central AC</td>\n",
              "      <td>2</td>\n",
              "    </tr>\n",
              "    <tr>\n",
              "      <th>3</th>\n",
              "      <td>Ductless AC</td>\n",
              "      <td>2</td>\n",
              "    </tr>\n",
              "    <tr>\n",
              "      <th>4</th>\n",
              "      <td>Floor-standing AC</td>\n",
              "      <td>2</td>\n",
              "    </tr>\n",
              "    <tr>\n",
              "      <th>5</th>\n",
              "      <td>Inverter AC</td>\n",
              "      <td>2</td>\n",
              "    </tr>\n",
              "    <tr>\n",
              "      <th>6</th>\n",
              "      <td>Literary fiction</td>\n",
              "      <td>2</td>\n",
              "    </tr>\n",
              "    <tr>\n",
              "      <th>7</th>\n",
              "      <td>Mini-split AC</td>\n",
              "      <td>2</td>\n",
              "    </tr>\n",
              "    <tr>\n",
              "      <th>8</th>\n",
              "      <td>Mystery</td>\n",
              "      <td>2</td>\n",
              "    </tr>\n",
              "    <tr>\n",
              "      <th>9</th>\n",
              "      <td>Portable AC</td>\n",
              "      <td>2</td>\n",
              "    </tr>\n",
              "    <tr>\n",
              "      <th>10</th>\n",
              "      <td>Split AC</td>\n",
              "      <td>2</td>\n",
              "    </tr>\n",
              "    <tr>\n",
              "      <th>11</th>\n",
              "      <td>Window AC</td>\n",
              "      <td>2</td>\n",
              "    </tr>\n",
              "  </tbody>\n",
              "</table>\n",
              "</div>"
            ],
            "text/plain": [
              "             products  Number_of_Types\n",
              "0           Adventure                2\n",
              "1         Cassette AC                2\n",
              "2          Central AC                2\n",
              "3         Ductless AC                2\n",
              "4   Floor-standing AC                2\n",
              "5         Inverter AC                2\n",
              "6    Literary fiction                2\n",
              "7       Mini-split AC                2\n",
              "8             Mystery                2\n",
              "9         Portable AC                2\n",
              "10           Split AC                2\n",
              "11          Window AC                2"
            ]
          },
          "metadata": {},
          "output_type": "display_data"
        }
      ],
      "source": [
        "# Check for Product Type inconsistency\n",
        "print(\"Checking for products with multiple types:\")\n",
        "display(pd.read_sql_query(\"\"\"\n",
        "    SELECT\n",
        "        products,\n",
        "        COUNT(DISTINCT Product_Type) AS Number_of_Types\n",
        "    FROM\n",
        "        RetailData\n",
        "    GROUP BY\n",
        "        products\n",
        "    HAVING\n",
        "        COUNT(DISTINCT Product_Type) > 1;\n",
        "\"\"\", conn))"
      ]
    },
    {
      "cell_type": "markdown",
      "metadata": {},
      "source": [
        "It has successfully proven that you have an inconsistency in your Product_Type data.\n",
        "\n",
        "For example, the same product named \"Adventure\" is associated with two different Product_Type values in your dataset"
      ]
    },
    {
      "cell_type": "markdown",
      "metadata": {},
      "source": [
        "4th dashboard  \"Operational & Feedback Insights dashboard\""
      ]
    },
    {
      "cell_type": "markdown",
      "metadata": {},
      "source": [
        "1. Count Orders by Shipping Method:"
      ]
    },
    {
      "cell_type": "code",
      "execution_count": 105,
      "metadata": {},
      "outputs": [
        {
          "name": "stdout",
          "output_type": "stream",
          "text": [
            "Orders by Shipping Method:\n"
          ]
        },
        {
          "data": {
            "text/html": [
              "<div>\n",
              "<style scoped>\n",
              "    .dataframe tbody tr th:only-of-type {\n",
              "        vertical-align: middle;\n",
              "    }\n",
              "\n",
              "    .dataframe tbody tr th {\n",
              "        vertical-align: top;\n",
              "    }\n",
              "\n",
              "    .dataframe thead th {\n",
              "        text-align: right;\n",
              "    }\n",
              "</style>\n",
              "<table border=\"1\" class=\"dataframe\">\n",
              "  <thead>\n",
              "    <tr style=\"text-align: right;\">\n",
              "      <th></th>\n",
              "      <th>Shipping_Method</th>\n",
              "      <th>Orders</th>\n",
              "    </tr>\n",
              "  </thead>\n",
              "  <tbody>\n",
              "    <tr>\n",
              "      <th>0</th>\n",
              "      <td>Express</td>\n",
              "      <td>60061</td>\n",
              "    </tr>\n",
              "    <tr>\n",
              "      <th>1</th>\n",
              "      <td>Same-Day</td>\n",
              "      <td>60950</td>\n",
              "    </tr>\n",
              "    <tr>\n",
              "      <th>2</th>\n",
              "      <td>Standard</td>\n",
              "      <td>56324</td>\n",
              "    </tr>\n",
              "  </tbody>\n",
              "</table>\n",
              "</div>"
            ],
            "text/plain": [
              "  Shipping_Method  Orders\n",
              "0         Express   60061\n",
              "1        Same-Day   60950\n",
              "2        Standard   56324"
            ]
          },
          "metadata": {},
          "output_type": "display_data"
        }
      ],
      "source": [
        "# Count orders by shipping method\n",
        "print(\"Orders by Shipping Method:\")\n",
        "display(pd.read_sql_query(\"\"\"\n",
        "    SELECT Shipping_Method, COUNT(Transaction_ID) AS Orders\n",
        "    FROM RetailData\n",
        "    GROUP BY Shipping_Method;\n",
        "\"\"\", conn))"
      ]
    },
    {
      "cell_type": "markdown",
      "metadata": {},
      "source": [
        "Average Rating Overall:"
      ]
    },
    {
      "cell_type": "code",
      "execution_count": 106,
      "metadata": {},
      "outputs": [
        {
          "name": "stdout",
          "output_type": "stream",
          "text": [
            "\n",
            "Average Customer Rating:\n"
          ]
        },
        {
          "data": {
            "text/html": [
              "<div>\n",
              "<style scoped>\n",
              "    .dataframe tbody tr th:only-of-type {\n",
              "        vertical-align: middle;\n",
              "    }\n",
              "\n",
              "    .dataframe tbody tr th {\n",
              "        vertical-align: top;\n",
              "    }\n",
              "\n",
              "    .dataframe thead th {\n",
              "        text-align: right;\n",
              "    }\n",
              "</style>\n",
              "<table border=\"1\" class=\"dataframe\">\n",
              "  <thead>\n",
              "    <tr style=\"text-align: right;\">\n",
              "      <th></th>\n",
              "      <th>Average_Rating</th>\n",
              "    </tr>\n",
              "  </thead>\n",
              "  <tbody>\n",
              "    <tr>\n",
              "      <th>0</th>\n",
              "      <td>3.168844</td>\n",
              "    </tr>\n",
              "  </tbody>\n",
              "</table>\n",
              "</div>"
            ],
            "text/plain": [
              "   Average_Rating\n",
              "0        3.168844"
            ]
          },
          "metadata": {},
          "output_type": "display_data"
        }
      ],
      "source": [
        "# Average rating overall\n",
        "print(\"\\nAverage Customer Rating:\")\n",
        "display(pd.read_sql_query(\"\"\"\n",
        "    SELECT AVG(Ratings) as Average_Rating \n",
        "    FROM RetailData;\n",
        "\"\"\", conn))"
      ]
    },
    {
      "cell_type": "markdown",
      "metadata": {},
      "source": [
        "3. Payment Method Usage:"
      ]
    },
    {
      "cell_type": "code",
      "execution_count": 107,
      "metadata": {},
      "outputs": [
        {
          "name": "stdout",
          "output_type": "stream",
          "text": [
            "\n",
            "Payment Method Usage:\n"
          ]
        },
        {
          "data": {
            "text/html": [
              "<div>\n",
              "<style scoped>\n",
              "    .dataframe tbody tr th:only-of-type {\n",
              "        vertical-align: middle;\n",
              "    }\n",
              "\n",
              "    .dataframe tbody tr th {\n",
              "        vertical-align: top;\n",
              "    }\n",
              "\n",
              "    .dataframe thead th {\n",
              "        text-align: right;\n",
              "    }\n",
              "</style>\n",
              "<table border=\"1\" class=\"dataframe\">\n",
              "  <thead>\n",
              "    <tr style=\"text-align: right;\">\n",
              "      <th></th>\n",
              "      <th>Payment_Method</th>\n",
              "      <th>Method_Count</th>\n",
              "    </tr>\n",
              "  </thead>\n",
              "  <tbody>\n",
              "    <tr>\n",
              "      <th>0</th>\n",
              "      <td>Credit Card</td>\n",
              "      <td>52800</td>\n",
              "    </tr>\n",
              "    <tr>\n",
              "      <th>1</th>\n",
              "      <td>Debit Card</td>\n",
              "      <td>45314</td>\n",
              "    </tr>\n",
              "    <tr>\n",
              "      <th>2</th>\n",
              "      <td>Cash</td>\n",
              "      <td>42775</td>\n",
              "    </tr>\n",
              "    <tr>\n",
              "      <th>3</th>\n",
              "      <td>PayPal</td>\n",
              "      <td>36263</td>\n",
              "    </tr>\n",
              "    <tr>\n",
              "      <th>4</th>\n",
              "      <td>Unknown</td>\n",
              "      <td>183</td>\n",
              "    </tr>\n",
              "  </tbody>\n",
              "</table>\n",
              "</div>"
            ],
            "text/plain": [
              "  Payment_Method  Method_Count\n",
              "0    Credit Card         52800\n",
              "1     Debit Card         45314\n",
              "2           Cash         42775\n",
              "3         PayPal         36263\n",
              "4        Unknown           183"
            ]
          },
          "metadata": {},
          "output_type": "display_data"
        }
      ],
      "source": [
        "# Payment method usage\n",
        "print(\"\\nPayment Method Usage:\")\n",
        "display(pd.read_sql_query(\"\"\"\n",
        "    SELECT Payment_Method, COUNT(Transaction_ID) AS Method_Count\n",
        "    FROM RetailData\n",
        "    GROUP BY Payment_Method\n",
        "    ORDER BY Method_Count DESC;\n",
        "\"\"\", conn))"
      ]
    },
    {
      "cell_type": "markdown",
      "metadata": {},
      "source": [
        "4. Ratings Distribution:"
      ]
    },
    {
      "cell_type": "code",
      "execution_count": 108,
      "metadata": {},
      "outputs": [
        {
          "name": "stdout",
          "output_type": "stream",
          "text": [
            "\n",
            "Ratings Distribution:\n"
          ]
        },
        {
          "data": {
            "text/html": [
              "<div>\n",
              "<style scoped>\n",
              "    .dataframe tbody tr th:only-of-type {\n",
              "        vertical-align: middle;\n",
              "    }\n",
              "\n",
              "    .dataframe tbody tr th {\n",
              "        vertical-align: top;\n",
              "    }\n",
              "\n",
              "    .dataframe thead th {\n",
              "        text-align: right;\n",
              "    }\n",
              "</style>\n",
              "<table border=\"1\" class=\"dataframe\">\n",
              "  <thead>\n",
              "    <tr style=\"text-align: right;\">\n",
              "      <th></th>\n",
              "      <th>Ratings</th>\n",
              "      <th>Rating_Count</th>\n",
              "    </tr>\n",
              "  </thead>\n",
              "  <tbody>\n",
              "    <tr>\n",
              "      <th>0</th>\n",
              "      <td>1</td>\n",
              "      <td>25104</td>\n",
              "    </tr>\n",
              "    <tr>\n",
              "      <th>1</th>\n",
              "      <td>2</td>\n",
              "      <td>36701</td>\n",
              "    </tr>\n",
              "    <tr>\n",
              "      <th>2</th>\n",
              "      <td>3</td>\n",
              "      <td>28242</td>\n",
              "    </tr>\n",
              "    <tr>\n",
              "      <th>3</th>\n",
              "      <td>4</td>\n",
              "      <td>57725</td>\n",
              "    </tr>\n",
              "    <tr>\n",
              "      <th>4</th>\n",
              "      <td>5</td>\n",
              "      <td>29563</td>\n",
              "    </tr>\n",
              "  </tbody>\n",
              "</table>\n",
              "</div>"
            ],
            "text/plain": [
              "   Ratings  Rating_Count\n",
              "0        1         25104\n",
              "1        2         36701\n",
              "2        3         28242\n",
              "3        4         57725\n",
              "4        5         29563"
            ]
          },
          "metadata": {},
          "output_type": "display_data"
        }
      ],
      "source": [
        "# Ratings distribution\n",
        "print(\"\\nRatings Distribution:\")\n",
        "display(pd.read_sql_query(\"\"\"\n",
        "    SELECT Ratings, COUNT(Transaction_ID) AS Rating_Count\n",
        "    FROM RetailData\n",
        "    GROUP BY Ratings\n",
        "    ORDER BY Ratings;\n",
        "\"\"\", conn))"
      ]
    },
    {
      "cell_type": "markdown",
      "metadata": {},
      "source": [
        "5. Feedback Sentiment by Order Status:\n",
        "\n"
      ]
    },
    {
      "cell_type": "code",
      "execution_count": 109,
      "metadata": {},
      "outputs": [
        {
          "name": "stdout",
          "output_type": "stream",
          "text": [
            "\n",
            "Feedback Sentiment by Order Status:\n"
          ]
        },
        {
          "data": {
            "text/html": [
              "<div>\n",
              "<style scoped>\n",
              "    .dataframe tbody tr th:only-of-type {\n",
              "        vertical-align: middle;\n",
              "    }\n",
              "\n",
              "    .dataframe tbody tr th {\n",
              "        vertical-align: top;\n",
              "    }\n",
              "\n",
              "    .dataframe thead th {\n",
              "        text-align: right;\n",
              "    }\n",
              "</style>\n",
              "<table border=\"1\" class=\"dataframe\">\n",
              "  <thead>\n",
              "    <tr style=\"text-align: right;\">\n",
              "      <th></th>\n",
              "      <th>Order_Status</th>\n",
              "      <th>Feedback</th>\n",
              "      <th>Feedback_Count</th>\n",
              "    </tr>\n",
              "  </thead>\n",
              "  <tbody>\n",
              "    <tr>\n",
              "      <th>0</th>\n",
              "      <td>Delivered</td>\n",
              "      <td>Good</td>\n",
              "      <td>27151</td>\n",
              "    </tr>\n",
              "    <tr>\n",
              "      <th>1</th>\n",
              "      <td>Delivered</td>\n",
              "      <td>Excellent</td>\n",
              "      <td>24049</td>\n",
              "    </tr>\n",
              "    <tr>\n",
              "      <th>2</th>\n",
              "      <td>Delivered</td>\n",
              "      <td>Average</td>\n",
              "      <td>14663</td>\n",
              "    </tr>\n",
              "    <tr>\n",
              "      <th>3</th>\n",
              "      <td>Shipped</td>\n",
              "      <td>Excellent</td>\n",
              "      <td>13277</td>\n",
              "    </tr>\n",
              "    <tr>\n",
              "      <th>4</th>\n",
              "      <td>Processing</td>\n",
              "      <td>Excellent</td>\n",
              "      <td>13269</td>\n",
              "    </tr>\n",
              "    <tr>\n",
              "      <th>5</th>\n",
              "      <td>Delivered</td>\n",
              "      <td>Bad</td>\n",
              "      <td>11140</td>\n",
              "    </tr>\n",
              "    <tr>\n",
              "      <th>6</th>\n",
              "      <td>Shipped</td>\n",
              "      <td>Good</td>\n",
              "      <td>10975</td>\n",
              "    </tr>\n",
              "    <tr>\n",
              "      <th>7</th>\n",
              "      <td>Pending</td>\n",
              "      <td>Good</td>\n",
              "      <td>9022</td>\n",
              "    </tr>\n",
              "    <tr>\n",
              "      <th>8</th>\n",
              "      <td>Processing</td>\n",
              "      <td>Good</td>\n",
              "      <td>9018</td>\n",
              "    </tr>\n",
              "    <tr>\n",
              "      <th>9</th>\n",
              "      <td>Shipped</td>\n",
              "      <td>Average</td>\n",
              "      <td>8993</td>\n",
              "    </tr>\n",
              "    <tr>\n",
              "      <th>10</th>\n",
              "      <td>Pending</td>\n",
              "      <td>Excellent</td>\n",
              "      <td>8569</td>\n",
              "    </tr>\n",
              "    <tr>\n",
              "      <th>11</th>\n",
              "      <td>Processing</td>\n",
              "      <td>Average</td>\n",
              "      <td>6536</td>\n",
              "    </tr>\n",
              "    <tr>\n",
              "      <th>12</th>\n",
              "      <td>Pending</td>\n",
              "      <td>Average</td>\n",
              "      <td>6485</td>\n",
              "    </tr>\n",
              "    <tr>\n",
              "      <th>13</th>\n",
              "      <td>Shipped</td>\n",
              "      <td>Bad</td>\n",
              "      <td>4745</td>\n",
              "    </tr>\n",
              "    <tr>\n",
              "      <th>14</th>\n",
              "      <td>Processing</td>\n",
              "      <td>Bad</td>\n",
              "      <td>4706</td>\n",
              "    </tr>\n",
              "    <tr>\n",
              "      <th>15</th>\n",
              "      <td>Pending</td>\n",
              "      <td>Bad</td>\n",
              "      <td>4497</td>\n",
              "    </tr>\n",
              "    <tr>\n",
              "      <th>16</th>\n",
              "      <td>Delivered</td>\n",
              "      <td>Unknown</td>\n",
              "      <td>59</td>\n",
              "    </tr>\n",
              "    <tr>\n",
              "      <th>17</th>\n",
              "      <td>Unknown</td>\n",
              "      <td>Good</td>\n",
              "      <td>51</td>\n",
              "    </tr>\n",
              "    <tr>\n",
              "      <th>18</th>\n",
              "      <td>Unknown</td>\n",
              "      <td>Excellent</td>\n",
              "      <td>37</td>\n",
              "    </tr>\n",
              "    <tr>\n",
              "      <th>19</th>\n",
              "      <td>Unknown</td>\n",
              "      <td>Average</td>\n",
              "      <td>24</td>\n",
              "    </tr>\n",
              "    <tr>\n",
              "      <th>20</th>\n",
              "      <td>Shipped</td>\n",
              "      <td>Unknown</td>\n",
              "      <td>21</td>\n",
              "    </tr>\n",
              "    <tr>\n",
              "      <th>21</th>\n",
              "      <td>Processing</td>\n",
              "      <td>Unknown</td>\n",
              "      <td>20</td>\n",
              "    </tr>\n",
              "    <tr>\n",
              "      <th>22</th>\n",
              "      <td>Unknown</td>\n",
              "      <td>Bad</td>\n",
              "      <td>16</td>\n",
              "    </tr>\n",
              "    <tr>\n",
              "      <th>23</th>\n",
              "      <td>Pending</td>\n",
              "      <td>Unknown</td>\n",
              "      <td>12</td>\n",
              "    </tr>\n",
              "  </tbody>\n",
              "</table>\n",
              "</div>"
            ],
            "text/plain": [
              "   Order_Status   Feedback  Feedback_Count\n",
              "0     Delivered       Good           27151\n",
              "1     Delivered  Excellent           24049\n",
              "2     Delivered    Average           14663\n",
              "3       Shipped  Excellent           13277\n",
              "4    Processing  Excellent           13269\n",
              "5     Delivered        Bad           11140\n",
              "6       Shipped       Good           10975\n",
              "7       Pending       Good            9022\n",
              "8    Processing       Good            9018\n",
              "9       Shipped    Average            8993\n",
              "10      Pending  Excellent            8569\n",
              "11   Processing    Average            6536\n",
              "12      Pending    Average            6485\n",
              "13      Shipped        Bad            4745\n",
              "14   Processing        Bad            4706\n",
              "15      Pending        Bad            4497\n",
              "16    Delivered    Unknown              59\n",
              "17      Unknown       Good              51\n",
              "18      Unknown  Excellent              37\n",
              "19      Unknown    Average              24\n",
              "20      Shipped    Unknown              21\n",
              "21   Processing    Unknown              20\n",
              "22      Unknown        Bad              16\n",
              "23      Pending    Unknown              12"
            ]
          },
          "metadata": {},
          "output_type": "display_data"
        }
      ],
      "source": [
        "# Feedback sentiment by order status\n",
        "print(\"\\nFeedback Sentiment by Order Status:\")\n",
        "display(pd.read_sql_query(\"\"\"\n",
        "    SELECT Order_Status, Feedback, COUNT(Transaction_ID) AS Feedback_Count\n",
        "    FROM RetailData\n",
        "    GROUP BY Order_Status, Feedback\n",
        "    ORDER BY Feedback_Count DESC;\n",
        "\"\"\", conn))"
      ]
    },
    {
      "cell_type": "markdown",
      "metadata": {},
      "source": [
        "6. Average Rating by Shipping Method:"
      ]
    },
    {
      "cell_type": "code",
      "execution_count": 110,
      "metadata": {},
      "outputs": [
        {
          "name": "stdout",
          "output_type": "stream",
          "text": [
            "\n",
            "Average Rating by Shipping Method:\n"
          ]
        },
        {
          "data": {
            "text/html": [
              "<div>\n",
              "<style scoped>\n",
              "    .dataframe tbody tr th:only-of-type {\n",
              "        vertical-align: middle;\n",
              "    }\n",
              "\n",
              "    .dataframe tbody tr th {\n",
              "        vertical-align: top;\n",
              "    }\n",
              "\n",
              "    .dataframe thead th {\n",
              "        text-align: right;\n",
              "    }\n",
              "</style>\n",
              "<table border=\"1\" class=\"dataframe\">\n",
              "  <thead>\n",
              "    <tr style=\"text-align: right;\">\n",
              "      <th></th>\n",
              "      <th>Shipping_Method</th>\n",
              "      <th>Avg_Rating</th>\n",
              "    </tr>\n",
              "  </thead>\n",
              "  <tbody>\n",
              "    <tr>\n",
              "      <th>0</th>\n",
              "      <td>Same-Day</td>\n",
              "      <td>3.205349</td>\n",
              "    </tr>\n",
              "    <tr>\n",
              "      <th>1</th>\n",
              "      <td>Express</td>\n",
              "      <td>3.150697</td>\n",
              "    </tr>\n",
              "    <tr>\n",
              "      <th>2</th>\n",
              "      <td>Standard</td>\n",
              "      <td>3.148693</td>\n",
              "    </tr>\n",
              "  </tbody>\n",
              "</table>\n",
              "</div>"
            ],
            "text/plain": [
              "  Shipping_Method  Avg_Rating\n",
              "0        Same-Day    3.205349\n",
              "1         Express    3.150697\n",
              "2        Standard    3.148693"
            ]
          },
          "metadata": {},
          "output_type": "display_data"
        }
      ],
      "source": [
        "# Average rating by shipping method\n",
        "print(\"\\nAverage Rating by Shipping Method:\")\n",
        "display(pd.read_sql_query(\"\"\"\n",
        "    SELECT Shipping_Method, AVG(Ratings) AS Avg_Rating\n",
        "    FROM RetailData\n",
        "    GROUP BY Shipping_Method\n",
        "    ORDER BY Avg_Rating DESC;\n",
        "\"\"\", conn))"
      ]
    },
    {
      "cell_type": "markdown",
      "metadata": {},
      "source": [
        "7. Orders by Time Slot:"
      ]
    },
    {
      "cell_type": "code",
      "execution_count": 112,
      "metadata": {},
      "outputs": [
        {
          "name": "stdout",
          "output_type": "stream",
          "text": [
            "\n",
            "Orders by Time Slot:\n"
          ]
        },
        {
          "data": {
            "text/html": [
              "<div>\n",
              "<style scoped>\n",
              "    .dataframe tbody tr th:only-of-type {\n",
              "        vertical-align: middle;\n",
              "    }\n",
              "\n",
              "    .dataframe tbody tr th {\n",
              "        vertical-align: top;\n",
              "    }\n",
              "\n",
              "    .dataframe thead th {\n",
              "        text-align: right;\n",
              "    }\n",
              "</style>\n",
              "<table border=\"1\" class=\"dataframe\">\n",
              "  <thead>\n",
              "    <tr style=\"text-align: right;\">\n",
              "      <th></th>\n",
              "      <th>Time_Slot</th>\n",
              "      <th>Orders</th>\n",
              "    </tr>\n",
              "  </thead>\n",
              "  <tbody>\n",
              "    <tr>\n",
              "      <th>0</th>\n",
              "      <td>Night (9PM-5AM)</td>\n",
              "      <td>58820</td>\n",
              "    </tr>\n",
              "    <tr>\n",
              "      <th>1</th>\n",
              "      <td>Morning (5AM-12PM)</td>\n",
              "      <td>52041</td>\n",
              "    </tr>\n",
              "    <tr>\n",
              "      <th>2</th>\n",
              "      <td>Afternoon (12PM-5PM)</td>\n",
              "      <td>36639</td>\n",
              "    </tr>\n",
              "    <tr>\n",
              "      <th>3</th>\n",
              "      <td>Evening (5PM-9PM)</td>\n",
              "      <td>29835</td>\n",
              "    </tr>\n",
              "  </tbody>\n",
              "</table>\n",
              "</div>"
            ],
            "text/plain": [
              "              Time_Slot  Orders\n",
              "0       Night (9PM-5AM)   58820\n",
              "1    Morning (5AM-12PM)   52041\n",
              "2  Afternoon (12PM-5PM)   36639\n",
              "3     Evening (5PM-9PM)   29835"
            ]
          },
          "metadata": {},
          "output_type": "display_data"
        }
      ],
      "source": [
        "# Orders by Time Slot\n",
        "print(\"\\nOrders by Time Slot:\")\n",
        "display(pd.read_sql_query(\"\"\"\n",
        "    SELECT Time_Slot, COUNT(Transaction_ID) AS Orders\n",
        "    FROM RetailData\n",
        "    GROUP BY Time_Slot\n",
        "    ORDER BY Orders DESC;\n",
        "\"\"\", conn))"
      ]
    },
    {
      "cell_type": "markdown",
      "metadata": {},
      "source": [
        "--- EXPORT QUERIES FOR DASHBOARD 4 ---"
      ]
    },
    {
      "cell_type": "markdown",
      "metadata": {},
      "source": [
        "1. Shipping Method Analysis"
      ]
    },
    {
      "cell_type": "code",
      "execution_count": 115,
      "metadata": {},
      "outputs": [
        {
          "name": "stdout",
          "output_type": "stream",
          "text": [
            "Exporting Shipping Method data...\n",
            "output_shipping_method.csv exported.\n"
          ]
        }
      ],
      "source": [
        "print(\"Exporting Shipping Method data...\")\n",
        "query_shipping = \"\"\"\n",
        "    SELECT Shipping_Method, COUNT(Transaction_ID) AS Orders\n",
        "    FROM RetailData\n",
        "    GROUP BY Shipping_Method;\n",
        "\"\"\"\n",
        "df_shipping = pd.read_sql_query(query_shipping, conn)\n",
        "df_shipping.to_csv(\"output_shipping_method.csv\", index=False)\n",
        "print(\"output_shipping_method.csv exported.\")\n"
      ]
    },
    {
      "cell_type": "markdown",
      "metadata": {},
      "source": [
        "2. Payment Method Distribution"
      ]
    },
    {
      "cell_type": "code",
      "execution_count": 116,
      "metadata": {},
      "outputs": [
        {
          "name": "stdout",
          "output_type": "stream",
          "text": [
            "\n",
            "Exporting Payment Method data...\n",
            "output_payment_method.csv exported.\n"
          ]
        }
      ],
      "source": [
        "print(\"\\nExporting Payment Method data...\")\n",
        "query_payment = \"\"\"\n",
        "    SELECT Payment_Method, COUNT(Transaction_ID) AS Method_Count\n",
        "    FROM RetailData\n",
        "    GROUP BY Payment_Method;\n",
        "\"\"\"\n",
        "df_payment = pd.read_sql_query(query_payment, conn)\n",
        "df_payment.to_csv(\"output_payment_method.csv\", index=False)\n",
        "print(\"output_payment_method.csv exported.\")"
      ]
    },
    {
      "cell_type": "markdown",
      "metadata": {},
      "source": [
        "3. Ratings Distribution"
      ]
    },
    {
      "cell_type": "code",
      "execution_count": 117,
      "metadata": {},
      "outputs": [
        {
          "name": "stdout",
          "output_type": "stream",
          "text": [
            "\n",
            "Exporting Ratings Distribution data...\n",
            "output_ratings_distribution.csv exported.\n"
          ]
        }
      ],
      "source": [
        "print(\"\\nExporting Ratings Distribution data...\")\n",
        "query_ratings = \"\"\"\n",
        "    SELECT Ratings, COUNT(Transaction_ID) AS Rating_Count\n",
        "    FROM RetailData\n",
        "    GROUP BY Ratings\n",
        "    ORDER BY Ratings;\n",
        "\"\"\"\n",
        "df_ratings = pd.read_sql_query(query_ratings, conn)\n",
        "df_ratings.to_csv(\"output_ratings_distribution.csv\", index=False)\n",
        "print(\"output_ratings_distribution.csv exported.\")"
      ]
    },
    {
      "cell_type": "markdown",
      "metadata": {},
      "source": [
        "4. Orders by Time Slot"
      ]
    },
    {
      "cell_type": "code",
      "execution_count": 119,
      "metadata": {},
      "outputs": [
        {
          "name": "stdout",
          "output_type": "stream",
          "text": [
            "\n",
            "Exporting Time Slot data...\n",
            "output_timeslot_orders.csv exported.\n"
          ]
        }
      ],
      "source": [
        "print(\"\\nExporting Time Slot data...\")\n",
        "query_timeslot = \"\"\"\n",
        "    SELECT Time_Slot, COUNT(Transaction_ID) AS Orders\n",
        "    FROM RetailData\n",
        "    GROUP BY Time_Slot\n",
        "    ORDER BY Orders DESC;\n",
        "\"\"\"\n",
        "df_timeslot = pd.read_sql_query(query_timeslot, conn)\n",
        "df_timeslot.to_csv(\"output_timeslot_orders.csv\", index=False)\n",
        "print(\"output_timeslot_orders.csv exported.\")"
      ]
    },
    {
      "cell_type": "code",
      "execution_count": 121,
      "metadata": {},
      "outputs": [
        {
          "name": "stdout",
          "output_type": "stream",
          "text": [
            "\n",
            "gender by Avg Rating:\n"
          ]
        },
        {
          "data": {
            "text/html": [
              "<div>\n",
              "<style scoped>\n",
              "    .dataframe tbody tr th:only-of-type {\n",
              "        vertical-align: middle;\n",
              "    }\n",
              "\n",
              "    .dataframe tbody tr th {\n",
              "        vertical-align: top;\n",
              "    }\n",
              "\n",
              "    .dataframe thead th {\n",
              "        text-align: right;\n",
              "    }\n",
              "</style>\n",
              "<table border=\"1\" class=\"dataframe\">\n",
              "  <thead>\n",
              "    <tr style=\"text-align: right;\">\n",
              "      <th></th>\n",
              "      <th>Gender</th>\n",
              "      <th>rating</th>\n",
              "    </tr>\n",
              "  </thead>\n",
              "  <tbody>\n",
              "    <tr>\n",
              "      <th>0</th>\n",
              "      <td>Female</td>\n",
              "      <td>3.167748</td>\n",
              "    </tr>\n",
              "    <tr>\n",
              "      <th>1</th>\n",
              "      <td>Male</td>\n",
              "      <td>3.169513</td>\n",
              "    </tr>\n",
              "  </tbody>\n",
              "</table>\n",
              "</div>"
            ],
            "text/plain": [
              "   Gender    rating\n",
              "0  Female  3.167748\n",
              "1    Male  3.169513"
            ]
          },
          "metadata": {},
          "output_type": "display_data"
        }
      ],
      "source": [
        "print(\"\\ngender by Avg Rating:\")\n",
        "display(pd.read_sql_query(\"\"\"\n",
        "    SELECT gender, avg(ratings) AS rating\n",
        "    FROM RetailData\n",
        "    GROUP BY gender;\n",
        "\"\"\", conn))"
      ]
    },
    {
      "cell_type": "code",
      "execution_count": null,
      "metadata": {},
      "outputs": [],
      "source": []
    }
  ],
  "metadata": {
    "colab": {
      "provenance": []
    },
    "kernelspec": {
      "display_name": "Python 3",
      "name": "python3"
    },
    "language_info": {
      "codemirror_mode": {
        "name": "ipython",
        "version": 3
      },
      "file_extension": ".py",
      "mimetype": "text/x-python",
      "name": "python",
      "nbconvert_exporter": "python",
      "pygments_lexer": "ipython3",
      "version": "3.13.0"
    }
  },
  "nbformat": 4,
  "nbformat_minor": 0
}
